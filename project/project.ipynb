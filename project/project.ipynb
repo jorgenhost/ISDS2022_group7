{
 "cells": [
  {
   "cell_type": "markdown",
   "metadata": {},
   "source": [
    "# Project"
   ]
  },
  {
   "cell_type": "code",
   "execution_count": 1,
   "metadata": {},
   "outputs": [],
   "source": [
    "#  imports and set magics\n",
    "import numpy as np\n",
    "import pandas as pd\n",
    "import json\n",
    "import tqdm\n",
    "import time\n",
    "import datetime\n",
    "import os\n",
    "import requests\n",
    "from bs4 import BeautifulSoup\n",
    "import re\n",
    "import pyarrow"
   ]
  },
  {
   "cell_type": "markdown",
   "metadata": {},
   "source": [
    "# Project"
   ]
  },
  {
   "cell_type": "markdown",
   "metadata": {},
   "source": [
    "**Authors:** \n",
    "* Jørgen Baun Høst, pjz633@alumni.ku.dk\n",
    "* Marius Heltberg Lassen, pgb206@alumni.ku.dk"
   ]
  },
  {
   "cell_type": "markdown",
   "metadata": {},
   "source": [
    "This notebook contains the data extraction, data structuring and manipulation, calculations and figures for our project *Liar, liar, pants on fire? Fake news detection with supervised machine learning*."
   ]
  },
  {
   "cell_type": "markdown",
   "metadata": {},
   "source": [
    "Dependencies:"
   ]
  },
  {
   "cell_type": "code",
   "execution_count": 2,
   "metadata": {},
   "outputs": [],
   "source": [
    "# %pip install"
   ]
  },
  {
   "cell_type": "markdown",
   "metadata": {},
   "source": [
    "## Web scraping "
   ]
  },
  {
   "cell_type": "markdown",
   "metadata": {},
   "source": [
    "### Define functions:"
   ]
  },
  {
   "cell_type": "markdown",
   "metadata": {},
   "source": [
    "General functions:"
   ]
  },
  {
   "cell_type": "code",
   "execution_count": 3,
   "metadata": {},
   "outputs": [],
   "source": [
    "def log(response: requests.Response):\n",
    "    \"\"\"\n",
    "    Creates or appends a log-file with information from a `requests.get()`-call.\n",
    "    \n",
    "    The information gathered is:\n",
    "    - - - - - - - -\n",
    "        timestamp   :   Current local time.\n",
    "        status_code :   Status code from requests call.\n",
    "        length      :   Length of the HTML-string.\n",
    "        output_path :   Current working directory.\n",
    "        url         :   The URL of the response.\n",
    "    \"\"\"\n",
    "\n",
    "    # Open or create the csv file\n",
    "    if os.path.isfile('log'):\n",
    "        log = open('log','a')\n",
    "    else: \n",
    "        log = open('log','w')\n",
    "        header = ['timestamp', 'status_code', 'length', 'output_file', 'url'] # Header names\n",
    "        log.write(';'.join(header) + \"\\n\")\n",
    "        \n",
    "    # Gather log information\n",
    "    status_code = response.status_code # Status code from the request result\n",
    "    timestamp = time.strftime('%Y-%m-%d %H:%M:%S', time.localtime(time.time())) # Local time\n",
    "    length = len(response.text) # Length of the HTML-string\n",
    "    output_path = os.getcwd() # Output path\n",
    "    url = response.url # URL-string\n",
    "    \n",
    "    # Open the log file and append the gathered log information\n",
    "    with open('log','a') as log:\n",
    "        log.write(f'{timestamp};{status_code};{length};{output_path};{url}' + \"\\n\") \n",
    "\n",
    "\n",
    "def get_soup(url: str, header: dict) -> BeautifulSoup:\n",
    "    \"\"\"\n",
    "    Constructs a HTML-string from a request of the given URL. \n",
    "    Requests are logged, see `log()`. \n",
    "\n",
    "    Input:\n",
    "    - - - - - - - - \n",
    "    url (str)     :    URL of the website to receive the HTML-string from. \\n\n",
    "    header (dict) :    Dictionary to send in the query string for the request.\n",
    "\n",
    "    Returns:\n",
    "    - - - - - - - - \n",
    "    soup (BeautifulSoup) :  HTML-string in the class of BeutifulSoup with 'lxml' parser.\n",
    "    \"\"\"\n",
    "\n",
    "    response = requests.get(url, headers=header) # Request\n",
    "    log(response) # Log \n",
    "    soup = BeautifulSoup(response.content, 'lxml') # Convert to response to HTML\n",
    "\n",
    "    return soup\n",
    "\n",
    "\n",
    "def extract_articles_pf_pages(soup: BeautifulSoup) -> list:\n",
    "    \"\"\"\n",
    "    Extracts articles from HTML-string from the PolitiFact website.\n",
    "\n",
    "    Input:\n",
    "    - - - - - - - -\n",
    "    soup (BeautifulSoup) : HTML-string from the PolitiFact website.\n",
    "\n",
    "    Returns:\n",
    "    - - - - - - - - \n",
    "    list_of_articles (list) : A list of all articles in the given soup. \\n\n",
    "                              Each element is an article of data structure as BeautifulSoup.\n",
    "    \"\"\"\n",
    "    \n",
    "    articles = soup.find(class_='o-listicle__list') # Find section with articles\n",
    "    list_of_articles = articles.find_all('li') # Find all articles as a list\n",
    "\n",
    "    return list_of_articles"
   ]
  },
  {
   "cell_type": "markdown",
   "metadata": {},
   "source": [
    "PolitiFact functions:"
   ]
  },
  {
   "cell_type": "code",
   "execution_count": 4,
   "metadata": {},
   "outputs": [],
   "source": [
    "def create_url_pf_pages(page: int) -> str:\n",
    "    \"\"\"\n",
    "    Creates a PolitiFact URL with the given pagenumber.\n",
    "\n",
    "    Input:\n",
    "    - - - - - - - -\n",
    "    page (int) :    Pagenumber for the PolitiFact website.\n",
    "\n",
    "    Returns:\n",
    "    - - - - - - - -\n",
    "    url (str)  :    URL of the PolitiFact website for given page. \n",
    "    \"\"\"\n",
    "\n",
    "    url = f'https://www.politifact.com/factchecks/list/?page={page}' # Construct url with f-string\n",
    "\n",
    "    return url\n",
    "\n",
    "\n",
    "def extract_info_pf_pages(article: BeautifulSoup) -> list:\n",
    "    \"\"\"\n",
    "    Extracts all relevant information from one article on the article overview pages on the PolitiFact website.\n",
    "\n",
    "    Input:\n",
    "    - - - - - - - - \n",
    "    article (BeautifulSoup) :  Article to extract data from, see `extract_articles()`.\n",
    "\n",
    "    Returns:\n",
    "    - - - - - - - - \n",
    "    [name_txt, name_href, description_txt, quote_txt, quote_href, meter, footer] (list) \\n \n",
    "    The name and URL of the quoted person, the description of the quote, the quote itself \\n\n",
    "    and link hereof, the truthfulness index, and information on the article in string-format.\n",
    "    \"\"\"\n",
    "\n",
    "    # Statement name \n",
    "    name = article.find(class_='m-statement__name')\n",
    "    name_txt = name.text # name \n",
    "    name_href = name['href'] # href\n",
    "\n",
    "    # Statement description\n",
    "    description_txt = article.find(class_='m-statement__desc').text\n",
    "\n",
    "    # Statement quote\n",
    "    quote = article.find(class_='m-statement__quote').a\n",
    "    quote_txt = quote.text # name \n",
    "    quote_href = quote['href'] # href\n",
    "\n",
    "    # Statement meter\n",
    "    meter = article.find(class_='m-statement__meter').div.img['alt']\n",
    "\n",
    "    # Statement footer\n",
    "    footer = article.find(class_='m-statement__footer').text\n",
    "\n",
    "    return [name_txt, name_href, description_txt, quote_txt, quote_href, meter, footer]\n",
    "\n",
    "\n",
    "def data_pf_pages(startpage: int, endpage: int, header: dict, sleep: float) -> list:\n",
    "    \"\"\"\n",
    "    Compound function that scrapes an interval of pages from PolitiFact, extracts information for analysis, \\n\n",
    "    and logs requests in `log`-file. \n",
    "\n",
    "    Input:\n",
    "    - - - - - - - -\n",
    "    startpage (int)  :  The first page to scrape. \\n\n",
    "    endpage   (int)  :  The last page to scrape. \\n\n",
    "    header    (dict) :  Dictionary to send in the query string for the request. \\n\n",
    "    sleep     (float):  Seconds to sleep between each request.\n",
    "\n",
    "    Returns:\n",
    "    - - - - - - - -\n",
    "    list_of_output (list) : A list of lists, where each element list is the output of `extract_info()`.\n",
    "    errors         (list) : An error list containing the URLs for the pages where the error occured.\n",
    "    \"\"\"\n",
    "\n",
    "    list_of_output = [] # initialize empty list for dataframes\n",
    "    errors = [] \n",
    "\n",
    "    # Loop through pages and track progress with tqdm\n",
    "    for page in tqdm.tqdm(range(startpage, endpage+1)):\n",
    "        url = create_url_pf_pages(page) # create url\n",
    "\n",
    "        try: # circumvent problem with empty pages\n",
    "            soup = get_soup(url, header) # construct html\n",
    "            articles = extract_articles_pf_pages(soup) # extract articles \n",
    "\n",
    "            output = [] # initialize empty for articles \n",
    "\n",
    "            # Loop through articles \n",
    "            for article in articles:\n",
    "                info = extract_info_pf_pages(article) # extract relevant information\n",
    "                output.append(info) # append output\n",
    "            time.sleep(sleep)\n",
    "\n",
    "        except: # skip page\n",
    "            print(f'Error encountered on page {page}')\n",
    "            errors.append(url)\n",
    "            time.sleep(sleep)\n",
    "            continue\n",
    "\n",
    "        list_of_output.append(output)\n",
    "\n",
    "    return list_of_output, errors\n",
    "\n",
    "\n",
    "def extract_info_pf_articles(article: BeautifulSoup) -> list:\n",
    "    \"\"\"\n",
    "    A function that scrapes each individual article for relevant data. \\n\n",
    "\n",
    "    Input:\n",
    "    - - - - - - - -\n",
    "    article (BeautifulSoup) : BeatifulSoup element of article. \\n\n",
    "    \n",
    "    Returns:\n",
    "    - - - - - - - -\n",
    "    [tags, sub_header, text_body] : A list of of all relevant data from each politifact article.\n",
    "\n",
    "    \"\"\"\n",
    "\n",
    "    # Extract tags\n",
    "    tag_soup = article.find(class_='m-list m-list--horizontal')\\\n",
    "        .find_all('a') #Find all tags\n",
    "    \n",
    "    list_of_tags = [] #Create empty list for tags \n",
    "    \n",
    "    for tag in tag_soup:\n",
    "        list_of_tags.append(tag['title']) #Append each tag to list of tags\n",
    "\n",
    "    # Extract sub-header\n",
    "    sub_header = article.find(class_='c-title c-title--subline').text #conclusion by journalist\n",
    "\n",
    "    # Extract entire text body\n",
    "    text_block = article.find(class_='m-textblock') #Find article's body text\n",
    "    text_body = []\n",
    "\n",
    "    for paragraph in text_block.find_all('p'): #Find all paragraphs in article\n",
    "        text_body.append(paragraph.text) #append them to list\n",
    "\n",
    "    text_body=' '.join(text_body) #Convert to a single string\n",
    "\n",
    "    return [list_of_tags, sub_header, text_body]\n",
    "\n",
    "\n",
    "def data_pf_articles(list_of_href: list, header: dict, sleep: float) -> list:\n",
    "    \"\"\"\n",
    "    A compound function that scrapes relevant data from each article on politifact.com and stores this in a DataFrame. \\n\n",
    "\n",
    "    Input:\n",
    "    - - - - - - - -\n",
    "    list_of_href (list) :  A list of PolitiFact hyperlinks for each article to scrape. \\n\n",
    "    header       (dict) :  Dictionary to send in the query string for the request. \\n\n",
    "    sleep        (float):  Seconds to sleep between each request.\n",
    "    \n",
    "    Returns:\n",
    "    - - - - - - - -\n",
    "    list_of_output (list) : A list of lists, where each element list is the output of `get_article_data()` and the article href.\n",
    "    errors         (list) : An error list containing the URLs for the pages where the error occured.\n",
    "    \"\"\"\n",
    "\n",
    "    list_of_output = [] # Initialize empty output list \n",
    "    errors = []\n",
    "\n",
    "    # Loop through list of URls\n",
    "    for article_url in tqdm.tqdm(list_of_href): \n",
    "        full_url = 'https://www.politifact.com' + article_url\n",
    "        try:   \n",
    "            article = get_soup(full_url, header=header) #Get BeautifulSoup element for each article\n",
    "            article_data = extract_info_pf_articles(article) #Extract data from article\n",
    "            article_data.append(article_url) #Quote_href\n",
    "            list_of_output.append([article_data]) #Append data to output list\n",
    "            time.sleep(sleep)\n",
    "\n",
    "        except: \n",
    "            print(f'Error encountered at {full_url}')\n",
    "            errors.append(article_url)\n",
    "            time.sleep(sleep)\n",
    "            continue\n",
    "\n",
    "    return list_of_output, errors"
   ]
  },
  {
   "cell_type": "markdown",
   "metadata": {},
   "source": [
    "Peacedata.net functions:"
   ]
  },
  {
   "cell_type": "code",
   "execution_count": 5,
   "metadata": {},
   "outputs": [],
   "source": [
    "def extract_urls_pdn_pages(list_of_frontpage_url: str, header: dict, sleep: float) -> list:\n",
    "    set_of_article_url = set()\n",
    "    errors = set()\n",
    "    for frontpage_url in tqdm.tqdm(list_of_frontpage_url):\n",
    "        soup = get_soup(frontpage_url, header)\n",
    "        try:\n",
    "            section = soup.find(class_='jeg_main')\n",
    "            titles = section.findChildren(class_='jeg_thumb')\n",
    "            for title in titles:\n",
    "                article_url = title.a['href']\n",
    "                set_of_article_url.add(article_url) #Same approach as above\n",
    "                time.sleep(sleep)\n",
    "        except:\n",
    "            print(f'Error encountered at {frontpage_url}')\n",
    "            errors.add(frontpage_url)\n",
    "            time.sleep(sleep)\n",
    "            continue\n",
    "    return list(set_of_article_url), list(errors)\n",
    "\n",
    "\n",
    "def extract_info_pdn_articles(article: BeautifulSoup) -> list:\n",
    "    \n",
    "    title=article.find(class_='jeg_post_title').text #Extract title\n",
    "    \n",
    "    paragraphs = article.find(class_='entry-content no-share')\\\n",
    "        .find_all('p') #Extract all paragraphs\n",
    "    text_body = ' '.join([par.text for par in paragraphs])\n",
    "\n",
    "    tag_soup = article.find(class_='jeg_post_tags')\\\n",
    "        .find_all('a') #Find all tags in sup\n",
    "    tags = [tag.text for tag in tag_soup]\n",
    "    \n",
    "    return [title, paragraphs, tags] #Return as lists\n",
    "\n",
    "def data_pdn_(list_of_article_url: list, header: dict, sleep: float) -> pd.DataFrame:\n",
    "\n",
    "    list_of_output = [] # Initialize empty list for dataframes\n",
    "    errors = []\n",
    "\n",
    "    # Loop through list of URls\n",
    "    for article_url in tqdm.tqdm(list_of_article_url): \n",
    "        article_soup = get_soup(article_url, header=header).append(article_url) #Get BeautifulSoup element for each article\n",
    "\n",
    "        try:    \n",
    "            output = extract_info_pdn_articles(article_soup) #Extract data from article\n",
    "            list_of_output.append(output)\n",
    "            time.sleep(sleep) #Sleep for 0.5 seconds\n",
    "        \n",
    "        except:\n",
    "            print(f'Error encountered at {article_url}')\n",
    "            errors.append(article_url)\n",
    "            time.sleep(sleep)\n",
    "            continue\n",
    "\n",
    "    return list_of_output, errors"
   ]
  },
  {
   "cell_type": "markdown",
   "metadata": {},
   "source": [
    "### Scraping:"
   ]
  },
  {
   "cell_type": "code",
   "execution_count": 6,
   "metadata": {},
   "outputs": [],
   "source": [
    "# Make header: State names and (non-commerical/academic) intentions for data scraping\n",
    "header = {'name_1'   : 'Marius Heltberg Lassen',    'email_1' : 'pgb206@alumni.ku.dk', \n",
    "          'name_2'   : 'Jørgen Baun Høst',          'email_2' : 'pjz633@alumni.ku.dk',\n",
    "          'intention': 'Train supervised ML model for academic purposes'}"
   ]
  },
  {
   "cell_type": "markdown",
   "metadata": {},
   "source": [
    "#### Scrape PolitiFact"
   ]
  },
  {
   "cell_type": "code",
   "execution_count": 7,
   "metadata": {},
   "outputs": [],
   "source": [
    "# Load file if it exists\n",
    "if os.path.exists('data/data_pf.pq'):\n",
    "    data_pf = pd.read_parquet('data/data_pf.pq')\n",
    "\n",
    "# Or download data\n",
    "else:\n",
    "    # Scrape pages\n",
    "    pages, errors_pages = data_pf_pages(1, 728, header, 0.1)\n",
    "    pages_dfs_list = [pd.DataFrame(page, columns=['name_txt', 'name_href', 'description_txt', 'quote_txt', 'quote_href', 'meter', 'footer']) for page in pages]\n",
    "    pages_df = pd.concat(pages_dfs_list)\n",
    "\n",
    "    # Scrape articles\n",
    "    articles, errors_articles = data_pf_articles(pages_df['quote_href'], header, 0.1)\n",
    "    articles_dfs_list = [pd.DataFrame(article, columns=['list_of_tags', 'sub_header', 'text_body', 'quote_href']) for article in articles]\n",
    "    articles_df = pd.concat(articles_dfs_list)\n",
    "\n",
    "    # Merge data and save\n",
    "    data_pf = pd.merge(pages_df, articles_df, how='left', on='quote_href')\n",
    "    if not os.path.exists(os.getcwd() + '/data/'):\n",
    "        os.makedirs(os.getcwd() + '/data/')\n",
    "    data_pf.to_parquet('data/data_pf.pq')"
   ]
  },
  {
   "cell_type": "markdown",
   "metadata": {},
   "source": [
    "**Check error lists:**\n",
    "* By checking the error pages manually, we find that they are empty. Hence, we have not lost any data by skipping them.\n",
    "* By checking the error articles manually, we find that they have a different html structure. Append information manually or drop rows by running \n",
    ">```python \n",
    "> for error in errors_articles:\n",
    ">    data[data['quote_href'] == error] = some_list_of_information\n",
    "> # OR\n",
    "> data = data[~data['quote_href'].isin(errors_articles)]\n",
    ">```"
   ]
  },
  {
   "cell_type": "markdown",
   "metadata": {},
   "source": [
    "#### Scrape PeaceData"
   ]
  },
  {
   "cell_type": "code",
   "execution_count": 8,
   "metadata": {},
   "outputs": [],
   "source": [
    "# Load file if it exists\n",
    "if os.path.exists('data/data_pdn.pq'):\n",
    "    data_pdn = pd.read_parquet('data/data_pdn.pq')\n",
    "\n",
    "# Or download data\n",
    "else:\n",
    "    url_api = 'https://web.archive.org/cdx/search/dcx?url=peacedata.net&collapse=digest&from=20190101&to=20200930&output=json'\n",
    "    url_list_json = json.loads(requests.get(url_api).text)\n",
    "    url_list = ['https://web.archive.org/web/' + x[1] + '/' + x[2] for x in url_list_json[1:]]\n",
    "\n",
    "    pd_article_urls, page_errors = extract_urls_pdn_pages(url_list, header, 0.5)\n",
    "\n",
    "    pd_articles, pd_article_errors = data_pdn_(pd_article_urls, header, 0.5)\n",
    "    pd_articles_dfs_list = [pd.DataFrame(article, columns=['list_of_tags', 'sub_header', 'text_body', 'url']) for article in pd_articles]\n",
    "    data_pdn = pd.concat(pd_articles_dfs_list)\n",
    "    data_pdn.to_parquet('data/data_pdn.pq')"
   ]
  },
  {
   "cell_type": "markdown",
   "metadata": {},
   "source": [
    "## Data Structuring"
   ]
  },
  {
   "cell_type": "markdown",
   "metadata": {},
   "source": [
    "### Functions for PolitiFact dataset"
   ]
  },
  {
   "cell_type": "code",
   "execution_count": 9,
   "metadata": {},
   "outputs": [],
   "source": [
    "def remove_newline(document):\n",
    "    document = re.sub('\\n', '', document)\n",
    "    return document \n",
    "\n",
    "def description_date(document):\n",
    "    document = re.sub('stated on ', '', document)\n",
    "    document = re.findall(r'[\\w]* [\\d]+, \\d\\d\\d\\d', document)[0]\n",
    "    document = datetime.datetime.strptime(document, '%B %d, %Y')\n",
    "    return document\n",
    "\n",
    "def description_forum(document):\n",
    "    document = re.sub(r'stated on [\\w]* [\\d]+, \\d\\d\\d\\d in ', '', document)\n",
    "    document = re.sub('\\.:', '', document)\n",
    "    document = re.sub(':', '', document)\n",
    "    document = re.sub(r'^[a][n]* ', '', document)\n",
    "    return document\n",
    "\n",
    "def footer_split(document):\n",
    "    document = re.sub('By ', '', document).split('•')\n",
    "    return document "
   ]
  },
  {
   "cell_type": "markdown",
   "metadata": {},
   "source": [
    "### Functions for peacedata.net dataset"
   ]
  },
  {
   "cell_type": "code",
   "execution_count": 10,
   "metadata": {},
   "outputs": [],
   "source": [
    "def remove_newline_pdn(document):\n",
    "    document = re.sub('\\n', ' ', document)\n",
    "    document = re.sub('\\xa0',' ', document)\n",
    "    return document\n",
    "\n",
    "def remove_HTML_pdn(document):\n",
    "    document = re.sub(\"a.*?>\", \"\", document) #Remove HTML\n",
    "    return document\n",
    "\n",
    "def get_date_pdn(date_time_string):\n",
    "    base_url = 'https://web.archive.org/web/'\n",
    "    date_time_string = date_time_string.replace(base_url, \"\")\n",
    "    date_time_string = date_time_string.split(\"/\")\n",
    "    date_time_string = date_time_string[0][:8]\n",
    "    date_time_var = datetime.datetime.strptime(date_time_string, '%Y%m%d')\n",
    "    return date_time_var"
   ]
  },
  {
   "cell_type": "markdown",
   "metadata": {},
   "source": [
    "## Clean PolitiFact data"
   ]
  },
  {
   "cell_type": "code",
   "execution_count": 11,
   "metadata": {},
   "outputs": [],
   "source": [
    "data = data_pf.copy()\n",
    "\n",
    "# Drop observations with different scale\n",
    "data = data[~data['meter'].isin(['full-flop', 'half-flip', 'no-flip'])]\n",
    "\n",
    "# Remove 'newline' from string variables \n",
    "data['name_txt'] = data['name_txt'].apply(remove_newline)\n",
    "data['description_txt'] = data['description_txt'].apply(remove_newline)\n",
    "data['quote_txt'] = data['quote_txt'].apply(remove_newline)\n",
    "data['footer'] = data['footer'].apply(remove_newline)\n",
    "\n",
    "# Extract information from description column\n",
    "data['description_date'] = data['description_txt'].apply(description_date)\n",
    "data['description_forum'] = data['description_txt'].apply(description_forum)\n",
    "\n",
    "# Extract information from footer column\n",
    "data['footer_split'] = data['footer'].apply(footer_split)\n",
    "data['footer_name'] = [x[0].strip() if len(x) == 2 else 'Unknown' for x in data['footer_split'] ]\n",
    "data['footer_date'] = [datetime.datetime.strptime(x[1].strip(), '%B %d, %Y') if len(x) == 2 else datetime.datetime.strptime(x[0].strip(), '%B %d, %Y') for x in data['footer_split']]\n",
    "\n",
    "# Re-order dataset\n",
    "data = data[['quote_href', 'quote_txt', 'name_txt', 'name_href', 'description_date', 'description_forum', 'footer_name', 'footer_date', 'meter']]"
   ]
  },
  {
   "cell_type": "markdown",
   "metadata": {},
   "source": [
    "## Clean Peacedata.net data"
   ]
  },
  {
   "cell_type": "code",
   "execution_count": 12,
   "metadata": {},
   "outputs": [],
   "source": [
    "data_pdn_for_clean = data_pdn.copy()\n",
    "\n",
    "#Drop duplicates (Some scraped articles have multiple versions on web.archive.org)\n",
    "data_pdn_for_clean = data_pdn_for_clean.drop_duplicates(subset='title').reset_index(drop=True)\n",
    "\n",
    "#Extract author\n",
    "author_list = []\n",
    "i=0\n",
    "for article in data_pdn_for_clean['text_body']:\n",
    "    if article[0].startswith(' By'):    #If the first line starts with ' By' then split the line at \",\" and replace \" By\" with empty space. Finally, strip white-space of str.\n",
    "                                        #Same procedure as below.\n",
    "        author_list.append(article[0].split(\",\")[0].replace(\" By\", \"\").strip())\n",
    "        i+1\n",
    "    elif article[0].startswith('By'):\n",
    "        author_list.append(article[0].split(\",\")[0].replace(\"By\", \"\").strip())\n",
    "        i+1\n",
    "    elif article[0].startswith(' by'):\n",
    "        author_list.append(article[0].split(\",\")[0].replace(\" by\", \"\").strip())\n",
    "        i+1\n",
    "    elif article[0].startswith('by'):\n",
    "        author_list.append(article[0].split(\",\")[0].replace(\"by\", \"\").strip())\n",
    "        i+1\n",
    "    else: \n",
    "        author_list.append('Unknown')\n",
    "        i+1\n",
    "\n",
    "data_pdn_for_clean['author']=author_list\n",
    "\n",
    "#Remove last 3 lines (typically contains licensing info) and start from 2nd line (1st line typically has author info)\n",
    "i=0\n",
    "for article in data_pdn_for_clean['text_body'][i]:\n",
    "    data_pdn_for_clean['text_body'][i]=data_pdn_for_clean['text_body'][i][2:-3]\n",
    "    i+=1\n",
    "\n",
    "\n",
    "#Join text as one string\n",
    "article_list = []\n",
    "i=0\n",
    "for article in data_pdn_for_clean['text_body']:\n",
    "    article = ''.join(article)\n",
    "    article_list.append(article)\n",
    "    i=+1\n",
    "\n",
    "data_pdn_for_clean['text_body']=article_list\n",
    "\n",
    "#Drop '\\n' and '\\xa0'\n",
    "data_pdn_for_clean['text_body'] = data_pdn_for_clean['text_body'].apply(remove_newline_pdn)\n",
    "\n",
    "#Drop HTML\n",
    "data_pdn_for_clean['text_body'] = data_pdn_for_clean['text_body'].apply(remove_HTML_pdn)\n",
    "\n",
    "#Get the dates of the articles (the time they were stored by web.archive.org!)\n",
    "data_pdn_for_clean['date']=data_pdn_for_clean['url'].apply(get_date_pdn)\n",
    "\n",
    "data_pdn_for_clean.rename(columns={\n",
    "                                'title': 'Title',\n",
    "                                'text_body': 'Article',\n",
    "                                'tags': 'Tags',\n",
    "                                'url': 'URL',\n",
    "                                'author': 'Author',\n",
    "                                'date': 'Date'\n",
    "}, inplace=True)\n",
    "\n",
    "data_pdn_for_clean = data_pdn_for_clean[['URL', 'Date', 'Title', 'Article', 'Author', 'Tags']]"
   ]
  },
  {
   "cell_type": "code",
   "execution_count": 13,
   "metadata": {},
   "outputs": [
    {
     "data": {
      "text/html": [
       "<div>\n",
       "<style scoped>\n",
       "    .dataframe tbody tr th:only-of-type {\n",
       "        vertical-align: middle;\n",
       "    }\n",
       "\n",
       "    .dataframe tbody tr th {\n",
       "        vertical-align: top;\n",
       "    }\n",
       "\n",
       "    .dataframe thead th {\n",
       "        text-align: right;\n",
       "    }\n",
       "</style>\n",
       "<table border=\"1\" class=\"dataframe\">\n",
       "  <thead>\n",
       "    <tr style=\"text-align: right;\">\n",
       "      <th></th>\n",
       "      <th>URL</th>\n",
       "      <th>Date</th>\n",
       "      <th>Title</th>\n",
       "      <th>Article</th>\n",
       "      <th>Author</th>\n",
       "      <th>Tags</th>\n",
       "    </tr>\n",
       "  </thead>\n",
       "  <tbody>\n",
       "    <tr>\n",
       "      <th>0</th>\n",
       "      <td>https://web.archive.org/web/20200620054148/htt...</td>\n",
       "      <td>2020-06-20</td>\n",
       "      <td>How ‘Defense’ Contractors Lobbied For War in Y...</td>\n",
       "      <td>On August 9th, 2018, Saudi Arabia used a laser...</td>\n",
       "      <td>Ben Barbour</td>\n",
       "      <td>[Arms sales, Defense Contractors, McKeon Group...</td>\n",
       "    </tr>\n",
       "    <tr>\n",
       "      <th>1</th>\n",
       "      <td>https://web.archive.org/web/20200620054148/htt...</td>\n",
       "      <td>2020-06-20</td>\n",
       "      <td>Corporate Industries in the USA: a Menace to t...</td>\n",
       "      <td>But these advancements happened at the cost of...</td>\n",
       "      <td>Unknown</td>\n",
       "      <td>[Environment, USA]</td>\n",
       "    </tr>\n",
       "    <tr>\n",
       "      <th>2</th>\n",
       "      <td>https://web.archive.org/web/20200902161142/htt...</td>\n",
       "      <td>2020-09-02</td>\n",
       "      <td>COVID-19: the World is on Pause but Climate Cr...</td>\n",
       "      <td>The year 2020 has been a disaster for the whol...</td>\n",
       "      <td>Ayushi Goyal</td>\n",
       "      <td>[COVID-19, Environmental Disaster]</td>\n",
       "    </tr>\n",
       "    <tr>\n",
       "      <th>3</th>\n",
       "      <td>https://web.archive.org/web/20200902161142/htt...</td>\n",
       "      <td>2020-09-02</td>\n",
       "      <td>Julian Assange Court Case Delayed Again in Biz...</td>\n",
       "      <td>Assange sat in a conference room used by the e...</td>\n",
       "      <td>Unknown</td>\n",
       "      <td>[Assange, WikiLeaks]</td>\n",
       "    </tr>\n",
       "    <tr>\n",
       "      <th>4</th>\n",
       "      <td>https://web.archive.org/web/20200901191737/htt...</td>\n",
       "      <td>2020-09-01</td>\n",
       "      <td>US Workers, Minorities Continuously Face Housi...</td>\n",
       "      <td>Minimum wage workers and people of color (POC)...</td>\n",
       "      <td>Sly Custodio</td>\n",
       "      <td>[#cancelrent, COVID-19, rent]</td>\n",
       "    </tr>\n",
       "  </tbody>\n",
       "</table>\n",
       "</div>"
      ],
      "text/plain": [
       "                                                 URL       Date  \\\n",
       "0  https://web.archive.org/web/20200620054148/htt... 2020-06-20   \n",
       "1  https://web.archive.org/web/20200620054148/htt... 2020-06-20   \n",
       "2  https://web.archive.org/web/20200902161142/htt... 2020-09-02   \n",
       "3  https://web.archive.org/web/20200902161142/htt... 2020-09-02   \n",
       "4  https://web.archive.org/web/20200901191737/htt... 2020-09-01   \n",
       "\n",
       "                                               Title  \\\n",
       "0  How ‘Defense’ Contractors Lobbied For War in Y...   \n",
       "1  Corporate Industries in the USA: a Menace to t...   \n",
       "2  COVID-19: the World is on Pause but Climate Cr...   \n",
       "3  Julian Assange Court Case Delayed Again in Biz...   \n",
       "4  US Workers, Minorities Continuously Face Housi...   \n",
       "\n",
       "                                             Article        Author  \\\n",
       "0  On August 9th, 2018, Saudi Arabia used a laser...   Ben Barbour   \n",
       "1  But these advancements happened at the cost of...       Unknown   \n",
       "2  The year 2020 has been a disaster for the whol...  Ayushi Goyal   \n",
       "3  Assange sat in a conference room used by the e...       Unknown   \n",
       "4  Minimum wage workers and people of color (POC)...  Sly Custodio   \n",
       "\n",
       "                                                Tags  \n",
       "0  [Arms sales, Defense Contractors, McKeon Group...  \n",
       "1                                 [Environment, USA]  \n",
       "2                 [COVID-19, Environmental Disaster]  \n",
       "3                               [Assange, WikiLeaks]  \n",
       "4                      [#cancelrent, COVID-19, rent]  "
      ]
     },
     "execution_count": 13,
     "metadata": {},
     "output_type": "execute_result"
    }
   ],
   "source": [
    "data_pdn_for_clean.head()"
   ]
  },
  {
   "cell_type": "markdown",
   "metadata": {},
   "source": [
    "# Plotting"
   ]
  },
  {
   "cell_type": "markdown",
   "metadata": {},
   "source": [
    "### Descriptive statistics"
   ]
  },
  {
   "cell_type": "code",
   "execution_count": 14,
   "metadata": {},
   "outputs": [],
   "source": [
    "import matplotlib.pyplot as plt \n",
    "import seaborn as sns\n",
    "\n",
    "plt.style.use('seaborn-whitegrid')\n",
    "%matplotlib inline\n",
    "\n",
    "plt.rcParams.update({\n",
    "  \"text.usetex\": True,\n",
    "  \"font.family\": \"Helvetica\"\n",
    "                    }) #use tex text formatting\n",
    "\n",
    "SMALL_SIZE = 14\n",
    "MEDIUM_SIZE = 18\n",
    "BIGGER_SIZE = 20\n",
    "\n",
    "plt.rc('font', size=SMALL_SIZE)          # controls default text sizes\n",
    "plt.rc('axes', titlesize=SMALL_SIZE)     # fontsize of the axes title\n",
    "plt.rc('axes', labelsize=MEDIUM_SIZE)    # fontsize of the x and y labels\n",
    "plt.rc('xtick', labelsize=SMALL_SIZE)    # fontsize of the tick labels\n",
    "plt.rc('ytick', labelsize=SMALL_SIZE)    # fontsize of the tick labels\n",
    "plt.rc('legend', fontsize=SMALL_SIZE)    # legend fontsize\n",
    "plt.rc('figure', titlesize=BIGGER_SIZE)  # fontsize of the figure title\n",
    "\n",
    "plt.rcParams['figure.figsize'] = 10, 4 # set default size of plots"
   ]
  },
  {
   "cell_type": "code",
   "execution_count": 15,
   "metadata": {},
   "outputs": [],
   "source": [
    "# Extract and sort tags\n",
    "data_temp = pd.read_parquet('data/data_pf.pq')\n",
    "\n",
    "df_temp = data_temp.copy()\n",
    "\n",
    "df_temp['date']=df_temp['description_txt'].apply(description_date) #'re-apply' date function\n",
    "df_temp['year'] = df_temp['date'].dt.year #make year collumn"
   ]
  },
  {
   "cell_type": "code",
   "execution_count": 16,
   "metadata": {},
   "outputs": [],
   "source": [
    "tags_by_year = {}\n",
    "\n",
    "# Extract and count tags used in article by year\n",
    "for year in df_temp['year'].unique():\n",
    "    df_new=df_temp[df_temp['year']==year]\n",
    "    tag_values = pd.Series([x for list in df_new['tags'] for x in list]).value_counts()\n",
    "    tags_by_year[year] = tag_values #Make dictionary: Key = year. Value is number of tags used in articles \n",
    "   \n",
    "\n",
    "tags_by_year = dict(sorted(tags_by_year.items())) #Sort the dict by year\n",
    "tag_df = pd.DataFrame(tags_by_year).fillna(0) #Make df of the tag dict and fill NaN as 0"
   ]
  },
  {
   "cell_type": "code",
   "execution_count": 17,
   "metadata": {},
   "outputs": [],
   "source": [
    "#Extract the top 10 tags in the past five years\n",
    "top_10_tags = list(tag_df.iloc[:, -5:]\\\n",
    "    .sum(axis=1)\\\n",
    "    .nlargest(10)\\\n",
    "    .index\\\n",
    "    .values)"
   ]
  },
  {
   "cell_type": "code",
   "execution_count": 18,
   "metadata": {},
   "outputs": [
    {
     "data": {
      "image/png": "[encoded data removed]",
      "text/plain": [
       "<Figure size 720x288 with 1 Axes>"
      ]
     },
     "metadata": {
      "needs_background": "light"
     },
     "output_type": "display_data"
    }
   ],
   "source": [
    "top_10_tags = tag_df.loc[top_10_tags, :].iloc[:,-5:]\n",
    "\n",
    "fig1 = top_10_tags.plot(kind='barh', stacked=True, colormap='viridis')\n",
    "fig1.set_xlabel('No. tags used in article')\n",
    "plt.savefig('figs/fig1_top_10_tags.pdf', bbox_inches = \"tight\")"
   ]
  },
  {
   "cell_type": "code",
   "execution_count": 19,
   "metadata": {},
   "outputs": [],
   "source": [
    "# Drop observations with different scale\n",
    "df_temp = df_temp[~df_temp['meter'].isin(['full-flop', 'half-flip', 'no-flip'])]\n",
    "\n",
    "cat_by_date = {}\n",
    "\n",
    "# Extract and count tags used in article by date\n",
    "for date in df_temp['date'].unique():\n",
    "    df_new=df_temp[df_temp['date']==date]\n",
    "    tag_values = pd.Series(df_new['meter']).value_counts()\n",
    "    cat_by_date[date] = tag_values #Make dictionary: Key = date. Value is count of statement classification (pants-on-fire, false, true etc)\n",
    "   \n",
    "\n",
    "\n",
    "cat_by_date = dict(sorted(cat_by_date.items())) #Sort the dict by date\n",
    "\n",
    "reorder_list = ['true', 'mostly-true', 'half-true', 'barely-true', 'false', 'pants-fire'] #define order of sorting to dataframe\n",
    "\n",
    "df_cat = pd.DataFrame(cat_by_date).fillna(0)\n",
    "df_cat = df_cat.reindex(reorder_list) #reorder according to above list"
   ]
  },
  {
   "cell_type": "code",
   "execution_count": 20,
   "metadata": {},
   "outputs": [],
   "source": [
    "df_cat_dev_cuma = df_cat.iloc[:, :]\\\n",
    "    .cumsum(axis=1)"
   ]
  },
  {
   "cell_type": "code",
   "execution_count": 34,
   "metadata": {},
   "outputs": [
    {
     "data": {
      "image/png": "[encoded data removed]",
      "text/plain": [
       "<Figure size 720x288 with 1 Axes>"
      ]
     },
     "metadata": {
      "needs_background": "light"
     },
     "output_type": "display_data"
    }
   ],
   "source": [
    "cat_plot = df_cat_dev_cuma.T.iloc[:, :].plot()\n",
    "cat_plot.set_xlim(pd.Timestamp('2012-01-01'), pd.Timestamp('2022-08-31'))\n",
    "plt.savefig('figs/fig2.pdf', bbox_inches='tight')"
   ]
  },
  {
   "cell_type": "code",
   "execution_count": 35,
   "metadata": {},
   "outputs": [
    {
     "data": {
      "image/png": "[encoded data removed]",
      "text/plain": [
       "<Figure size 720x288 with 1 Axes>"
      ]
     },
     "metadata": {
      "needs_background": "light"
     },
     "output_type": "display_data"
    }
   ],
   "source": [
    "tag_values = pd.Series([x for list in data_pdn_for_clean['Tags'] for x in list]).value_counts()\n",
    "\n",
    "fig3 = tag_values[:5].plot(kind='barh', color=['tab:blue', 'tab:blue', 'tab:red', 'tab:red', 'tab:green'])\n",
    "fig3.set_xlabel('No. of tags used in articles')\n",
    "plt.savefig('figs/fig3_top5tags_pdn.pdf', bbox_inches='tight')"
   ]
  },
  {
   "cell_type": "markdown",
   "metadata": {},
   "source": [
    "### Topic modelling - peacedata.net"
   ]
  },
  {
   "cell_type": "code",
   "execution_count": 23,
   "metadata": {},
   "outputs": [
    {
     "name": "stdout",
     "output_type": "stream",
     "text": [
      "Topic 1:\n",
      "amazon eu refugees chinese zealand\n",
      "Topic 2:\n",
      "adani coal project rent gaindarpersaud\n",
      "Topic 3:\n",
      "mau yemen starmer qaeda coalition\n",
      "Topic 4:\n",
      "gun color lgbtq hopkins kenya\n",
      "Topic 5:\n",
      "mercenaries pakistan defence delhi jackson\n",
      "Topic 6:\n",
      "assange cooperation wikileaks somalia immigration\n",
      "Topic 7:\n",
      "israel shell turkey sanctions sexual\n",
      "Topic 8:\n",
      "fox henderson opcw 400 douma\n",
      "Topic 9:\n",
      "yemen hong kong gas britain\n",
      "Topic 10:\n",
      "muslims nhs hospital ppe teachers\n"
     ]
    }
   ],
   "source": [
    "from sklearn.feature_extraction.text import CountVectorizer\n",
    "count = CountVectorizer(stop_words='english', max_df=0.1, max_features=5000)\n",
    "bag = count.fit_transform(data_pdn_for_clean['Article'].values)\n",
    "\n",
    "from sklearn.decomposition import LatentDirichletAllocation\n",
    "lda = LatentDirichletAllocation(n_components=10,random_state=123) #The random_state parameter pass an integer that makes the result reproducible \n",
    "review_topics = lda.fit_transform(bag)\n",
    "\n",
    "n_top_words = 5\n",
    "word_names = count.get_feature_names_out()\n",
    "for topic_idx, topic in enumerate(lda.components_): #lda.components_ stores a matrix containing the word importance for each topic\n",
    "    print(\"Topic %d:\" % (topic_idx + 1))\n",
    "    print(\" \".join([word_names[i]\n",
    "    for i in topic.argsort()\\\n",
    "        [:-n_top_words - 1:-1]]))"
   ]
  },
  {
   "cell_type": "code",
   "execution_count": 24,
   "metadata": {},
   "outputs": [],
   "source": [
    "\n",
    "def preprocess_document(document, sentence_spliter='.', word_spliter=' ', punct_mark=','):\n",
    "    # lowercase all words and remove trailing whitespaces\n",
    "    document = document.lower().strip()\n",
    "    \n",
    "    # get list of sentences which are non-empty\n",
    "    sentences = [sent for sent in document.split(sentence_spliter) if sent != '']\n",
    "    \n",
    "    # get list of sentences which are lists of words\n",
    "    document = []\n",
    "    for sent in sentences:\n",
    "        words = sent.strip().split(word_spliter)\n",
    "        document.append(words)\n",
    "        \n",
    "    return document"
   ]
  },
  {
   "cell_type": "markdown",
   "metadata": {},
   "source": [
    "### Notes\n",
    "- Check 'C' parameter in log-reg (1/$\\lambda$) [on the whole dataset]\n",
    "    - GridSearchCV from module 14\n",
    "    - Just use the same lambdas list values from module\n",
    "- Make 'confusion' matrix w/ predicted probability, see att log-reg & drawing\n",
    "    - clf = LogisticRegression(random_state=0).fit(X, y)\n",
    "        - clf.predict_proba(X[:2, :])\n",
    "- Pipeline -> training sample kfold. Validation curves"
   ]
  }
 ],
 "metadata": {
  "kernelspec": {
   "display_name": "Python 3.9.13 ('base')",
   "language": "python",
   "name": "python3"
  },
  "language_info": {
   "codemirror_mode": {
    "name": "ipython",
    "version": 3
   },
   "file_extension": ".py",
   "mimetype": "text/x-python",
   "name": "python",
   "nbconvert_exporter": "python",
   "pygments_lexer": "ipython3",
   "version": "3.9.13"
  },
  "orig_nbformat": 4,
  "vscode": {
   "interpreter": {
    "hash": "054e95b4819972eba8d406807e822e3be9cca805528e86310f8e3ac8dc287778"
   }
  }
 },
 "nbformat": 4,
 "nbformat_minor": 2
}
