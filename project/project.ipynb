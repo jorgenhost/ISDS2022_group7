{
 "cells": [
  {
   "cell_type": "markdown",
   "metadata": {},
   "source": [
    "# Project"
   ]
  },
  {
   "cell_type": "code",
   "execution_count": 276,
   "metadata": {},
   "outputs": [],
   "source": [
    "#  imports and set magics\n",
    "import numpy as np\n",
    "import pandas as pd\n",
    "import json\n",
    "import tqdm\n",
    "import time\n",
    "import datetime\n",
    "import os\n",
    "import requests\n",
    "from bs4 import BeautifulSoup\n",
    "import re\n",
    "import pyarrow"
   ]
  },
  {
   "cell_type": "markdown",
   "metadata": {},
   "source": [
    "# Project"
   ]
  },
  {
   "cell_type": "markdown",
   "metadata": {},
   "source": [
    "**Authors:** \n",
    "* Jørgen Baun Høst, pjz633@alumni.ku.dk\n",
    "* Marius Heltberg Lassen, pgb206@alumni.ku.dk"
   ]
  },
  {
   "cell_type": "markdown",
   "metadata": {},
   "source": [
    "This notebook contains the data extraction, data structuring and manipulation, calculations and figures for our project *Liar, liar, pants on fire? Fake news detection with supervised machine learning*."
   ]
  },
  {
   "cell_type": "markdown",
   "metadata": {},
   "source": [
    "Dependencies:"
   ]
  },
  {
   "cell_type": "code",
   "execution_count": 277,
   "metadata": {},
   "outputs": [],
   "source": [
    "# %pip install"
   ]
  },
  {
   "cell_type": "markdown",
   "metadata": {},
   "source": [
    "## Web scraping "
   ]
  },
  {
   "cell_type": "markdown",
   "metadata": {},
   "source": [
    "### Define functions:"
   ]
  },
  {
   "cell_type": "markdown",
   "metadata": {},
   "source": [
    "General functions:"
   ]
  },
  {
   "cell_type": "code",
   "execution_count": 278,
   "metadata": {},
   "outputs": [],
   "source": [
    "def log(response: requests.Response):\n",
    "    \"\"\"\n",
    "    Creates or appends a log-file with information from a `requests.get()`-call.\n",
    "    \n",
    "    The information gathered is:\n",
    "    - - - - - - - -\n",
    "        timestamp   :   Current local time.\n",
    "        status_code :   Status code from requests call.\n",
    "        length      :   Length of the HTML-string.\n",
    "        output_path :   Current working directory.\n",
    "        url         :   The URL of the response.\n",
    "    \"\"\"\n",
    "\n",
    "    # Open or create the csv file\n",
    "    if os.path.isfile('log'):\n",
    "        log = open('log','a')\n",
    "    else: \n",
    "        log = open('log','w')\n",
    "        header = ['timestamp', 'status_code', 'length', 'output_file', 'url'] # Header names\n",
    "        log.write(';'.join(header) + \"\\n\")\n",
    "        \n",
    "    # Gather log information\n",
    "    status_code = response.status_code # Status code from the request result\n",
    "    timestamp = time.strftime('%Y-%m-%d %H:%M:%S', time.localtime(time.time())) # Local time\n",
    "    length = len(response.text) # Length of the HTML-string\n",
    "    output_path = os.getcwd() # Output path\n",
    "    url = response.url # URL-string\n",
    "    \n",
    "    # Open the log file and append the gathered log information\n",
    "    with open('log','a') as log:\n",
    "        log.write(f'{timestamp};{status_code};{length};{output_path};{url}' + \"\\n\") \n",
    "\n",
    "\n",
    "def get_soup(url: str, header: dict) -> BeautifulSoup:\n",
    "    \"\"\"\n",
    "    Constructs a HTML-string from a request of the given URL. \n",
    "    Requests are logged, see `log()`. \n",
    "\n",
    "    Input:\n",
    "    - - - - - - - - \n",
    "    url (str)     :    URL of the website to receive the HTML-string from. \\n\n",
    "    header (dict) :    Dictionary to send in the query string for the request.\n",
    "\n",
    "    Returns:\n",
    "    - - - - - - - - \n",
    "    soup (BeautifulSoup) :  HTML-string in the class of BeutifulSoup with 'lxml' parser.\n",
    "    \"\"\"\n",
    "\n",
    "    response = requests.get(url, headers=header) # Request\n",
    "    log(response) # Log \n",
    "    soup = BeautifulSoup(response.content, 'lxml') # Convert to response to HTML\n",
    "\n",
    "    return soup\n",
    "\n",
    "\n",
    "def extract_articles_pf_pages(soup: BeautifulSoup) -> list:\n",
    "    \"\"\"\n",
    "    Extracts articles from HTML-string from the PolitiFact website.\n",
    "\n",
    "    Input:\n",
    "    - - - - - - - -\n",
    "    soup (BeautifulSoup) : HTML-string from the PolitiFact website.\n",
    "\n",
    "    Returns:\n",
    "    - - - - - - - - \n",
    "    list_of_articles (list) : A list of all articles in the given soup. \\n\n",
    "                              Each element is an article of data structure as BeautifulSoup.\n",
    "    \"\"\"\n",
    "    \n",
    "    articles = soup.find(class_='o-listicle__list') # Find section with articles\n",
    "    list_of_articles = articles.find_all('li') # Find all articles as a list\n",
    "\n",
    "    return list_of_articles"
   ]
  },
  {
   "cell_type": "markdown",
   "metadata": {},
   "source": [
    "PolitiFact functions:"
   ]
  },
  {
   "cell_type": "code",
   "execution_count": 279,
   "metadata": {},
   "outputs": [],
   "source": [
    "def create_url_pf_pages(page: int) -> str:\n",
    "    \"\"\"\n",
    "    Creates a PolitiFact URL with the given pagenumber.\n",
    "\n",
    "    Input:\n",
    "    - - - - - - - -\n",
    "    page (int) :    Pagenumber for the PolitiFact website.\n",
    "\n",
    "    Returns:\n",
    "    - - - - - - - -\n",
    "    url (str)  :    URL of the PolitiFact website for given page. \n",
    "    \"\"\"\n",
    "\n",
    "    url = f'https://www.politifact.com/factchecks/list/?page={page}' # Construct url with f-string\n",
    "\n",
    "    return url\n",
    "\n",
    "\n",
    "def extract_info_pf_pages(article: BeautifulSoup) -> list:\n",
    "    \"\"\"\n",
    "    Extracts all relevant information from one article on the article overview pages on the PolitiFact website.\n",
    "\n",
    "    Input:\n",
    "    - - - - - - - - \n",
    "    article (BeautifulSoup) :  Article to extract data from, see `extract_articles()`.\n",
    "\n",
    "    Returns:\n",
    "    - - - - - - - - \n",
    "    [name_txt, name_href, description_txt, quote_txt, quote_href, meter, footer] (list) \\n \n",
    "    The name and URL of the quoted person, the description of the quote, the quote itself \\n\n",
    "    and link hereof, the truthfulness index, and information on the article in string-format.\n",
    "    \"\"\"\n",
    "\n",
    "    # Statement name \n",
    "    name = article.find(class_='m-statement__name')\n",
    "    name_txt = name.text # name \n",
    "    name_href = name['href'] # href\n",
    "\n",
    "    # Statement description\n",
    "    description_txt = article.find(class_='m-statement__desc').text\n",
    "\n",
    "    # Statement quote\n",
    "    quote = article.find(class_='m-statement__quote').a\n",
    "    quote_txt = quote.text # name \n",
    "    quote_href = quote['href'] # href\n",
    "\n",
    "    # Statement meter\n",
    "    meter = article.find(class_='m-statement__meter').div.img['alt']\n",
    "\n",
    "    # Statement footer\n",
    "    footer = article.find(class_='m-statement__footer').text\n",
    "\n",
    "    return [name_txt, name_href, description_txt, quote_txt, quote_href, meter, footer]\n",
    "\n",
    "\n",
    "def data_pf_pages(startpage: int, endpage: int, header: dict, sleep: float) -> list:\n",
    "    \"\"\"\n",
    "    Compound function that scrapes an interval of pages from PolitiFact, extracts information for analysis, \\n\n",
    "    and logs requests in `log`-file. \n",
    "\n",
    "    Input:\n",
    "    - - - - - - - -\n",
    "    startpage (int)  :  The first page to scrape. \\n\n",
    "    endpage   (int)  :  The last page to scrape. \\n\n",
    "    header    (dict) :  Dictionary to send in the query string for the request. \\n\n",
    "    sleep     (float):  Seconds to sleep between each request.\n",
    "\n",
    "    Returns:\n",
    "    - - - - - - - -\n",
    "    list_of_output (list) : A list of lists, where each element list is the output of `extract_info()`.\n",
    "    errors         (list) : An error list containing the URLs for the pages where the error occured.\n",
    "    \"\"\"\n",
    "\n",
    "    list_of_output = [] # initialize empty list for dataframes\n",
    "    errors = [] \n",
    "\n",
    "    # Loop through pages and track progress with tqdm\n",
    "    for page in tqdm.tqdm(range(startpage, endpage+1)):\n",
    "        url = create_url_pf_pages(page) # create url\n",
    "\n",
    "        try: # circumvent problem with empty pages\n",
    "            soup = get_soup(url, header) # construct html\n",
    "            articles = extract_articles_pf_pages(soup) # extract articles \n",
    "\n",
    "            output = [] # initialize empty for articles \n",
    "\n",
    "            # Loop through articles \n",
    "            for article in articles:\n",
    "                info = extract_info_pf_pages(article) # extract relevant information\n",
    "                output.append(info) # append output\n",
    "            time.sleep(sleep)\n",
    "\n",
    "        except: # skip page\n",
    "            print(f'Error encountered on page {page}')\n",
    "            errors.append(url)\n",
    "            time.sleep(sleep)\n",
    "            continue\n",
    "\n",
    "        list_of_output.append(output)\n",
    "\n",
    "    return list_of_output, errors\n",
    "\n",
    "\n",
    "def extract_info_pf_articles(article: BeautifulSoup) -> list:\n",
    "    \"\"\"\n",
    "    A function that scrapes each individual article for relevant data. \\n\n",
    "\n",
    "    Input:\n",
    "    - - - - - - - -\n",
    "    article (BeautifulSoup) : BeatifulSoup element of article. \\n\n",
    "    \n",
    "    Returns:\n",
    "    - - - - - - - -\n",
    "    [tags, sub_header, text_body] : A list of of all relevant data from each politifact article.\n",
    "\n",
    "    \"\"\"\n",
    "\n",
    "    # Extract tags\n",
    "    tag_soup = article.find(class_='m-list m-list--horizontal')\\\n",
    "        .find_all('a') #Find all tags\n",
    "    \n",
    "    list_of_tags = [] #Create empty list for tags \n",
    "    \n",
    "    for tag in tag_soup:\n",
    "        list_of_tags.append(tag['title']) #Append each tag to list of tags\n",
    "\n",
    "    # Extract sub-header\n",
    "    sub_header = article.find(class_='c-title c-title--subline').text #conclusion by journalist\n",
    "\n",
    "    # Extract entire text body\n",
    "    text_block = article.find(class_='m-textblock') #Find article's body text\n",
    "    text_body = []\n",
    "\n",
    "    for paragraph in text_block.find_all('p'): #Find all paragraphs in article\n",
    "        text_body.append(paragraph.text) #append them to list\n",
    "\n",
    "    text_body=' '.join(text_body) #Convert to a single string\n",
    "\n",
    "    return [list_of_tags, sub_header, text_body]\n",
    "\n",
    "\n",
    "def data_pf_articles(list_of_href: list, header: dict, sleep: float) -> list:\n",
    "    \"\"\"\n",
    "    A compound function that scrapes relevant data from each article on politifact.com and stores this in a DataFrame. \\n\n",
    "\n",
    "    Input:\n",
    "    - - - - - - - -\n",
    "    list_of_href (list) :  A list of PolitiFact hyperlinks for each article to scrape. \\n\n",
    "    header       (dict) :  Dictionary to send in the query string for the request. \\n\n",
    "    sleep        (float):  Seconds to sleep between each request.\n",
    "    \n",
    "    Returns:\n",
    "    - - - - - - - -\n",
    "    list_of_output (list) : A list of lists, where each element list is the output of `get_article_data()` and the article href.\n",
    "    errors         (list) : An error list containing the URLs for the pages where the error occured.\n",
    "    \"\"\"\n",
    "\n",
    "    list_of_output = [] # Initialize empty output list \n",
    "    errors = []\n",
    "\n",
    "    # Loop through list of URls\n",
    "    for article_url in tqdm.tqdm(list_of_href): \n",
    "        full_url = 'https://www.politifact.com' + article_url\n",
    "        try:   \n",
    "            article = get_soup(full_url, header=header) #Get BeautifulSoup element for each article\n",
    "            article_data = extract_info_pf_articles(article) #Extract data from article\n",
    "            article_data.append(article_url) #Quote_href\n",
    "            list_of_output.append([article_data]) #Append data to output list\n",
    "            time.sleep(sleep)\n",
    "\n",
    "        except: \n",
    "            print(f'Error encountered at {full_url}')\n",
    "            errors.append(article_url)\n",
    "            time.sleep(sleep)\n",
    "            continue\n",
    "\n",
    "    return list_of_output, errors"
   ]
  },
  {
   "cell_type": "markdown",
   "metadata": {},
   "source": [
    "Peacedata.net functions:"
   ]
  },
  {
   "cell_type": "code",
   "execution_count": 280,
   "metadata": {},
   "outputs": [],
   "source": [
    "def extract_urls_pdn_pages(list_of_frontpage_url: str, header: dict, sleep: float) -> list:\n",
    "    set_of_article_url = set()\n",
    "    errors = set()\n",
    "    for frontpage_url in tqdm.tqdm(list_of_frontpage_url):\n",
    "        soup = get_soup(frontpage_url, header)\n",
    "        try:\n",
    "            section = soup.find(class_='jeg_main')\n",
    "            titles = section.findChildren(class_='jeg_thumb')\n",
    "            for title in titles:\n",
    "                article_url = title.a['href']\n",
    "                set_of_article_url.add(article_url) #Same approach as above\n",
    "                time.sleep(sleep)\n",
    "        except:\n",
    "            print(f'Error encountered at {frontpage_url}')\n",
    "            errors.add(frontpage_url)\n",
    "            time.sleep(sleep)\n",
    "            continue\n",
    "    return list(set_of_article_url), list(errors)\n",
    "\n",
    "\n",
    "def extract_info_pdn_articles(article: BeautifulSoup) -> list:\n",
    "    \n",
    "    title=article.find(class_='jeg_post_title').text #Extract title\n",
    "    \n",
    "    paragraphs = article.find(class_='entry-content no-share')\\\n",
    "        .find_all('p') #Extract all paragraphs\n",
    "    text_body = ' '.join([par.text for par in paragraphs])\n",
    "\n",
    "    tag_soup = article.find(class_='jeg_post_tags')\\\n",
    "        .find_all('a') #Find all tags in sup\n",
    "    tags = [tag.text for tag in tag_soup]\n",
    "    \n",
    "    return [title, paragraphs, tags] #Return as lists\n",
    "\n",
    "def data_pdn_(list_of_article_url: list, header: dict, sleep: float) -> pd.DataFrame:\n",
    "\n",
    "    list_of_output = [] # Initialize empty list for dataframes\n",
    "    errors = []\n",
    "\n",
    "    # Loop through list of URls\n",
    "    for article_url in tqdm.tqdm(list_of_article_url): \n",
    "        article_soup = get_soup(article_url, header=header).append(article_url) #Get BeautifulSoup element for each article\n",
    "\n",
    "        try:    \n",
    "            output = extract_info_pdn_articles(article_soup) #Extract data from article\n",
    "            list_of_output.append(output)\n",
    "            time.sleep(sleep) #Sleep for 0.5 seconds\n",
    "        \n",
    "        except:\n",
    "            print(f'Error encountered at {article_url}')\n",
    "            errors.append(article_url)\n",
    "            time.sleep(sleep)\n",
    "            continue\n",
    "\n",
    "    return list_of_output, errors"
   ]
  },
  {
   "cell_type": "markdown",
   "metadata": {},
   "source": [
    "### Scraping:"
   ]
  },
  {
   "cell_type": "code",
   "execution_count": 281,
   "metadata": {},
   "outputs": [],
   "source": [
    "# Make header: State names and (non-commerical/academic) intentions for data scraping\n",
    "header = {'name_1'   : 'Marius Heltberg Lassen',    'email_1' : 'pgb206@alumni.ku.dk', \n",
    "          'name_2'   : 'Jørgen Baun Høst',          'email_2' : 'pjz633@alumni.ku.dk',\n",
    "          'intention': 'Train supervised ML model for academic purposes'}"
   ]
  },
  {
   "cell_type": "markdown",
   "metadata": {},
   "source": [
    "#### Scrape PolitiFact"
   ]
  },
  {
   "cell_type": "code",
   "execution_count": 282,
   "metadata": {},
   "outputs": [],
   "source": [
    "# Load file if it exists\n",
    "if os.path.exists('data/data_pf.pq'):\n",
    "    data_pf = pd.read_parquet('data/data_pf.pq')\n",
    "\n",
    "# Or download data\n",
    "else:\n",
    "    # Scrape pages\n",
    "    pages, errors_pages = data_pf_pages(1, 728, header, 0.1)\n",
    "    pages_dfs_list = [pd.DataFrame(page, columns=['name_txt', 'name_href', 'description_txt', 'quote_txt', 'quote_href', 'meter', 'footer']) for page in pages]\n",
    "    pages_df = pd.concat(pages_dfs_list)\n",
    "\n",
    "    # Scrape articles\n",
    "    articles, errors_articles = data_pf_articles(pages_df['quote_href'], header, 0.1)\n",
    "    articles_dfs_list = [pd.DataFrame(article, columns=['list_of_tags', 'sub_header', 'text_body', 'quote_href']) for article in articles]\n",
    "    articles_df = pd.concat(articles_dfs_list)\n",
    "\n",
    "    # Merge data and save\n",
    "    data_pf = pd.merge(pages_df, articles_df, how='left', on='quote_href')\n",
    "    if not os.path.exists(os.getcwd() + '/data/'):\n",
    "        os.makedirs(os.getcwd() + '/data/')\n",
    "    data_pf.to_parquet('data/data_pf.pq')"
   ]
  },
  {
   "cell_type": "markdown",
   "metadata": {},
   "source": [
    "**Check error lists:**\n",
    "* By checking the error pages manually, we find that they are empty. Hence, we have not lost any data by skipping them.\n",
    "* By checking the error articles manually, we find that they have a different html structure. Append information manually or drop rows by running \n",
    ">```python \n",
    "> for error in errors_articles:\n",
    ">    data[data['quote_href'] == error] = some_list_of_information\n",
    "> # OR\n",
    "> data = data[~data['quote_href'].isin(errors_articles)]\n",
    ">```"
   ]
  },
  {
   "cell_type": "markdown",
   "metadata": {},
   "source": [
    "#### Scrape PeaceData"
   ]
  },
  {
   "cell_type": "code",
   "execution_count": 283,
   "metadata": {},
   "outputs": [],
   "source": [
    "# Load file if it exists\n",
    "if os.path.exists('data/data_pdn.pq'):\n",
    "    data_pdn = pd.read_parquet('data/data_pdn.pq')\n",
    "\n",
    "# Or download data\n",
    "else:\n",
    "    url_api = 'https://web.archive.org/cdx/search/dcx?url=peacedata.net&collapse=digest&from=20190101&to=20200930&output=json'\n",
    "    url_list_json = json.loads(requests.get(url_api).text)\n",
    "    url_list = ['https://web.archive.org/web/' + x[1] + '/' + x[2] for x in url_list_json[1:]]\n",
    "\n",
    "    pd_article_urls, page_errors = extract_urls_pdn_pages(url_list, header, 0.5)\n",
    "\n",
    "    pd_articles, pd_article_errors = data_pdn_(pd_article_urls, header, 0.5)\n",
    "    pd_articles_dfs_list = [pd.DataFrame(article, columns=['list_of_tags', 'sub_header', 'text_body', 'url']) for article in pd_articles]\n",
    "    data_pdn = pd.concat(pd_articles_dfs_list)\n",
    "    data_pdn.to_parquet('data/data_pdn.pq')"
   ]
  },
  {
   "cell_type": "markdown",
   "metadata": {},
   "source": [
    "## Data Structuring"
   ]
  },
  {
   "cell_type": "markdown",
   "metadata": {},
   "source": [
    "### Functions for PolitiFact dataset"
   ]
  },
  {
   "cell_type": "code",
   "execution_count": 284,
   "metadata": {},
   "outputs": [],
   "source": [
    "def clean_text(document):\n",
    "    document = re.sub('\\n', '', document)\n",
    "    document = re.sub('\\xa0', '', document)\n",
    "    return document \n",
    "\n",
    "def description_date(document):\n",
    "    document = re.sub('stated on ', '', document)\n",
    "    document = re.findall(r'[\\w]* [\\d]+, \\d\\d\\d\\d', document)[0]\n",
    "    document = datetime.datetime.strptime(document, '%B %d, %Y')\n",
    "    return document\n",
    "\n",
    "def description_forum(document):\n",
    "    document = re.sub(r'stated on [\\w]* [\\d]+, \\d\\d\\d\\d in ', '', document)\n",
    "    document = re.sub('\\.:', '', document)\n",
    "    document = re.sub(':', '', document)\n",
    "    document = re.sub(r'^[a][n]* ', '', document)\n",
    "    return document\n",
    "\n",
    "def footer_split(document):\n",
    "    document = re.sub('By ', '', document).split('•')\n",
    "    return document "
   ]
  },
  {
   "cell_type": "markdown",
   "metadata": {},
   "source": [
    "### Functions for peacedata.net dataset"
   ]
  },
  {
   "cell_type": "code",
   "execution_count": 285,
   "metadata": {},
   "outputs": [],
   "source": [
    "def remove_HTML_pdn(document):\n",
    "    document = re.sub(\"a.*?>\", \"\", document) #Remove HTML\n",
    "    return document\n",
    "\n",
    "def get_date_pdn(date_time_string):\n",
    "    base_url = 'https://web.archive.org/web/'\n",
    "    date_time_string = date_time_string.replace(base_url, \"\")\n",
    "    date_time_string = date_time_string.split(\"/\")\n",
    "    date_time_string = date_time_string[0][:8]\n",
    "    date_time_var = datetime.datetime.strptime(date_time_string, '%Y%m%d')\n",
    "    return date_time_var"
   ]
  },
  {
   "cell_type": "markdown",
   "metadata": {},
   "source": [
    "## Clean PolitiFact data"
   ]
  },
  {
   "cell_type": "code",
   "execution_count": 286,
   "metadata": {},
   "outputs": [],
   "source": [
    "if list(data_pf.columns) == ['URL', 'Date', 'Name', 'Name URL', 'Forum', 'Quote', 'Conclusion', 'Article', 'Meter', 'Article date', 'Author', 'Tags']:\n",
    "    pass \n",
    "\n",
    "else:\n",
    "    # Clean text\n",
    "    data_pf['name_txt'] = data_pf['name_txt'].apply(clean_text)\n",
    "    data_pf['description_txt'] = data_pf['description_txt'].apply(clean_text)\n",
    "    data_pf['quote_txt'] = data_pf['quote_txt'].apply(clean_text)\n",
    "    data_pf['footer'] = data_pf['footer'].apply(clean_text)\n",
    "    data_pf['sub_header'] = data_pf['sub_header'].apply(clean_text)\n",
    "\n",
    "    # Extract description info\n",
    "    data_pf['description_date'] = data_pf['description_txt'].apply(description_date)\n",
    "    data_pf['description_forum'] = data_pf['description_txt'].apply(description_forum)\n",
    "    data_pf.drop('description_txt', axis=1, inplace=True)\n",
    "\n",
    "    # Extract footer info\n",
    "    data_pf['footer_split'] = data_pf['footer'].apply(footer_split)\n",
    "    data_pf['footer_name'] = [x[0].strip() for x in data_pf['footer_split'] ]\n",
    "    data_pf['footer_date'] = [datetime.datetime.strptime(x[1].strip(), '%B %d, %Y') for x in data_pf['footer_split']]\n",
    "    data_pf.drop(['footer_split', 'footer'], axis=1, inplace=True)\n",
    "\n",
    "    # Drop sources, and order and rename columns \n",
    "    data_pf.rename(columns={'quote_href'         : 'URL', \n",
    "                            'description_date'   : 'Date', \n",
    "                            'name_txt'           : 'Name',\n",
    "                            'name_href'          : 'Name URL',\n",
    "                            'description_forum'  : 'Forum',\n",
    "                            'quote_txt'          : 'Quote',\n",
    "                            'sub_header'         : 'Conclusion',\n",
    "                            'text_body'          : 'Article',\n",
    "                            'meter'              : 'Meter',\n",
    "                            'footer_date'        : 'Article date',\n",
    "                            'footer_name'        : 'Author',\n",
    "                            'tags'               : 'Tags'},\n",
    "                inplace=True)\n",
    "\n",
    "    # Reorder and save \n",
    "    data_pf = data_pf[['URL', 'Date', 'Name', 'Name URL', 'Forum', 'Quote', 'Conclusion', 'Article', 'Meter', 'Article date', 'Author', 'Tags']]\n",
    "    data_pf.to_parquet('data/data_pf.pq')"
   ]
  },
  {
   "cell_type": "markdown",
   "metadata": {},
   "source": [
    "## Clean Peacedata.net data"
   ]
  },
  {
   "cell_type": "code",
   "execution_count": 287,
   "metadata": {},
   "outputs": [],
   "source": [
    "data_pdn_for_clean = data_pdn.copy()\n",
    "\n",
    "#Drop duplicates (Some scraped articles have multiple versions on web.archive.org)\n",
    "data_pdn_for_clean = data_pdn_for_clean.drop_duplicates(subset='title').reset_index(drop=True)\n",
    "\n",
    "#Extract author\n",
    "author_list = []\n",
    "i=0\n",
    "for article in data_pdn_for_clean['text_body']:\n",
    "    if article[0].startswith(' By'):    #If the first line starts with ' By' then split the line at \",\" and replace \" By\" with empty space. Finally, strip white-space of str.\n",
    "                                        #Same procedure as below.\n",
    "        author_list.append(article[0].split(\",\")[0].replace(\" By\", \"\").strip())\n",
    "        i+1\n",
    "    elif article[0].startswith('By'):\n",
    "        author_list.append(article[0].split(\",\")[0].replace(\"By\", \"\").strip())\n",
    "        i+1\n",
    "    elif article[0].startswith(' by'):\n",
    "        author_list.append(article[0].split(\",\")[0].replace(\" by\", \"\").strip())\n",
    "        i+1\n",
    "    elif article[0].startswith('by'):\n",
    "        author_list.append(article[0].split(\",\")[0].replace(\"by\", \"\").strip())\n",
    "        i+1\n",
    "    else: \n",
    "        author_list.append('Unknown')\n",
    "        i+1\n",
    "\n",
    "data_pdn_for_clean['author']=author_list\n",
    "\n",
    "#Remove last 3 lines (typically contains licensing info) and start from 2nd line (1st line typically has author info)\n",
    "i=0\n",
    "for article in data_pdn_for_clean['text_body'][i]:\n",
    "    data_pdn_for_clean['text_body'][i]=data_pdn_for_clean['text_body'][i][2:-3]\n",
    "    i+=1\n",
    "\n",
    "\n",
    "#Join text as one string\n",
    "article_list = []\n",
    "i=0\n",
    "for article in data_pdn_for_clean['text_body']:\n",
    "    article = ''.join(article)\n",
    "    article_list.append(article)\n",
    "    i=+1\n",
    "\n",
    "data_pdn_for_clean['text_body']=article_list\n",
    "\n",
    "#Drop '\\n' and '\\xa0'\n",
    "data_pdn_for_clean['text_body'] = data_pdn_for_clean['text_body'].apply(clean_text)\n",
    "\n",
    "#Drop HTML\n",
    "data_pdn_for_clean['text_body'] = data_pdn_for_clean['text_body'].apply(remove_HTML_pdn)\n",
    "\n",
    "#Get the dates of the articles (the time they were stored by web.archive.org!)\n",
    "data_pdn_for_clean['date']=data_pdn_for_clean['url'].apply(get_date_pdn)\n",
    "\n",
    "data_pdn_for_clean.rename(columns={\n",
    "                                'title': 'Title',\n",
    "                                'text_body': 'Article',\n",
    "                                'tags': 'Tags',\n",
    "                                'url': 'URL',\n",
    "                                'author': 'Author',\n",
    "                                'date': 'Date'\n",
    "}, inplace=True)\n",
    "\n",
    "data_pdn_for_clean = data_pdn_for_clean[['URL', 'Date', 'Title', 'Article', 'Author', 'Tags']]"
   ]
  },
  {
   "cell_type": "code",
   "execution_count": 288,
   "metadata": {},
   "outputs": [
    {
     "data": {
      "text/html": [
       "<div>\n",
       "<style scoped>\n",
       "    .dataframe tbody tr th:only-of-type {\n",
       "        vertical-align: middle;\n",
       "    }\n",
       "\n",
       "    .dataframe tbody tr th {\n",
       "        vertical-align: top;\n",
       "    }\n",
       "\n",
       "    .dataframe thead th {\n",
       "        text-align: right;\n",
       "    }\n",
       "</style>\n",
       "<table border=\"1\" class=\"dataframe\">\n",
       "  <thead>\n",
       "    <tr style=\"text-align: right;\">\n",
       "      <th></th>\n",
       "      <th>URL</th>\n",
       "      <th>Date</th>\n",
       "      <th>Title</th>\n",
       "      <th>Article</th>\n",
       "      <th>Author</th>\n",
       "      <th>Tags</th>\n",
       "    </tr>\n",
       "  </thead>\n",
       "  <tbody>\n",
       "    <tr>\n",
       "      <th>0</th>\n",
       "      <td>https://web.archive.org/web/20200620054148/htt...</td>\n",
       "      <td>2020-06-20</td>\n",
       "      <td>How ‘Defense’ Contractors Lobbied For War in Y...</td>\n",
       "      <td>On August 9th, 2018, Saudi Arabia used a laser...</td>\n",
       "      <td>Ben Barbour</td>\n",
       "      <td>[Arms sales, Defense Contractors, McKeon Group...</td>\n",
       "    </tr>\n",
       "    <tr>\n",
       "      <th>1</th>\n",
       "      <td>https://web.archive.org/web/20200620054148/htt...</td>\n",
       "      <td>2020-06-20</td>\n",
       "      <td>Corporate Industries in the USA: a Menace to t...</td>\n",
       "      <td>But these advancements happened at the cost of...</td>\n",
       "      <td>Unknown</td>\n",
       "      <td>[Environment, USA]</td>\n",
       "    </tr>\n",
       "    <tr>\n",
       "      <th>2</th>\n",
       "      <td>https://web.archive.org/web/20200902161142/htt...</td>\n",
       "      <td>2020-09-02</td>\n",
       "      <td>COVID-19: the World is on Pause but Climate Cr...</td>\n",
       "      <td>The year 2020 has been a disaster for the whol...</td>\n",
       "      <td>Ayushi Goyal</td>\n",
       "      <td>[COVID-19, Environmental Disaster]</td>\n",
       "    </tr>\n",
       "    <tr>\n",
       "      <th>3</th>\n",
       "      <td>https://web.archive.org/web/20200902161142/htt...</td>\n",
       "      <td>2020-09-02</td>\n",
       "      <td>Julian Assange Court Case Delayed Again in Biz...</td>\n",
       "      <td>Assange sat in a conference room used by the e...</td>\n",
       "      <td>Unknown</td>\n",
       "      <td>[Assange, WikiLeaks]</td>\n",
       "    </tr>\n",
       "    <tr>\n",
       "      <th>4</th>\n",
       "      <td>https://web.archive.org/web/20200901191737/htt...</td>\n",
       "      <td>2020-09-01</td>\n",
       "      <td>US Workers, Minorities Continuously Face Housi...</td>\n",
       "      <td>Minimum wage workers andpeople of color (POC) ...</td>\n",
       "      <td>Sly Custodio</td>\n",
       "      <td>[#cancelrent, COVID-19, rent]</td>\n",
       "    </tr>\n",
       "  </tbody>\n",
       "</table>\n",
       "</div>"
      ],
      "text/plain": [
       "                                                 URL       Date  \\\n",
       "0  https://web.archive.org/web/20200620054148/htt... 2020-06-20   \n",
       "1  https://web.archive.org/web/20200620054148/htt... 2020-06-20   \n",
       "2  https://web.archive.org/web/20200902161142/htt... 2020-09-02   \n",
       "3  https://web.archive.org/web/20200902161142/htt... 2020-09-02   \n",
       "4  https://web.archive.org/web/20200901191737/htt... 2020-09-01   \n",
       "\n",
       "                                               Title  \\\n",
       "0  How ‘Defense’ Contractors Lobbied For War in Y...   \n",
       "1  Corporate Industries in the USA: a Menace to t...   \n",
       "2  COVID-19: the World is on Pause but Climate Cr...   \n",
       "3  Julian Assange Court Case Delayed Again in Biz...   \n",
       "4  US Workers, Minorities Continuously Face Housi...   \n",
       "\n",
       "                                             Article        Author  \\\n",
       "0  On August 9th, 2018, Saudi Arabia used a laser...   Ben Barbour   \n",
       "1  But these advancements happened at the cost of...       Unknown   \n",
       "2  The year 2020 has been a disaster for the whol...  Ayushi Goyal   \n",
       "3  Assange sat in a conference room used by the e...       Unknown   \n",
       "4  Minimum wage workers andpeople of color (POC) ...  Sly Custodio   \n",
       "\n",
       "                                                Tags  \n",
       "0  [Arms sales, Defense Contractors, McKeon Group...  \n",
       "1                                 [Environment, USA]  \n",
       "2                 [COVID-19, Environmental Disaster]  \n",
       "3                               [Assange, WikiLeaks]  \n",
       "4                      [#cancelrent, COVID-19, rent]  "
      ]
     },
     "execution_count": 288,
     "metadata": {},
     "output_type": "execute_result"
    }
   ],
   "source": [
    "data_pdn_for_clean.head()"
   ]
  },
  {
   "cell_type": "markdown",
   "metadata": {},
   "source": [
    "# Plotting"
   ]
  },
  {
   "cell_type": "markdown",
   "metadata": {},
   "source": [
    "### Descriptive statistics"
   ]
  },
  {
   "cell_type": "code",
   "execution_count": 379,
   "metadata": {},
   "outputs": [],
   "source": [
    "import matplotlib.pyplot as plt \n",
    "import seaborn as sns\n",
    "\n",
    "plt.style.use('seaborn-whitegrid')\n",
    "%matplotlib inline\n",
    "\n",
    "plt.rcParams.update({\n",
    "  \"text.usetex\": True,\n",
    "  \"font.family\": \"Helvetica\"\n",
    "                    }) #use tex text formatting\n",
    "\n",
    "SMALL_SIZE = 14\n",
    "MEDIUM_SIZE = 18\n",
    "BIGGER_SIZE = 20\n",
    "\n",
    "plt.rc('font', size=SMALL_SIZE)          # controls default text sizes\n",
    "plt.rc('axes', titlesize=MEDIUM_SIZE)     # fontsize of the axes title\n",
    "plt.rc('axes', labelsize=MEDIUM_SIZE)    # fontsize of the x and y labels\n",
    "plt.rc('xtick', labelsize=SMALL_SIZE)    # fontsize of the tick labels\n",
    "plt.rc('ytick', labelsize=SMALL_SIZE)    # fontsize of the tick labels\n",
    "plt.rc('legend', fontsize=SMALL_SIZE)    # legend fontsize\n",
    "plt.rc('figure', titlesize=BIGGER_SIZE)  # fontsize of the figure title\n",
    "\n",
    "plt.rcParams['figure.figsize'] = 10, 4 # set default size of plots"
   ]
  },
  {
   "cell_type": "code",
   "execution_count": 290,
   "metadata": {},
   "outputs": [],
   "source": [
    "# Extract and sort tags\n",
    "data_temp = pd.read_parquet('data/data_pf.pq')\n",
    "\n",
    "df_temp = data_temp.copy()\n",
    "\n",
    "df_temp['Year'] = df_temp['Date'].dt.year #make year collumn"
   ]
  },
  {
   "cell_type": "code",
   "execution_count": 291,
   "metadata": {},
   "outputs": [],
   "source": [
    "tags_by_year = {}\n",
    "\n",
    "# Extract and count tags used in article by year\n",
    "for year in df_temp['Year'].unique():\n",
    "    df_new=df_temp[df_temp['Year']==year]\n",
    "    tag_values = pd.Series([x for list in df_new['Tags'] for x in list]).value_counts()\n",
    "    tags_by_year[year] = tag_values #Make dictionary: Key = year. Value is number of tags used in articles \n",
    "   \n",
    "\n",
    "tags_by_year = dict(sorted(tags_by_year.items())) #Sort the dict by year\n",
    "tag_df = pd.DataFrame(tags_by_year).fillna(0) #Make df of the tag dict and fill NaN as 0"
   ]
  },
  {
   "cell_type": "code",
   "execution_count": 292,
   "metadata": {},
   "outputs": [],
   "source": [
    "#Extract the top 10 tags in the past five years\n",
    "top_10_tags = list(tag_df.iloc[:, -5:]\\\n",
    "    .sum(axis=1)\\\n",
    "    .nlargest(10)\\\n",
    "    .index\\\n",
    "    .values)"
   ]
  },
  {
   "cell_type": "code",
   "execution_count": 293,
   "metadata": {},
   "outputs": [
    {
     "data": {
      "image/png": "[encoded data removed]",
      "text/plain": [
       "<Figure size 720x288 with 1 Axes>"
      ]
     },
     "metadata": {
      "needs_background": "light"
     },
     "output_type": "display_data"
    }
   ],
   "source": [
    "top_10_tags = tag_df.loc[top_10_tags, :].iloc[:,-5:]\n",
    "\n",
    "fig1 = top_10_tags.plot(kind='barh', stacked=True, colormap='viridis')\n",
    "fig1.legend(frameon=True)\n",
    "fig1.set_xlabel('No. of tags used in articles')\n",
    "plt.savefig('figs/fig1_top_10_tags.pdf', bbox_inches = \"tight\")"
   ]
  },
  {
   "cell_type": "code",
   "execution_count": 294,
   "metadata": {},
   "outputs": [],
   "source": [
    "# Drop observations with different scale\n",
    "df_temp = df_temp[~df_temp['Meter'].isin(['full-flop', 'half-flip', 'no-flip'])]\n",
    "\n",
    "cat_by_date = {}\n",
    "\n",
    "# Extract and count tags used in article by date\n",
    "for date in df_temp['Date'].unique():\n",
    "    df_new=df_temp[df_temp['Date']==date]\n",
    "    tag_values = pd.Series(df_new['Meter']).value_counts()\n",
    "    cat_by_date[date] = tag_values #Make dictionary: Key = date. Value is count of statement classification (pants-on-fire, false, true etc)\n",
    "   \n",
    "\n",
    "\n",
    "cat_by_date = dict(sorted(cat_by_date.items())) #Sort the dict by date\n",
    "\n",
    "reorder_list = ['true', 'mostly-true', 'half-true', 'barely-true', 'false', 'pants-fire'] #define order of sorting to dataframe\n",
    "\n",
    "df_cat = pd.DataFrame(cat_by_date).fillna(0)\n",
    "df_cat = df_cat.reindex(reorder_list) #reorder according to above list"
   ]
  },
  {
   "cell_type": "code",
   "execution_count": 295,
   "metadata": {},
   "outputs": [],
   "source": [
    "df_cat_dev_cuma = df_cat.iloc[:, :]\\\n",
    "    .cumsum(axis=1)"
   ]
  },
  {
   "cell_type": "code",
   "execution_count": 296,
   "metadata": {},
   "outputs": [
    {
     "data": {
      "image/png": "[encoded data removed]",
      "text/plain": [
       "<Figure size 720x288 with 1 Axes>"
      ]
     },
     "metadata": {
      "needs_background": "light"
     },
     "output_type": "display_data"
    }
   ],
   "source": [
    "cat_plot = df_cat_dev_cuma.T.iloc[:, :].plot(colormap='seismic')\n",
    "cat_plot.legend(frameon=True)\n",
    "cat_plot.set_xlim(pd.Timestamp('2012-01-01'), pd.Timestamp('2022-08-31'))\n",
    "plt.savefig('figs/fig2.pdf', bbox_inches='tight')"
   ]
  },
  {
   "cell_type": "code",
   "execution_count": 297,
   "metadata": {},
   "outputs": [
    {
     "data": {
      "image/png": "[encoded data removed]",
      "text/plain": [
       "<Figure size 720x288 with 1 Axes>"
      ]
     },
     "metadata": {
      "needs_background": "light"
     },
     "output_type": "display_data"
    }
   ],
   "source": [
    "tag_values = pd.Series([x for list in data_pdn_for_clean['Tags'] for x in list]).value_counts()\n",
    "\n",
    "fig3 = tag_values[:5].plot(kind='barh', color=['tab:blue', 'tab:blue', 'tab:red', 'tab:red', 'tab:green'])\n",
    "fig3.set_xlabel('No. of tags used in articles')\n",
    "plt.savefig('figs/fig3_top5tags_pdn.pdf', bbox_inches='tight')"
   ]
  },
  {
   "cell_type": "code",
   "execution_count": 357,
   "metadata": {},
   "outputs": [],
   "source": [
    "import nltk\n",
    "from nltk.probability import FreqDist\n",
    "\n",
    "def word_count_prep(document):\n",
    "\n",
    "    # Lowercase and remove non-alphanumeric characters\n",
    "    document = document.lower()\n",
    "    document = re.sub(r'[^\\w\\s]', ' ', document)\n",
    "\n",
    "    # Tokenize \n",
    "    document_tokens = nltk.tokenize.word_tokenize(document)\n",
    "\n",
    "    # Delete stop-words\n",
    "    document_nostop = [i for i in document_tokens if i not in nltk.corpus.stopwords.words('english')]\n",
    "\n",
    "\n",
    "    return document_nostop\n",
    "\n",
    "lemz_pdn = data_pdn_for_clean['Article'].apply(word_count_prep)\n",
    "lemz_pf = data_pf['Quote'].apply(word_count_prep)"
   ]
  },
  {
   "cell_type": "code",
   "execution_count": 366,
   "metadata": {},
   "outputs": [],
   "source": [
    "all_words_pdn = []\n",
    "\n",
    "for word_list in lemz_pdn:\n",
    "    all_words_pdn += word_list\n",
    "\n",
    "mostcommon_pdn = FreqDist(all_words_pdn).most_common(5)"
   ]
  },
  {
   "cell_type": "code",
   "execution_count": 367,
   "metadata": {},
   "outputs": [],
   "source": [
    "all_words_pf = []\n",
    "\n",
    "for word_list in lemz_pf:\n",
    "    all_words_pf += word_list\n",
    "\n",
    "mostcommon_pf = FreqDist(all_words_pf).most_common(5)"
   ]
  },
  {
   "cell_type": "code",
   "execution_count": 368,
   "metadata": {},
   "outputs": [],
   "source": [
    "mostcommon_pdn\n",
    "x_pdn, y_pdn = zip(*mostcommon_pdn)"
   ]
  },
  {
   "cell_type": "code",
   "execution_count": 369,
   "metadata": {},
   "outputs": [],
   "source": [
    "x_pf, y_pf = zip(*mostcommon_pf)"
   ]
  },
  {
   "cell_type": "code",
   "execution_count": 384,
   "metadata": {},
   "outputs": [
    {
     "data": {
      "image/png": "[encoded data removed]",
      "text/plain": [
       "<Figure size 864x360 with 2 Axes>"
      ]
     },
     "metadata": {
      "needs_background": "light"
     },
     "output_type": "display_data"
    }
   ],
   "source": [
    "f_words, ax = plt.subplots(1,2, figsize=(12, 5))\n",
    "\n",
    "\n",
    "ax[0].bar(x_pf, y_pf, color='tab:blue')\n",
    "ax[0].set_title(\"PolitiFact.com\")\n",
    "ax[0].set_ylabel('Word count')\n",
    "ax[1].bar(x_pdn, y_pdn, color='tab:green')\n",
    "ax[1].set_title(\"Peacedata.net\")\n",
    "ax[1].set_ylabel('Word count')\n",
    "\n",
    "plt.savefig('figs/word_count.pdf', bbox_inches='tight')"
   ]
  },
  {
   "cell_type": "markdown",
   "metadata": {},
   "source": [
    "## Analysis"
   ]
  },
  {
   "cell_type": "markdown",
   "metadata": {},
   "source": [
    "Define functions: "
   ]
  },
  {
   "cell_type": "code",
   "execution_count": 298,
   "metadata": {},
   "outputs": [],
   "source": [
    "import nltk\n",
    "from sklearn.model_selection import train_test_split\n",
    "from sklearn.feature_extraction.text import TfidfVectorizer\n",
    "from sklearn.model_selection import KFold\n",
    "from sklearn.metrics import accuracy_score as acc \n",
    "from sklearn.linear_model import LogisticRegression\n",
    "from sklearn.pipeline import make_pipeline\n",
    "from sklearn.model_selection import GridSearchCV\n",
    "from sklearn.model_selection import learning_curve\n",
    "from sklearn.model_selection import validation_curve\n",
    "\n",
    "pd.options.mode.chained_assignment = None\n",
    "from warnings import simplefilter\n",
    "from sklearn.exceptions import ConvergenceWarning\n",
    "simplefilter(\"ignore\", category=ConvergenceWarning)"
   ]
  },
  {
   "cell_type": "code",
   "execution_count": 299,
   "metadata": {},
   "outputs": [],
   "source": [
    "def partition(df, true, fake): \n",
    "    \n",
    "    part = df[df['Meter'].isin(true + fake)]\n",
    "    part['Fake'] = part['Meter'].isin(fake).astype(int)\n",
    "\n",
    "    return part\n",
    "\n",
    "def prepare(document):\n",
    "\n",
    "    # Lowercase and remove non-alphanumeric characters\n",
    "    document = document.lower()\n",
    "    document = re.sub(r'[^\\w\\s]', ' ', document)\n",
    "\n",
    "    # Tokenize \n",
    "    document_tokens = nltk.tokenize.word_tokenize(document)\n",
    "\n",
    "    # Delete stop-words\n",
    "    document_nostop = [i for i in document_tokens if i not in nltk.corpus.stopwords.words('english')]\n",
    "\n",
    "    # Lemmatize \n",
    "    document_lemmatized = [nltk.WordNetLemmatizer().lemmatize(i) for i in document_nostop]\n",
    "    \n",
    "    # Covert from list back to string \n",
    "    document = ' '.join(document_lemmatized)\n",
    "    \n",
    "    return document "
   ]
  },
  {
   "cell_type": "markdown",
   "metadata": {},
   "source": [
    "### Partitioning:"
   ]
  },
  {
   "cell_type": "code",
   "execution_count": 300,
   "metadata": {},
   "outputs": [],
   "source": [
    "part1 = partition(data_pf, ['true'], ['pants-fire'])\n",
    "X1 = part1['Quote'].apply(prepare).values \n",
    "y1 = part1['Fake'].values\n",
    "\n",
    "part2 = partition(data_pf, ['true', 'mostly-true'], ['pants-fire', 'false'])\n",
    "X2 = part2['Quote'].apply(prepare).values \n",
    "y2 = part2['Fake'].values\n",
    "\n",
    "part3 = partition(data_pf, ['true', 'mostly-true', 'half-true'], ['pants-fire', 'false', 'barely-true'])\n",
    "X3 = part3['Quote'].apply(prepare).values \n",
    "y3 = part3['Fake'].values"
   ]
  },
  {
   "cell_type": "code",
   "execution_count": 301,
   "metadata": {},
   "outputs": [],
   "source": [
    "X1_dev, X1_test, y1_dev, y1_test = train_test_split(X1, y1, test_size=1/3, random_state=1337)\n",
    "X1_train, X1_val1, y1_train, y1_val = train_test_split(X1_dev, y1_dev, test_size=1/2, random_state=1337)\n",
    "\n",
    "X2_dev, X2_test, y2_dev, y2_test = train_test_split(X2, y2, test_size=1/3, random_state=1337)\n",
    "X2_train, X2_val, y2_train, y2_val = train_test_split(X2_dev, y2_dev, test_size=1/2, random_state=1337)\n",
    "\n",
    "X3_dev, X3_test, y3_dev, y3_test = train_test_split(X3, y3, test_size=1/3, random_state=1337)\n",
    "X3_train, X3_val, y3_train, y3_val = train_test_split(X3_dev, y3_dev, test_size=1/2, random_state=1337)"
   ]
  },
  {
   "cell_type": "markdown",
   "metadata": {},
   "source": [
    "### Learning curve"
   ]
  },
  {
   "cell_type": "code",
   "execution_count": 302,
   "metadata": {},
   "outputs": [],
   "source": [
    "pipe = make_pipeline(TfidfVectorizer(), LogisticRegression())"
   ]
  },
  {
   "cell_type": "code",
   "execution_count": 303,
   "metadata": {},
   "outputs": [],
   "source": [
    "train_sizes1, train_scores1, test_scores1 = \\\n",
    "    learning_curve(estimator=pipe,\n",
    "                   X=X1_dev,\n",
    "                   y=y1_dev,\n",
    "                   train_sizes=np.arange(0.05, 1.05, .05),\n",
    "                   scoring='accuracy',                 \n",
    "                   cv=10)\n",
    "\n",
    "train_sizes2, train_scores2, test_scores2 = \\\n",
    "    learning_curve(estimator=pipe,\n",
    "                   X=X2_dev,\n",
    "                   y=y2_dev,\n",
    "                   train_sizes=np.arange(0.05, 1.05, .05),\n",
    "                   scoring='accuracy',                 \n",
    "                   cv=10)\n",
    "\n",
    "train_sizes3, train_scores3, test_scores3 = \\\n",
    "    learning_curve(estimator=pipe,\n",
    "                   X=X3_dev,\n",
    "                   y=y3_dev,\n",
    "                   train_sizes=np.arange(0.05, 1.05, .05),\n",
    "                   scoring='accuracy',                 \n",
    "                   cv=10)"
   ]
  },
  {
   "cell_type": "code",
   "execution_count": 304,
   "metadata": {},
   "outputs": [
    {
     "data": {
      "image/png": "[encoded data removed]",
      "text/plain": [
       "<Figure size 720x864 with 3 Axes>"
      ]
     },
     "metadata": {
      "needs_background": "light"
     },
     "output_type": "display_data"
    }
   ],
   "source": [
    "f_learn, ax = plt.subplots(3, 1, figsize=(10, 12))\n",
    "\n",
    "ax[0].fill_between(train_sizes1, test_scores1.min(1), test_scores1.max(1), alpha=0.25, label ='Validation', color='blue')\n",
    "ax[0].fill_between(train_sizes1, train_scores1.min(1), train_scores1.max(1),  alpha=0.25, label='Train', color='orange')\n",
    "ax[0].set_title(\"['true'] vs ['pants-fire']\")\n",
    "ax[0].set_ylabel('Accuracy')\n",
    "ax[0].set_ylim([0.5,1])\n",
    "ax[0].legend(frameon=True)\n",
    "\n",
    "ax[1].fill_between(train_sizes2, test_scores2.min(1), test_scores2.max(1), alpha=0.25, label ='Validation', color='blue')\n",
    "ax[1].fill_between(train_sizes2, train_scores2.min(1), train_scores2.max(1),  alpha=0.25, label='Train', color='orange')\n",
    "ax[1].set_title(\"['true', 'mostly-true'] vs ['pants-fire', 'false']\")\n",
    "ax[1].set_ylabel('Accuracy')\n",
    "ax[1].set_ylim([0.5,1])\n",
    "ax[1].legend(frameon=True)\n",
    "\n",
    "ax[2].fill_between(train_sizes3, test_scores3.min(1), test_scores3.max(1), alpha=0.25, label ='Validation', color='blue')\n",
    "ax[2].fill_between(train_sizes3, train_scores3.min(1), train_scores3.max(1),  alpha=0.25, label='Train', color='orange')\n",
    "ax[2].set_title(\"['true', 'mostly-true', 'half-true'] vs ['pants-fire', 'false', 'barely-true']\")\n",
    "ax[2].set_ylabel('Accuracy')\n",
    "ax[2].set_ylim([0.5,1])\n",
    "ax[2].set_xlabel('Train sizes')\n",
    "ax[2].legend(frameon=True)\n",
    "\n",
    "\n",
    "f_learn.suptitle('Range of performance (min, max)');\n",
    "plt.savefig('figs/learning_curve.pdf', bbox_inches='tight')"
   ]
  },
  {
   "cell_type": "markdown",
   "metadata": {},
   "source": [
    "### Validation curve:"
   ]
  },
  {
   "cell_type": "code",
   "execution_count": 305,
   "metadata": {},
   "outputs": [],
   "source": [
    "lambdas = np.logspace(-4, 4, 50)\n",
    "Cs = 1/lambdas\n",
    "\n",
    "\n",
    "\n",
    "train_scores1_vc, test_scores1_vc = \\\n",
    "    validation_curve(estimator=pipe,\n",
    "                     X=X1_dev,\n",
    "                     y=y1_dev,\n",
    "                     param_name='logisticregression__C', #built-in name of hyperparameter\n",
    "                     param_range=Cs, #values to consider\n",
    "                     scoring='accuracy',                 \n",
    "                     cv=10)\n",
    "\n",
    "train_scores2_vc, test_scores2_vc = \\\n",
    "    validation_curve(estimator=pipe,\n",
    "                     X=X2_dev,\n",
    "                     y=y2_dev,\n",
    "                     param_name='logisticregression__C', #built-in name of hyperparameter\n",
    "                     param_range=Cs, #values to consider\n",
    "                     scoring='accuracy',                 \n",
    "                     cv=10)\n",
    "\n",
    "train_scores3_vc, test_scores3_vc = \\\n",
    "    validation_curve(estimator=pipe,\n",
    "                     X=X3_dev,\n",
    "                     y=y3_dev,\n",
    "                     param_name='logisticregression__C', #built-in name of hyperparameter\n",
    "                     param_range=Cs, #values to consider\n",
    "                     scoring='accuracy',                 \n",
    "                     cv=10)                 "
   ]
  },
  {
   "cell_type": "code",
   "execution_count": 306,
   "metadata": {},
   "outputs": [
    {
     "data": {
      "image/png": "[encoded data removed]",
      "text/plain": [
       "<Figure size 720x864 with 3 Axes>"
      ]
     },
     "metadata": {
      "needs_background": "light"
     },
     "output_type": "display_data"
    }
   ],
   "source": [
    "best_acc1 = max(test_scores1_vc.mean(axis=1))\n",
    "best_lambda1 = 1/Cs[np.where(test_scores1_vc.mean(axis=1) == best_acc1)]\n",
    "best_acc2 = max(test_scores2_vc.mean(axis=1))\n",
    "best_lambda2 = 1/Cs[np.where(test_scores2_vc.mean(axis=1) == best_acc2)]\n",
    "best_acc3 = max(test_scores3_vc.mean(axis=1))\n",
    "best_lambda3 = 1/Cs[np.where(test_scores3_vc.mean(axis=1) == best_acc3)]\n",
    "\n",
    "f_learn, ax = plt.subplots(3, 1, figsize=(10, 12), sharex=True)\n",
    "\n",
    "ax[0].fill_between(1/Cs, test_scores1_vc.min(1), test_scores1_vc.max(1), alpha=0.25, label ='Validation', color='blue')\n",
    "ax[0].fill_between(1/Cs, train_scores1_vc.min(1), train_scores1_vc.max(1),  alpha=0.25, label='Train', color='orange')\n",
    "ax[0].scatter(best_lambda1, best_acc1, label='Optimal $\\lambda$', color='blue')\n",
    "ax[0].set_title(\"['true'] vs ['pants-fire']\")\n",
    "ax[0].set_ylabel('Accuracy')\n",
    "ax[0].set_ylim([0.5,1.1])\n",
    "ax[0].set_xscale('log')\n",
    "ax[0].legend(loc='upper right', frameon=True)\n",
    "\n",
    "ax[1].fill_between(1/Cs, test_scores2_vc.min(1), test_scores2_vc.max(1), alpha=0.25, label ='Validation', color='blue')\n",
    "ax[1].fill_between(1/Cs, train_scores2_vc.min(1), train_scores2_vc.max(1),  alpha=0.25, label='Train', color='orange')\n",
    "ax[1].scatter(best_lambda2, best_acc2, label='Optimal $\\lambda$', color='blue')\n",
    "ax[1].set_title(\"['true', 'mostly-true'] vs ['pants-fire', 'false']\")\n",
    "ax[1].set_ylabel('Accuracy')\n",
    "ax[1].set_ylim([0.5,1.1])\n",
    "ax[1].set_xscale('log')\n",
    "ax[1].legend(loc='upper right', frameon=True)\n",
    "\n",
    "ax[2].fill_between(1/Cs, test_scores3_vc.min(1), test_scores3_vc.max(1), alpha=0.25, label ='Validation', color='blue')\n",
    "ax[2].fill_between(1/Cs, train_scores3_vc.min(1), train_scores3_vc.max(1),  alpha=0.25, label='Train', color='orange')\n",
    "ax[2].scatter(best_lambda3, best_acc3, label='Optimal $\\lambda$', color='blue')\n",
    "ax[2].set_title(\"['true', 'mostly-true', 'half-true'] vs ['pants-fire', 'false', 'barely-true']\")\n",
    "ax[2].set_ylabel('Accuracy')\n",
    "ax[2].set_ylim([0.5,1.1])\n",
    "ax[2].set_xscale('log')\n",
    "ax[2].set_xlabel('Lambdas, $\\lambda$')\n",
    "ax[2].legend(loc='upper right', frameon=True)\n",
    "\n",
    "\n",
    "f_learn.suptitle('Range of performance (min, max)');\n",
    "plt.savefig('figs/validation_curve.pdf', bbox_inches='tight')"
   ]
  },
  {
   "cell_type": "code",
   "execution_count": 307,
   "metadata": {},
   "outputs": [
    {
     "name": "stdout",
     "output_type": "stream",
     "text": [
      "\\begin{tabular}{lrrr}\n",
      "\\toprule\n",
      "{} &  \\$Model\\_1\\$ &  \\$Model\\_2\\$ &  \\$Model\\_3\\$ \\\\\n",
      "\\midrule\n",
      "0 &   0.568987 &   0.828643 &   1.757511 \\\\\n",
      "1 &   0.764052 &   0.722117 &   0.667791 \\\\\n",
      "\\bottomrule\n",
      "\\end{tabular}\n",
      "\n"
     ]
    },
    {
     "name": "stderr",
     "output_type": "stream",
     "text": [
      "C:\\Users\\JBH\\AppData\\Local\\Temp\\ipykernel_22052\\906168421.py:1: FutureWarning: In future versions `DataFrame.to_latex` is expected to utilise the base implementation of `Styler.to_latex` for formatting and rendering. The arguments signature may therefore change. It is recommended instead to use `DataFrame.style.to_latex` which also contains additional functionality.\n",
      "  print(pd.DataFrame({'$Model_1$': [best_lambda1[0], best_acc1], '$Model_2$': [best_lambda2[0], best_acc2], '$Model_3$': [best_lambda3[0], best_acc3]}, np.arange(2)).to_latex())\n"
     ]
    }
   ],
   "source": [
    "print(pd.DataFrame({'$Model_1$': [best_lambda1[0], best_acc1], '$Model_2$': [best_lambda2[0], best_acc2], '$Model_3$': [best_lambda3[0], best_acc3]}, np.arange(2)).to_latex())"
   ]
  },
  {
   "cell_type": "markdown",
   "metadata": {},
   "source": [
    "### Topic modelling - peacedata.net"
   ]
  },
  {
   "cell_type": "code",
   "execution_count": 308,
   "metadata": {},
   "outputs": [
    {
     "name": "stdout",
     "output_type": "stream",
     "text": [
      "Topic 1:\n",
      "turkey journalists immigration migrants qaeda\n",
      "Topic 2:\n",
      "yemen assange britain coalition eu\n",
      "Topic 3:\n",
      "fox mau sexual kenya exarcheia\n",
      "Topic 4:\n",
      "muslims henderson opcw pakistan hong\n",
      "Topic 5:\n",
      "amazon adani color gas project\n"
     ]
    }
   ],
   "source": [
    "from sklearn.feature_extraction.text import CountVectorizer\n",
    "count = CountVectorizer(stop_words='english', max_df=0.1, max_features=5000)\n",
    "bag = count.fit_transform(data_pdn_for_clean['Article'].values)\n",
    "\n",
    "from sklearn.decomposition import LatentDirichletAllocation\n",
    "lda = LatentDirichletAllocation(n_components=5,random_state=123) #The random_state parameter pass an integer that makes the result reproducible \n",
    "review_topics = lda.fit_transform(bag)\n",
    "\n",
    "n_top_words = 5\n",
    "word_names = count.get_feature_names_out()\n",
    "for topic_idx, topic in enumerate(lda.components_): #lda.components_ stores a matrix containing the word importance for each topic\n",
    "    print(\"Topic %d:\" % (topic_idx + 1))\n",
    "    print(\" \".join([word_names[i]\n",
    "    for i in topic.argsort()\\\n",
    "        [:-n_top_words - 1:-1]]))"
   ]
  },
  {
   "cell_type": "markdown",
   "metadata": {},
   "source": [
    "Proceed with partition 2 - ['true', 'mostly-true'] vs ['false', 'pants-fire']\n",
    "- It's the most logical (?) "
   ]
  },
  {
   "cell_type": "code",
   "execution_count": 310,
   "metadata": {},
   "outputs": [],
   "source": [
    "from sklearn.metrics import confusion_matrix\n",
    "lr = LogisticRegression(random_state=1337, C=1/best_lambda2[0])\n",
    "tfidf = TfidfVectorizer()\n",
    "\n",
    "X2_dev_bag = tfidf.fit_transform(X2_dev)\n",
    "X2_test_bag = tfidf.transform(X2_test)\n",
    "\n",
    "lr_fake_news = lr.fit(X2_dev_bag, y2_dev)\n",
    "y2_preds = lr.predict_proba(X2_test_bag)"
   ]
  },
  {
   "cell_type": "code",
   "execution_count": 311,
   "metadata": {},
   "outputs": [
    {
     "name": "stdout",
     "output_type": "stream",
     "text": [
      "The bias term is: 0.7927012803034159\n"
     ]
    }
   ],
   "source": [
    "print('The bias term is:', lr.intercept_[0])"
   ]
  },
  {
   "cell_type": "code",
   "execution_count": 312,
   "metadata": {},
   "outputs": [
    {
     "data": {
      "image/png": "[encoded data removed]",
      "text/plain": [
       "<Figure size 720x288 with 1 Axes>"
      ]
     },
     "metadata": {
      "needs_background": "light"
     },
     "output_type": "display_data"
    }
   ],
   "source": [
    "true_pos = []\n",
    "true_neg = []\n",
    "false_pos = []\n",
    "false_neg = []\n",
    "\n",
    "i=0\n",
    "\n",
    "for prob in y2_preds:\n",
    "    if (prob[0]>prob[1]) & (y2_test[i] == 0):\n",
    "        true_neg.append(prob[0])\n",
    "    elif (prob[1]>prob[0]) & (y2_test[i] == 1):\n",
    "        true_pos.append(prob[1])\n",
    "    elif (prob[1]>prob[0]) & (y2_test[i] == 0):\n",
    "        false_pos.append(prob[0])\n",
    "    elif (prob[0]>prob[1]) & (y2_test[i] == 1):\n",
    "        false_neg.append(prob[1])\n",
    "    i+=1\n",
    "\n",
    "fig = plt.figure()\n",
    "ax1 = fig.add_subplot()\n",
    "ax1.scatter(y=true_neg, x=[0]*len(true_neg), s=10, c='b', label='True negative')\n",
    "ax1.scatter(y=true_pos, x=[1]*len(true_pos), s=10, c='r', label='True positive')\n",
    "ax1.scatter(y=false_pos, x=[1]*len(false_pos), s=10, c='g', label='False positive')\n",
    "ax1.scatter(y=false_neg, x=[0]*len(false_neg), s=10, c='y', label= 'False negative')\n",
    "ax1.axhline(y=0.5, color='k')\n",
    "plt.legend(loc='upper right');\n",
    "plt.show()"
   ]
  },
  {
   "cell_type": "code",
   "execution_count": 313,
   "metadata": {},
   "outputs": [
    {
     "data": {
      "text/plain": [
       "array([[1103,  847],\n",
       "       [ 527, 2294]], dtype=int64)"
      ]
     },
     "execution_count": 313,
     "metadata": {},
     "output_type": "execute_result"
    }
   ],
   "source": [
    "from sklearn.metrics import confusion_matrix\n",
    "y2_preds_binary = []\n",
    "i=0\n",
    "for prob in y2_preds:\n",
    "    if (prob[0]>prob[1]) & (y2_test[i] == 0):\n",
    "        y2_preds_binary.append(0)\n",
    "    elif (prob[1]>prob[0]) & (y2_test[i] == 1):\n",
    "        y2_preds_binary.append(1)\n",
    "    elif (prob[1]>prob[0]) & (y2_test[i] == 0):\n",
    "        y2_preds_binary.append(1)\n",
    "    elif (prob[0]>prob[1]) & (y2_test[i] == 1):\n",
    "        y2_preds_binary.append(0)\n",
    "    i+=1\n",
    "\n",
    "confusion_matrix(y2_test, y2_preds_binary)"
   ]
  },
  {
   "cell_type": "code",
   "execution_count": 314,
   "metadata": {},
   "outputs": [
    {
     "data": {
      "image/png": "[encoded data removed]",
      "text/plain": [
       "<Figure size 720x288 with 2 Axes>"
      ]
     },
     "metadata": {
      "needs_background": "light"
     },
     "output_type": "display_data"
    }
   ],
   "source": [
    "from sklearn.metrics import ConfusionMatrixDisplay\n",
    "\n",
    "ConfusionMatrixDisplay.from_estimator(lr, X2_test_bag, y2_test)\n",
    "plt.grid(False)\n",
    "plt.savefig('figs/confusion_matrix.pdf', bbox_inches='tight')\n",
    "plt.show()"
   ]
  },
  {
   "cell_type": "code",
   "execution_count": 315,
   "metadata": {},
   "outputs": [
    {
     "data": {
      "text/html": [
       "<div>\n",
       "<style scoped>\n",
       "    .dataframe tbody tr th:only-of-type {\n",
       "        vertical-align: middle;\n",
       "    }\n",
       "\n",
       "    .dataframe tbody tr th {\n",
       "        vertical-align: top;\n",
       "    }\n",
       "\n",
       "    .dataframe thead th {\n",
       "        text-align: right;\n",
       "    }\n",
       "</style>\n",
       "<table border=\"1\" class=\"dataframe\">\n",
       "  <thead>\n",
       "    <tr style=\"text-align: right;\">\n",
       "      <th></th>\n",
       "      <th>00</th>\n",
       "      <th>000</th>\n",
       "      <th>02</th>\n",
       "      <th>024</th>\n",
       "      <th>025</th>\n",
       "      <th>033</th>\n",
       "      <th>039</th>\n",
       "      <th>05</th>\n",
       "      <th>062</th>\n",
       "      <th>07</th>\n",
       "      <th>...</th>\n",
       "      <th>zoning</th>\n",
       "      <th>zoo</th>\n",
       "      <th>zoom</th>\n",
       "      <th>zti</th>\n",
       "      <th>zuber</th>\n",
       "      <th>zucker</th>\n",
       "      <th>zuckerberg</th>\n",
       "      <th>zyphr</th>\n",
       "      <th>ángeles</th>\n",
       "      <th>único</th>\n",
       "    </tr>\n",
       "  </thead>\n",
       "  <tbody>\n",
       "    <tr>\n",
       "      <th>0</th>\n",
       "      <td>-0.1385</td>\n",
       "      <td>-1.24317</td>\n",
       "      <td>0.187876</td>\n",
       "      <td>-0.1012</td>\n",
       "      <td>0.043922</td>\n",
       "      <td>-0.150365</td>\n",
       "      <td>0.020257</td>\n",
       "      <td>-0.242118</td>\n",
       "      <td>0.095514</td>\n",
       "      <td>0.120877</td>\n",
       "      <td>...</td>\n",
       "      <td>0.076098</td>\n",
       "      <td>0.007167</td>\n",
       "      <td>0.153371</td>\n",
       "      <td>0.11338</td>\n",
       "      <td>0.055513</td>\n",
       "      <td>0.036038</td>\n",
       "      <td>0.660034</td>\n",
       "      <td>0.057121</td>\n",
       "      <td>0.056502</td>\n",
       "      <td>0.073275</td>\n",
       "    </tr>\n",
       "  </tbody>\n",
       "</table>\n",
       "<p>1 rows × 11393 columns</p>\n",
       "</div>"
      ],
      "text/plain": [
       "       00      000        02     024       025       033       039        05  \\\n",
       "0 -0.1385 -1.24317  0.187876 -0.1012  0.043922 -0.150365  0.020257 -0.242118   \n",
       "\n",
       "        062        07  ...    zoning       zoo      zoom      zti     zuber  \\\n",
       "0  0.095514  0.120877  ...  0.076098  0.007167  0.153371  0.11338  0.055513   \n",
       "\n",
       "     zucker  zuckerberg     zyphr   ángeles     único  \n",
       "0  0.036038    0.660034  0.057121  0.056502  0.073275  \n",
       "\n",
       "[1 rows x 11393 columns]"
      ]
     },
     "execution_count": 315,
     "metadata": {},
     "output_type": "execute_result"
    }
   ],
   "source": [
    "features = ['_'.join(s.split()) for s in tfidf.get_feature_names_out()]\n",
    "coefficients = lr.coef_\n",
    "coefs_df = pd.DataFrame.from_records(coefficients, columns=features)\n",
    "coefs_df"
   ]
  },
  {
   "cell_type": "code",
   "execution_count": 316,
   "metadata": {},
   "outputs": [],
   "source": [
    "X_pdn = data_pdn_for_clean['Article'].apply(prepare).values #Cleaning our PeaceData.net data, like we did with PolitiFact.com"
   ]
  },
  {
   "cell_type": "code",
   "execution_count": 317,
   "metadata": {},
   "outputs": [],
   "source": [
    "pdn_bag = tfidf.transform(X_pdn) #Make our bag of words\n",
    "pdn_preds = lr.predict_proba(pdn_bag) #From our previously fitted model on PolitiFact.com, we predict the probabilities of fake or true news"
   ]
  },
  {
   "cell_type": "code",
   "execution_count": 318,
   "metadata": {},
   "outputs": [
    {
     "data": {
      "text/html": [
       "<div>\n",
       "<style scoped>\n",
       "    .dataframe tbody tr th:only-of-type {\n",
       "        vertical-align: middle;\n",
       "    }\n",
       "\n",
       "    .dataframe tbody tr th {\n",
       "        vertical-align: top;\n",
       "    }\n",
       "\n",
       "    .dataframe thead th {\n",
       "        text-align: right;\n",
       "    }\n",
       "</style>\n",
       "<table border=\"1\" class=\"dataframe\">\n",
       "  <thead>\n",
       "    <tr style=\"text-align: right;\">\n",
       "      <th></th>\n",
       "      <th>0</th>\n",
       "      <th>1</th>\n",
       "    </tr>\n",
       "  </thead>\n",
       "  <tbody>\n",
       "    <tr>\n",
       "      <th>0</th>\n",
       "      <td>0.771655</td>\n",
       "      <td>0.228345</td>\n",
       "    </tr>\n",
       "    <tr>\n",
       "      <th>1</th>\n",
       "      <td>0.654998</td>\n",
       "      <td>0.345002</td>\n",
       "    </tr>\n",
       "    <tr>\n",
       "      <th>2</th>\n",
       "      <td>0.445306</td>\n",
       "      <td>0.554694</td>\n",
       "    </tr>\n",
       "  </tbody>\n",
       "</table>\n",
       "</div>"
      ],
      "text/plain": [
       "          0         1\n",
       "0  0.771655  0.228345\n",
       "1  0.654998  0.345002\n",
       "2  0.445306  0.554694"
      ]
     },
     "execution_count": 318,
     "metadata": {},
     "output_type": "execute_result"
    }
   ],
   "source": [
    "pdn_preds_df = pd.DataFrame(pdn_preds) #We then make a dataframe from our predictions. Our predictions are an array.\n",
    "pdn_preds_df.head(n=3) #Column 0 is 'true' and 1 is 'fake'"
   ]
  },
  {
   "cell_type": "code",
   "execution_count": 319,
   "metadata": {},
   "outputs": [],
   "source": [
    "most_true_article_pdn_index = pdn_preds_df[0].idxmax() #Returns the index of the article w/ highest prob of being 'true'\n",
    "most_true_article_pdn_prob = 1-pdn_preds_df[0].max() #Returns the lowest probability value for a fake article \n",
    "most_true_article_pdn_URL = data_pdn_for_clean['URL'].loc[most_true_article_pdn_index] #Returns the URL for the most true article\n",
    "most_true_article_pdn_title = data_pdn_for_clean['Title'].loc[most_true_article_pdn_index] #Returns the title for the most true article"
   ]
  },
  {
   "cell_type": "code",
   "execution_count": 320,
   "metadata": {},
   "outputs": [],
   "source": [
    "most_fake_article_pdn_index = pdn_preds_df[1].idxmax() #Returns the index of the article w/ highest prob of being 'fake'\n",
    "most_fake_article_pdn_prob = pdn_preds_df[1].max() #Returns the highest probability value for a fake article\n",
    "most_fake_article_pdn_URL = data_pdn_for_clean['URL'].loc[most_fake_article_pdn_index] #Returns the URL for the most true article\n",
    "most_fake_article_pdn_title = data_pdn_for_clean['Title'].loc[most_fake_article_pdn_index] #Returns the URL for the most true article"
   ]
  },
  {
   "cell_type": "code",
   "execution_count": 321,
   "metadata": {},
   "outputs": [
    {
     "name": "stdout",
     "output_type": "stream",
     "text": [
      "\\begin{tabular}{lll}\n",
      "\\toprule\n",
      "{} &                                  Most fake article &                                  Most true article \\\\\n",
      "\\midrule\n",
      "0 &  \\#CNNIsTrash Trends As Pushback Grows Against O... &  US Workers, Minorities Continuously Face Housi... \\\\\n",
      "1 &                                           0.889415 &                                           0.028855 \\\\\n",
      "\\bottomrule\n",
      "\\end{tabular}\n",
      "\n"
     ]
    },
    {
     "name": "stderr",
     "output_type": "stream",
     "text": [
      "C:\\Users\\JBH\\AppData\\Local\\Temp\\ipykernel_22052\\2283369003.py:2: FutureWarning: In future versions `DataFrame.to_latex` is expected to utilise the base implementation of `Styler.to_latex` for formatting and rendering. The arguments signature may therefore change. It is recommended instead to use `DataFrame.style.to_latex` which also contains additional functionality.\n",
      "  print(pd.DataFrame({'Most fake article': [most_fake_article_pdn_title, most_fake_article_pdn_prob],\\\n"
     ]
    }
   ],
   "source": [
    "#Make Latex table\n",
    "print(pd.DataFrame({'Most fake article': [most_fake_article_pdn_title, most_fake_article_pdn_prob],\\\n",
    "     'Most true article': [most_true_article_pdn_title, most_true_article_pdn_prob]}, np.arange(2)).to_latex())"
   ]
  },
  {
   "cell_type": "code",
   "execution_count": 322,
   "metadata": {},
   "outputs": [],
   "source": [
    "pdn_list = []\n",
    "\n",
    "i=0\n",
    "for prob in pdn_preds:\n",
    "    if (prob[0]>prob[1]):\n",
    "        pdn_list.append('True')\n",
    "    elif (prob[1]>prob[0]):\n",
    "        pdn_list.append('Fake')\n",
    "    i=+1\n",
    "fake_count_pdn = pdn_list.count('Fake')\n",
    "true_count_pdn = pdn_list.count('True') "
   ]
  },
  {
   "cell_type": "code",
   "execution_count": 323,
   "metadata": {},
   "outputs": [
    {
     "name": "stdout",
     "output_type": "stream",
     "text": [
      "Count of \"fake news\" at PeaceData.net: 69 \n",
      "Count of \"true news\" at PeaceData.net: 85\n"
     ]
    }
   ],
   "source": [
    "print('Count of \"fake news\" at PeaceData.net:', fake_count_pdn, '\\nCount of \"true news\" at PeaceData.net:', true_count_pdn)"
   ]
  },
  {
   "cell_type": "markdown",
   "metadata": {},
   "source": []
  },
  {
   "cell_type": "code",
   "execution_count": 385,
   "metadata": {},
   "outputs": [],
   "source": [
    "our_text = \"\"\"Introduction\n",
    "In light of the 2016 US election, ’fake news’ as a phenomenon rose to global attention.\n",
    "Were it not for this intentional interference, it has been suggested that Hillary\n",
    "Clinton would have pipped Donald Trump to become the 45th President of The\n",
    "United States, see Parkinson (2016) and Dewey (2016). This begs the question:\n",
    "What can we do to detect this spread of false information? One possibility is to\n",
    "employ machine learning techniques. Specifically, our goal with this paper is: How\n",
    "precisely can we automatically detect ’fake news’ using supervised machine learning?\n",
    "We do this by leveraging scraped data of fact checked news stories and statements\n",
    "from PolitiFact.com to train our supervised machine learning model.\n",
    "One may ask how do we define fake news? Kshetri and Voas (2017) break up\n",
    "false information in two sub branches: disinformation and misinformation. Dis-\n",
    "information is false information spread to intentionally deceive, manipulate and\n",
    "mislead. Misinformation, on the other hand, is simply wrong information provided\n",
    "unintentionally or information perceived erroneously, for example that all classes at\n",
    "University of Copenhagen start at 8.00 sharp and not actually 15 minutes later. Like\n",
    "Kshetri and Voas (2017), we define ’fake news’ as disinformation typically produced\n",
    "manually by individuals and/or state entities with the intention to deceive readers.\n",
    "Our model classifies statements with an accuracy of 70-80 pct. on our test data\n",
    "set from PolitiFact, depending on the model specification. We apply our classifica-\n",
    "tion model on text data from PeaceData.net, a short-lived website that was banned\n",
    "from Twitter and Facebook. This site was owned by the Internet Research Agency,\n",
    "an entity that has proven connections to the Russian state (DiResta et al. 2019).\n",
    "Our model classifies 69 out of 154 articles as ’fake’ news.\n",
    "This paper adds to the growing literature on ’fake news’ and its implications for\n",
    "the political climate and outcomes. This includes Allcott and Gentzkow (2017), who\n",
    "take a theoretical approach by discussing the economics of fake news and sketches\n",
    "a model that illustrates why fake news appears in the media landscape. They find\n",
    "that pro-Trump fake stories were shared on Facebook a total of 30 million times\n",
    "in the lead-up to the 2016 US election, significantly more than fake pro-Clinton\n",
    "stories. Reis et al. (2019) employ more advanced machine learning models to detect\n",
    "fake news. They achieve around 85 pct. accuracy in a random forest model with\n",
    "supervised learning using human annotated BuzzFeed news articles relating to the\n",
    "2016 US election. Reis et al. (2019) make use of 141 different textual features, which\n",
    "include bag-of-words, like we do, and psycholinguistic features that capture biased\n",
    "and persuasive language.\n",
    "2\n",
    "\n",
    "This paper is structured as follows: Section 2 goes into detail how we have ac-\n",
    "quired the data, the ethics involved doing this and some descriptive statistics. In\n",
    "Section 3, we describe the methodical approach to the supervised machine learning\n",
    "model. In Section 4, we present our results, including evaluation of model perfor-\n",
    "mance, and in section 5 we summarize and conclude.\n",
    "2 Data\n",
    "To investigate our research question, we collected data from PolitiFact, a website\n",
    "constructed by the Poynter Institute specifically to fact check statements, articles\n",
    "and social media posts from politicians and the general public. The fact checking\n",
    "process is done by ’real’ journalists and thus is ideal for supervised machine learning\n",
    "techniques, provided that we adhere to the terms of use.\n",
    "We supplement our analysis by collecting data from Peacedata.net, a now-\n",
    "defunct news website owned by the Internet Research Agency (IRA). IRA is an\n",
    "entity directly linked to the Russian state with the intention to spread disinforma-\n",
    "tion and interfere with US elections (DiResta et al. 2019). The motivation behind us\n",
    "including Peacedata.net in our analysis is how they specifically tried (and in some\n",
    "cases succeeded) to recruit Western journalists to write columns for them, as long\n",
    "as they were focused on ”anti-war, anti-corruption, abuse of power, or human rights\n",
    "violations” (Delaney 2020; Stubbs 2020). And so, it would be interesting to see\n",
    "which stories, if any, our model predicts to be ’fake’.\n",
    "2.1 Collection\n",
    "In general, we have focused on creating ’custom’ functions that concisely illustrate\n",
    "our approach with ample documentation to follow. Crucially, whenever we made a\n",
    "request to scrape a webpage, we had to define a ’header’ in a dictionary format. This\n",
    "dictionary had our names and non-commercial/academic intentions for acquiring\n",
    "data via scraping. Further, we integrated the use of log functions and auxiliary\n",
    "’error’ lists to inspect pages, where the scraping process did not go to plan.1\n",
    "2.1.1 PolitiFact.com\n",
    "To scrape PolitiFact, we made use of the requests package in Python. This pack-\n",
    "age allows us to send HTTP (HyperText Transfer Protocol) requests to obtain the\n",
    "1. We acknowledge and thank the lecturers/TA’s from the course Introduction to Social Data\n",
    "Science at University of Copenhagen for making codes publicly available.\n",
    "3\n",
    "underlying HTML (HyperText Markup Language) code of the webpage in ques-\n",
    "tion. The Beautiful Soup 4 package then allowed us to navigate the HTML-code\n",
    "and pull out the desired data. The HTML-code of the PolitiFact website has a\n",
    "fairly logical composition and so the scraping process was relatively smooth. First,\n",
    "we accessed the latest fact checks by PolitiFact which contains all fact checks in\n",
    "chronological, split up in 728 pages. We made a list of these 728 unique URL’s\n",
    "and then looped through each page, extracting all information from the headline\n",
    "of every article: Date, statement, classification and link to the article. Throughout\n",
    "the webscraping process, we made sure to backup the collected data, as to avoid\n",
    "unnecessary ’re-scraping’. We stored backups and data in general in the fast and\n",
    "efficient file format of Apache Parquet, which also stores data types (Vohra 2016).\n",
    "Finally, PolitiFact also checks whether politicians did go back on their promises\n",
    "and/or statements made in the past. We drop these articles, as they do not suit a\n",
    "supervised fake news detection model.\n",
    "Next, we looped through every article extracting the article paragraphs, sources,\n",
    "the journalist’s conclusion and tags associated with each article. Here, we made\n",
    "use of the URL we scraped earlier to avoid using dynamic tools, e.g., the Selenium\n",
    "package in Python. We estimated that this would have substantially slowed the pro-\n",
    "cess. In the end, we ended up with 21,000 articles, with each statement categorized\n",
    "on a scale from ”true news” to ”fake news”, namely the categories ’true’, ’mostly\n",
    "true’, ’half-true’, ’barely true’, ’false’, and ’pants-on-fire’.\n",
    "2.1.2 Peacedata.net\n",
    "Scraping Peacedata.net was a bit of a challenge. As the website no longer exists\n",
    "in its ’news form’, we scraped The Web Archive for available snapshots. We find\n",
    "snapshots available from April 2020 to the end of September 2020, before it was\n",
    "effectively shut down. This can be done by using The Web Archive’s API with a\n",
    "specified date range, fetching a JSON file with a list of ’available’ URLs (Pezoa\n",
    "et al. 2016). With these, we followed the same approach as with PolitiFact and\n",
    "used requests and BeautifulSoup to obtain the HTML-code for the Peacedata.net\n",
    "webpages. As (i) these URLs are snapshots of Peacedata.net’s front page at different\n",
    "times, and (ii) the HTML-code is slightly finicky to assess, we concluded that this\n",
    "had limited use to us. Instead, we extracted links to individual articles where we\n",
    "could (and avoid any dynamic JavaScript content). From these links, we scraped\n",
    "the title, article text, and dates where possible. This leaves us with a dataset of 154\n",
    "articles after removing duplicated articles.\n",
    "4\n",
    "2.2 Ethics\n",
    "Scraping data on the internet poses crucial questions to the terms of use. As a rule-\n",
    "of-thumb, you are not allowed to webscrape with for commercial purposes. Further,\n",
    "given the recent adoption of the General Data Protection Regulation (GDPR) in the\n",
    "EU, the concern of enforcing privacy rights has become a much debated topic in the\n",
    "public domain, particularly in light of the Facebook-Cambridge Analytica scandal\n",
    "(Illing 2018).\n",
    "In general we think we adhere to two main rule-of-thumbs; (i) we clearly state\n",
    "our intentions in a header when requesting information from the web server, and (ii)\n",
    "we do not store any private information nor do make any attempt in trying to find\n",
    "this information that may or may not be publicly available.\n",
    "The two sites has slightly different terms of use. PolitiFact states that the site’s\n",
    "content is for your personal, non-commercial use, which we completely and transpar-\n",
    "ently adhere to. Additionally, we are not allowed to use the material for ’unlawful\n",
    "purposes’, like to track down and post defamatory material guided towards, say, the\n",
    "journalists at PolitiFact. It becomes slightly complicated for Peacedata.net. As the\n",
    "site only exists in ’snapshot’ form from The Web Archive, how can we ensure that\n",
    "we comply with the terms of use? Interestingly, Peacedata.net would very openly\n",
    "share they had a Creative Commons license in each article. In essence, this im-\n",
    "plied royalty-free open-use of article content, provided that you attributed properly\n",
    "(Commons 2022). In this regard, we are convinced that we adhere to these terms,\n",
    "even though they no longer are in effect. Looking at the terms of use from The\n",
    "Web Archive, it is stated that access to the archive is provided free of charge. Use\n",
    "of any content from the archive is for scholarship and research purposes only. In\n",
    "conclusion, we assess that we adhere to the terms of use where applicable.\n",
    "Finally, we tried to comply with potential robots.txt-files, which specifies what\n",
    "webcrawlers are allowed to access on a given website. Neither PolitiFact or The Web\n",
    "Archive have specified any robots.txt-files, and interestingly, The Web Archive\n",
    "made a blog post stating that ”Robots.txt meant for search engines don’t work well\n",
    "for web archives.” Hence, with webscraping intentions of solely academic character,\n",
    "we feel certain that we comply with their regulations.\n",
    "2.3 Descriptive statistics\n",
    "To provide a visualize representation of our datasets, we make a few descriptive\n",
    "plots. From Figure 1, we see that Facebook is by far the most widely used tag in PolitiFact’s fact-checking articles in the last five years.2 This includes fact checking\n",
    "videos, posts or statements made on the social media platform. Interestingly, the\n",
    "’Coronavirus’ tag is third most used tag in the last five years, despite only being an\n",
    "actual subject in the last two years with over 1,300 tags in total and over 600 tags\n",
    "in 2020 alone. One can see that Donald Trump, fake news and elections has also\n",
    "been ever present in PolitiFact’s fact checking in the last five years Figure 2 depicts the cumulative development in PolitiFact’s statement classifi-\n",
    "cation, where we find a somewhat evenly distribution before 2020, except for the\n",
    "’pants-on-fire’ classification. Even in the lead-up to the 2016 US election, PolitiFact\n",
    "did not identify an abnormal amount of untrue statements. Of course, this may\n",
    "be due to selection. Interestingly, in 2020, the amount of statements classified by\n",
    "PolitiFact as ’false’ surges to almost 6000 in total, with around 2000 coming in the\n",
    "last two years or so.\n",
    "While we do not nearly have the same sample size for the Peacedata.net dataset,\n",
    "it is clear from Figure 3 that issues fact checked by PolitiFact is more-or-less the\n",
    "same issues most commonly found by the articles scraped from Peacedata.net. This\n",
    "ties in well with the most common words used by PolitiFact and Peacedata.net from\n",
    "Figure 4. The word ’people’ and ’state’/’government’ can even be found in both\n",
    "PolitiFact and PeaceData’s most common words. Given that PolitiFact are mostly\n",
    "quotes, it makes that the most common found here is ’says’. Finally, at a glance\n",
    "the most used words from Peacedata seem to have more assertive connotations than\n",
    "what is found in the PolitiFact dataset.\n",
    "2. This figure and all figures to come are made with the pandas, seaborn, and\n",
    "matplotlib.pyplot packages in Python (McKinney et al. 2010; Waskom 2021; Hunter 2007).\n",
    "6\n",
    "3 Methodology\n",
    "This section explains the route from data to results (McKinney et al. 2010). It\n",
    "will cover the basics behind working with text as data, the various packages used\n",
    "and calculations made in Python and the theory of the (penalized) logistic regression\n",
    "model. This route and its different steps closely follows Raschka and Mirjalili (2019)\n",
    "and are depicted in Figure 5. Throughout the analysis, we make use of the numpy,\n",
    "pandas, sklearn, and tqdm packages (Harris et al. 2020; McKinney et al. 2010;\n",
    "Pedregosa et al. 2011) 3.1 Text as Data\n",
    "In order for us to infer meaningful predictions, we had to appropriately clean our\n",
    "text data. As is standard, we converted every letter to lower case to avoid iden-\n",
    "tical words being interpreted differently. We then removed HTML-markup and\n",
    "non-alphanumeric characters with Regular Expression Operations, (re) – a stan-\n",
    "dard package in Van Rossum (2020). Next, we took advantage of the extensive\n",
    "library of Natural Language Toolkit, nltk (Bird et al. 2009). Specifically, we use\n",
    "the their tokenize package to divide the text (or the strings) of the articles into\n",
    "lists of substrings, where, in our context, a substring is a word. Then, we use their\n",
    "dictionary of English ”stopwords”, to remove words that carry next to no meaning\n",
    "in the analysis, such as ”is”, ”the” and ”a”. The full list of stopwords can be found here. . Finally, we applied their lemmatizer to determine the lemma of the words,\n",
    "i.e., align different conjugations and word endings, such that the words are grouped\n",
    "based on their meaning and not their grammatical form. This procedure follows\n",
    "Jurafsky and Martin (2018, ch. 2.4).\n",
    "Then, after cleaning the strings, we take the bag-of-words approach, which ”al-\n",
    "lows us to represent text as numerical feature vectors” (Raschka and Mirjalili 2019, p.\n",
    "262). The first step is to count the occurrence of each word, and then, secondly, as-\n",
    "sess the word relevancy with the term frequency-inverse document frequency (tfidf)\n",
    "technique. The approach is carried out by applying the TfidfVectorizer from\n",
    "Pedregosa et al. (2011) (see section 6.2.3.4 in the documentation for details).\n",
    "3.2 Machine Learning and the Logistic Regression Model\n",
    "To classify statements from the PolitiFact as either ’true’ or ’fake’, we use logistic\n",
    "regression. Given that we map a binary classification problem, we are essentially in-\n",
    "ferring ’probabilities’, e.g., p(y = 1|x), where our target variable y classifies whether\n",
    "a statement or article is ’fake news’ (y = 1) or ’true’ (y = 0), and x is the features,\n",
    "namely the vectorized bag of words. Obviously, these probabilities translate directly\n",
    "into the predictions of the model – for p(y = 1|x) ≥ 0.5 ⇒ ˆy = 1. In the logis-\n",
    "tic regression model, the conditional probabilities are calculated with the sigmoid\n",
    "function (or, the inverse form of the logit function), which can be stated as\n",
    "φ(z) = 1\n",
    "1 + e−z (= p(y = 1|x), (1)\n",
    "where z = wT x = w0 + w1x1 + ... + wmxm is the net input, i.e. m features with\n",
    "corresponding weights, and a bias term w0. Later, when interpreting estimated\n",
    "weights, it is worth noting that ˆy = 1 if z ≥ 0 and ˆy = 0 if z < 0.\n",
    "In accordance with the theory of maximum likelihood estimation (MLE), the\n",
    "weights are determined by maximizing the log-likelihood function:\n",
    "ℓ(w) =\n",
    "n∑\n",
    "i=1\n",
    "[yi log (φ(z)) + (1 − yi) log (1 − φ(z))] (2)\n",
    "Actually, as is common practice in optimization problems, we will be minimizing\n",
    "a cost function. Moreover, we will include a penalty term to alleviate issues with\n",
    "”over-fitting” the data. The resulting cost function can be stated as\n",
    "J(w) =\n",
    "n∑\n",
    "i=1\n",
    "[yi log (φ(z)) + (1 − yi) log (1 − φ(z))] + λ\n",
    "2 ||w||2\n",
    "2, (3)\n",
    "where λ is the regularization parameter, and 1\n",
    "2 ||w||2\n",
    "2 = 1\n",
    "2 wT w is an L2-penalty,\n",
    "which works by shrinking the absolute size of the weights.3\n",
    "3. Note, that the logistic regression from sklearn uses the inverse regularization parameter\n",
    "9\n",
    "3.3 Model Selection\n",
    "The binary outcome classification leaves us with a choice of how we want to train\n",
    "our model. Given PolitiFact’s six-way classification from ’true’ to ’pants-on-fire’,\n",
    "one may ask which classification of the PolitiFact statements to use. Do you only\n",
    "train the model on true vs pants-on-fire statements? That is, statements that are\n",
    "at ’opposite’ ends of the PolitiFact truth scale. Or do you include all 6 statement\n",
    "classifications and lump them together in a binary outcome (fake vs true news)?\n",
    "There is no clear answer to these questions, why we make three different partitions\n",
    "of the full dataset and evaluate the performance of each of them. The partitions are\n",
    "specified in Table 1. Worth noting is that these partitions not only influence the\n",
    "total number of observations, but also the ratio between y = 1 and y = 0, cf. Figure\n",
    "2. For each of these partitions, we follow Figure 5 and split the sets into training\n",
    "sets and test sets. We will refer to the training sets in this step as the development\n",
    "sets, as to avoid confusion between two different training sets later on.\n",
    "Table 1: Dataset Partitions\n",
    "y = 0 y = 1 n\n",
    "true pants-on-fire 5, 227\n",
    "true and almost true false and pants-on-fire 14, 311\n",
    "true, almost true, and half-true barely true, false and pants-on-fire 21, 367\n",
    "To illustrate the model performance for each development set in the dataset\n",
    "partitions, Figure 6 visualizes validation and learning curves for the three different\n",
    "model specifications. In the calculations of the learning and validation curves, we\n",
    "have imposed a 10-fold cross validation step, in each step splitting the development\n",
    "set into a training set and a validation set, again, in correspondence with Figure\n",
    "5. The learning curve takes each training set and construct subsets of different\n",
    "sizes, which are then fitted to and transformed by the Tfidf-Vectorizer to make\n",
    "a bag-of-words. The bag is subsequently fitted to the Logistic Regression model.\n",
    "This compound model (or pipeline) then takes both (the subset of) the training\n",
    "C = 1/λ. This implies the following cost function (Pedregosa et al. 2011):\n",
    " ̃J(w) = C\n",
    "n∑\n",
    "i=1\n",
    "[yi log (φ(z)) + (1 − yi) log (1 − φ(z))] + 1\n",
    "2 ||w||2\n",
    "2\n",
    "This cost function and equation (3) are equivalent from an optimization standpoint, as the latter\n",
    "is simply divided by λ (a constant), which is a linear transformation. We choose the formulation\n",
    "with λ following Raschka and Mirjalili (2019).\n",
    "10\n",
    "set and the validation set as inputs to calculate predictions and evaluate accuracy\n",
    "(accuracy(y, ˆy) = 1\n",
    "n\n",
    "∑n\n",
    "i=1 1{ˆyi = yi}, where 1{·} is the indicator function).4 Sim-\n",
    "ilarly, in the calculations of the validation curves, the training set is fitted and\n",
    "predictions are made, but instead of varying the size of the training set, we now\n",
    "vary the size of the hyperparameter, λ. For both types of curves, Figure 6 plots the\n",
    "minimum and maximum accuracies obtained under the different calibrations. These\n",
    "bands provide a quick view into the variance of the models, while actual confidence\n",
    "intervals should be computed with Monte Carlo simulations, or similar. What is evidently clear from the learning curves in Figure 6 is that the model\n",
    "does suffer from significant variance. While the ’true vs pants-on-fire’ model tend to\n",
    "have the highest maximum accuracy, the 10-fold cross validation process highlights\n",
    "how sensitive the model is to a particular partition of the dataset. For a training\n",
    "sample size of 1, 500, the accuracy of the model jumps between 70-80 pct. depending\n",
    "on the dataset partition. This is not surprising, given we have quite a small training\n",
    "sample size of no more than 3, 500 statements for the ’true’ vs ’pants-on-fire’ model\n",
    "specification.\n",
    "The validation curves in Figure 6 in conjunction with Table 2 show the regulariza-\n",
    "tion strength needed to achieve the highest accuracy for the different specifications.\n",
    "4. Note, learning curves are calculated with sklearn’s baseline calibration of C = 1/λ = 1.\n",
    "11\n",
    "The optimal hyperparameter, λ, is calculated as the λ that gives the highest mean\n",
    "accuracy of the validation set. As expected, the more items we include from the\n",
    "PolitiFact scale, the higher the regularization parameter, λ, is needed to achieve\n",
    "the highest accuracy. This makes intuitive sense. If we lump the whole scale in a\n",
    "binary outcome, effectively fitting ambiguous statements that are classified as barely\n",
    "true or half-true in our model, the noise in our dataset substantially increases. To\n",
    "counteract this, we need to increase the regularization strength, or penalty term, to\n",
    "avoid over-fitting.\n",
    "Table 2: Optimal Hyperparameter and Corresponding Accuracy\n",
    "Model 1 Model 2 Model 3\n",
    "λi 0.569 0.829 1.758\n",
    "Accuracy 0.764 0.722 0.668\n",
    "Note: λi for i = 1, 2, 3 denotes the model that includes increasingly\n",
    "more items on the PolitiFact fact check classification scale.\n",
    "4 Results\n",
    "In the previous section, we have visualized our datasets and trained a machine\n",
    "learning model using logistic regression using different specific specification. The\n",
    "diagnostics of each model specification illustrate the trade-off between variance and\n",
    "red. The ’(True, Mostly true) vs (False, Pants-on-fire)’ model seem to strike the\n",
    "best balance between accuracy and variance. This model hovers around 70 pct.\n",
    "accuracy compared consistently under 70 pct. for the model that utilizes the full\n",
    "Politifact statement scale. It is the model that we believe has the best trade-off\n",
    "between increase in training sample and noise in the dataset. Discarding the middle\n",
    "of the scale, i.e., barely true and half-true statements, makes intuitive sense. Is it\n",
    "fair to classify ambiguous statements as wholeheartedly ’true’ or ’fake’ given that\n",
    "we model a binary outcome?\n",
    "Table 3 show the coefficient sizes of this particular model with the optimal hyper-\n",
    "parameter, λ = 0.829. The larger the absolute coefficient size, the higher the impact\n",
    "each word has on the predicted classification outcome. Interestingly, the common\n",
    "denominator seem to be American politics and the COVID-19 pandemic. Words\n",
    "such as ’biden’, ’pelosi’, ’vaccine’ and ’covid/coronavirus’ ”triggers” the algorithm\n",
    "to predict a given statement to be fake. On the other hand, words such as ’percent’,\n",
    "12\n",
    "million’, ’growth’ - words that may have a ’quantitative’ tone - tends to the swing\n",
    "the pendulum the other way, i.e., that statements typically are classified as ’true’.\n",
    "The bias term is found to be 0.79. This implies that for a ’neutral’ statement, i.e.,\n",
    "statements lacking impactful words, and only having features with coefficients close\n",
    "to zero, the model tends to classify this as fake news.\n",
    "Table 3: Most Impactful Words\n",
    "Largest Smallest\n",
    "biden 3.531 percent -3.201\n",
    "show 3.001 since -2.627\n",
    "vaccine 2.701 state -2.261\n",
    "covid 2.478 half -2.224\n",
    "photo 2.093 growth -1.900\n",
    "pelosi 1.922 le -1.877\n",
    "coronavirus 1.743 three -1.846\n",
    "arrested 1.652 nation -1.738\n",
    "say 1.625 million -1.738\n",
    "democrat 1.608 six -1.716\n",
    "Note: We find the bias (intercept) term to be 0.79.\n",
    "4.1 Evaluating Performance The confusion matrix in Figure 7 shows the model performance graphically on our\n",
    "test dataset. True positive (T P ) and true negatives (T N ) are instances where our\n",
    "model correctly predicts statements as either fake (T P ) or true (T N ). Statements\n",
    "13\n",
    "that are incorrectly labelled as fake news are fake positives (F P ) and statements\n",
    "incorrectly labelled as true are called fake negatives (F N ). In Figure 7 the areas\n",
    "are TN, FP, FN, and TP in the direction of reading.\n",
    "Furthermore, we calculate three model evaluation metrics:\n",
    "P recision = T P\n",
    "T P + F P = 0.73 (4)\n",
    "Recall = T P\n",
    "T P + F N = 0.81 (5)\n",
    "Accuracy = T P + T N\n",
    "T P + T N + F P + F N = 0.71 (6)\n",
    "Precision essentially measures the fraction of which all news classified as ’fake’\n",
    "are indeed fake. We obtain a precision of around 73 pct. However, it may simply\n",
    "be that we may not have enough true statements to challenge the model for correct\n",
    "predictions, i.e., that an artificially low false positive rate may boost precision.\n",
    "The recall metric measures the fraction of all statements, which we know to be\n",
    "’fake’, is correctly captured by our model. For 81 pct. of the fake news statements,\n",
    "our model correctly labels them fake.\n",
    "Accuracy is the overall measure of how well our model correctly labels fake news\n",
    "as fake and true news as true in our test data set. Recall, that we have trained our\n",
    "model on the (True, mostly true) vs (False, pants-on-fire). This model correctly\n",
    "identifies 71 pct. of fake and true statements.\n",
    "4.2 Model Application\n",
    "Finally, we apply this trained model on the dataset from Peacedata.net obtained\n",
    "through The Web Archive:\n",
    "Table 4: PeaceData.net Classification Count\n",
    "’Fake’ news 69\n",
    "’True’ news 85\n",
    "The model predicts that of the 154 articles from PeaceData.net, 69 of them\n",
    "are ’fake news’. For illustration, we extract the most ’fake’ and ’true’ article from\n",
    "Peacedata.net according to our predictions. These are found in Table 5 below:\n",
    "Interestingly, we find that the article with the highest probability of being ’fake’\n",
    "is about a Democratic presidential debate in Iowa aired on CNN in the lead-up\n",
    "14\n",
    "Table 5: Probabilities of Fake Articles from PeaceData.net\n",
    "Most ’fake’ article Most ’true’ article\n",
    "Title #CNNIsTrash Trends As Push-\n",
    "back Grows Against Oligarchic\n",
    "Election Meddling\n",
    "US Workers, Minorities Contin-\n",
    "uously Face Housing Insecurity\n",
    "during the Pandemic\n",
    "p(y = 1|x) 0.889 0.028\n",
    "to the 2020 American election. When reading the story, it is difficult to conclude\n",
    "whether this article is indeed fake, and we make no claim that it is despite our\n",
    "results. The fact that the story is labelled as fake ties in well with the article’s\n",
    "tags (’CNN’, ’Democratic Party’, ’the U.S.’) and the most impactful words from our\n",
    "model in Table 3. At the other end of the scale, we find that an article about housing\n",
    "insecurity during the pandemic has the lowest probability of being fake. Since the\n",
    "article has quantitative keywords such as ’percent’ and ’growth’, the classification\n",
    "seems plausible with the results from Table 3 in mind. Likewise, we make no claim\n",
    "that this story is indeed ’true’, but only that our supervised machine learning flags\n",
    "this as the least suspicious. A more sophisticated model that capture additional\n",
    "linguistic features, such as the one found in Reis et al. (2019), is beyond the scope\n",
    "of this paper and may yield different results. We leave this for future research.\n",
    "5 Conclusion\n",
    "In this paper, we scrape the website PolitiFact.com for their annotated fact-checked\n",
    "statements. We are careful to adhere to their terms of use, which in short stipulate\n",
    "that articles are used for non-commercial purposes only and with respect for the\n",
    "right to privacy. These statements are carefully cleaned so that they can be used\n",
    "in a supervised machine learning model that classifies statements via logistic regres-\n",
    "sion. As PolitiFact has a six-way scale from pants-on-fire to true when classifying\n",
    "statements, we need to make a choice for which specification to use. From our model\n",
    "selection, we inspect the learning and validation curves which shows (i) all models\n",
    "exhibits significant variance, and (ii) the more statements we include, the higher\n",
    "the regularization is needed to achieve the highest accuracy and avoid over-fitting.\n",
    "We argue that the model specification that disregard ambiguous statements that\n",
    "are classified as either ’half-true’ or ’barely-true’ seems to strike the best balance\n",
    "between bias, variance and accuracy. We then use this preferred model on our test\n",
    "set (with no data leakage), and evaluate its performance.\n",
    "15\n",
    "Finally, we apply this model (with the optimal hyperparameter) on a subset of\n",
    "articles from Peacedata.net, a website recently excluded from Facebook and Twitter\n",
    "for their intentional disinformation approach. We scraped these from The Web\n",
    "Archive. We assess that we adhere to the terms of use, given that access to the\n",
    "archive is for research purposes only. Of 156 PeaceData.net articles, 69 are labelled\n",
    "as ’fake’. We can trace back the two articles which have the highest probability of\n",
    "being ’fake’ and ’true’ to the most impactful words found in our model of choice.\n",
    "While we believe that our model produces sensible results, it does not come\n",
    "without caveats and room for future research. Of particular interest is training the\n",
    "model on much larger datasets of articles, expand the model to detect patterns of\n",
    "words, e.g., with n-grams, and improve on the classification scheme, e.g, with a\n",
    "multinomial logistic regression model.\n",
    "We would like to emphasize that this relatively simple model merely serves to\n",
    "show what text-as-data in conjunction with machine learning can do, rather to have\n",
    "claimed that we have found the panacea to fake news detection.\n",
    "16) \"\"\" "
   ]
  },
  {
   "cell_type": "code",
   "execution_count": 388,
   "metadata": {},
   "outputs": [],
   "source": [
    "our_text_cleaned = clean_text(our_text)"
   ]
  },
  {
   "cell_type": "code",
   "execution_count": 390,
   "metadata": {},
   "outputs": [],
   "source": [
    "our_text_cleaned_prep = prepare(our_text_cleaned)"
   ]
  },
  {
   "cell_type": "code",
   "execution_count": 394,
   "metadata": {},
   "outputs": [],
   "source": [
    "our_bag = tfidf.transform([our_text_cleaned_prep])"
   ]
  },
  {
   "cell_type": "code",
   "execution_count": 396,
   "metadata": {},
   "outputs": [],
   "source": [
    "our_pred = lr.predict_proba(our_bag)"
   ]
  },
  {
   "cell_type": "code",
   "execution_count": 397,
   "metadata": {},
   "outputs": [
    {
     "data": {
      "text/plain": [
       "array([[0.42661446, 0.57338554]])"
      ]
     },
     "execution_count": 397,
     "metadata": {},
     "output_type": "execute_result"
    }
   ],
   "source": [
    "our_pred"
   ]
  },
  {
   "cell_type": "code",
   "execution_count": null,
   "metadata": {},
   "outputs": [],
   "source": []
  }
 ],
 "metadata": {
  "kernelspec": {
   "display_name": "Python 3.9.13 ('base')",
   "language": "python",
   "name": "python3"
  },
  "language_info": {
   "codemirror_mode": {
    "name": "ipython",
    "version": 3
   },
   "file_extension": ".py",
   "mimetype": "text/x-python",
   "name": "python",
   "nbconvert_exporter": "python",
   "pygments_lexer": "ipython3",
   "version": "3.9.13"
  },
  "orig_nbformat": 4,
  "vscode": {
   "interpreter": {
    "hash": "054e95b4819972eba8d406807e822e3be9cca805528e86310f8e3ac8dc287778"
   }
  }
 },
 "nbformat": 4,
 "nbformat_minor": 2
}
