{
 "cells": [
  {
   "cell_type": "markdown",
   "metadata": {},
   "source": [
    "# Project"
   ]
  },
  {
   "cell_type": "code",
   "execution_count": 1,
   "metadata": {},
   "outputs": [],
   "source": [
    "#  imports and set magics\n",
    "import numpy as np\n",
    "import pandas as pd\n",
    "import json\n",
    "import tqdm\n",
    "import time\n",
    "import datetime\n",
    "import os\n",
    "import requests\n",
    "from bs4 import BeautifulSoup\n",
    "import re\n",
    "import pyarrow"
   ]
  },
  {
   "cell_type": "markdown",
   "metadata": {},
   "source": [
    "# Project"
   ]
  },
  {
   "cell_type": "markdown",
   "metadata": {},
   "source": [
    "**Authors:** \n",
    "* Jørgen Baun Høst, pjz633@alumni.ku.dk\n",
    "* Marius Heltberg Lassen, pgb206@alumni.ku.dk"
   ]
  },
  {
   "cell_type": "markdown",
   "metadata": {},
   "source": [
    "This notebook contains the data extraction, data structuring and manipulation, calculations and figures for our project *Liar, liar, pants on fire? Fake news detection with supervised machine learning*."
   ]
  },
  {
   "cell_type": "markdown",
   "metadata": {},
   "source": [
    "Dependencies:"
   ]
  },
  {
   "cell_type": "code",
   "execution_count": 2,
   "metadata": {},
   "outputs": [],
   "source": [
    "# %pip install"
   ]
  },
  {
   "cell_type": "markdown",
   "metadata": {},
   "source": [
    "## Web scraping "
   ]
  },
  {
   "cell_type": "markdown",
   "metadata": {},
   "source": [
    "### Define functions:"
   ]
  },
  {
   "cell_type": "markdown",
   "metadata": {},
   "source": [
    "General functions:"
   ]
  },
  {
   "cell_type": "code",
   "execution_count": 3,
   "metadata": {},
   "outputs": [],
   "source": [
    "def log(response: requests.Response):\n",
    "    \"\"\"\n",
    "    Creates or appends a log-file with information from a `requests.get()`-call.\n",
    "    \n",
    "    The information gathered is:\n",
    "    - - - - - - - -\n",
    "        timestamp   :   Current local time.\n",
    "        status_code :   Status code from requests call.\n",
    "        length      :   Length of the HTML-string.\n",
    "        output_path :   Current working directory.\n",
    "        url         :   The URL of the response.\n",
    "    \"\"\"\n",
    "\n",
    "    # Open or create the csv file\n",
    "    if os.path.isfile('log'):\n",
    "        log = open('log','a')\n",
    "    else: \n",
    "        log = open('log','w')\n",
    "        header = ['timestamp', 'status_code', 'length', 'output_file', 'url'] # Header names\n",
    "        log.write(';'.join(header) + \"\\n\")\n",
    "        \n",
    "    # Gather log information\n",
    "    status_code = response.status_code # Status code from the request result\n",
    "    timestamp = time.strftime('%Y-%m-%d %H:%M:%S', time.localtime(time.time())) # Local time\n",
    "    length = len(response.text) # Length of the HTML-string\n",
    "    output_path = os.getcwd() # Output path\n",
    "    url = response.url # URL-string\n",
    "    \n",
    "    # Open the log file and append the gathered log information\n",
    "    with open('log','a') as log:\n",
    "        log.write(f'{timestamp};{status_code};{length};{output_path};{url}' + \"\\n\") \n",
    "\n",
    "\n",
    "def get_soup(url: str, header: dict) -> BeautifulSoup:\n",
    "    \"\"\"\n",
    "    Constructs a HTML-string from a request of the given URL. \n",
    "    Requests are logged, see `log()`. \n",
    "\n",
    "    Input:\n",
    "    - - - - - - - - \n",
    "    url (str)     :    URL of the website to receive the HTML-string from. \\n\n",
    "    header (dict) :    Dictionary to send in the query string for the request.\n",
    "\n",
    "    Returns:\n",
    "    - - - - - - - - \n",
    "    soup (BeautifulSoup) :  HTML-string in the class of BeutifulSoup with 'lxml' parser.\n",
    "    \"\"\"\n",
    "\n",
    "    response = requests.get(url, headers=header) # Request\n",
    "    log(response) # Log \n",
    "    soup = BeautifulSoup(response.content, 'lxml') # Convert to response to HTML\n",
    "\n",
    "    return soup\n",
    "\n",
    "\n",
    "def extract_articles_pf_pages(soup: BeautifulSoup) -> list:\n",
    "    \"\"\"\n",
    "    Extracts articles from HTML-string from the PolitiFact website.\n",
    "\n",
    "    Input:\n",
    "    - - - - - - - -\n",
    "    soup (BeautifulSoup) : HTML-string from the PolitiFact website.\n",
    "\n",
    "    Returns:\n",
    "    - - - - - - - - \n",
    "    list_of_articles (list) : A list of all articles in the given soup. \\n\n",
    "                              Each element is an article of data structure as BeautifulSoup.\n",
    "    \"\"\"\n",
    "    \n",
    "    articles = soup.find(class_='o-listicle__list') # Find section with articles\n",
    "    list_of_articles = articles.find_all('li') # Find all articles as a list\n",
    "\n",
    "    return list_of_articles"
   ]
  },
  {
   "cell_type": "markdown",
   "metadata": {},
   "source": [
    "PolitiFact functions:"
   ]
  },
  {
   "cell_type": "code",
   "execution_count": 4,
   "metadata": {},
   "outputs": [],
   "source": [
    "def create_url_pf_pages(page: int) -> str:\n",
    "    \"\"\"\n",
    "    Creates a PolitiFact URL with the given pagenumber.\n",
    "\n",
    "    Input:\n",
    "    - - - - - - - -\n",
    "    page (int) :    Pagenumber for the PolitiFact website.\n",
    "\n",
    "    Returns:\n",
    "    - - - - - - - -\n",
    "    url (str)  :    URL of the PolitiFact website for given page. \n",
    "    \"\"\"\n",
    "\n",
    "    url = f'https://www.politifact.com/factchecks/list/?page={page}' # Construct url with f-string\n",
    "\n",
    "    return url\n",
    "\n",
    "\n",
    "def extract_info_pf_pages(article: BeautifulSoup) -> list:\n",
    "    \"\"\"\n",
    "    Extracts all relevant information from one article on the article overview pages on the PolitiFact website.\n",
    "\n",
    "    Input:\n",
    "    - - - - - - - - \n",
    "    article (BeautifulSoup) :  Article to extract data from, see `extract_articles()`.\n",
    "\n",
    "    Returns:\n",
    "    - - - - - - - - \n",
    "    [name_txt, name_href, description_txt, quote_txt, quote_href, meter, footer] (list) \\n \n",
    "    The name and URL of the quoted person, the description of the quote, the quote itself \\n\n",
    "    and link hereof, the truthfulness index, and information on the article in string-format.\n",
    "    \"\"\"\n",
    "\n",
    "    # Statement name \n",
    "    name = article.find(class_='m-statement__name')\n",
    "    name_txt = name.text # name \n",
    "    name_href = name['href'] # href\n",
    "\n",
    "    # Statement description\n",
    "    description_txt = article.find(class_='m-statement__desc').text\n",
    "\n",
    "    # Statement quote\n",
    "    quote = article.find(class_='m-statement__quote').a\n",
    "    quote_txt = quote.text # name \n",
    "    quote_href = quote['href'] # href\n",
    "\n",
    "    # Statement meter\n",
    "    meter = article.find(class_='m-statement__meter').div.img['alt']\n",
    "\n",
    "    # Statement footer\n",
    "    footer = article.find(class_='m-statement__footer').text\n",
    "\n",
    "    return [name_txt, name_href, description_txt, quote_txt, quote_href, meter, footer]\n",
    "\n",
    "\n",
    "def data_pf_pages(startpage: int, endpage: int, header: dict, sleep: float) -> list:\n",
    "    \"\"\"\n",
    "    Compound function that scrapes an interval of pages from PolitiFact, extracts information for analysis, \\n\n",
    "    and logs requests in `log`-file. \n",
    "\n",
    "    Input:\n",
    "    - - - - - - - -\n",
    "    startpage (int)  :  The first page to scrape. \\n\n",
    "    endpage   (int)  :  The last page to scrape. \\n\n",
    "    header    (dict) :  Dictionary to send in the query string for the request. \\n\n",
    "    sleep     (float):  Seconds to sleep between each request.\n",
    "\n",
    "    Returns:\n",
    "    - - - - - - - -\n",
    "    list_of_output (list) : A list of lists, where each element list is the output of `extract_info()`.\n",
    "    errors         (list) : An error list containing the URLs for the pages where the error occured.\n",
    "    \"\"\"\n",
    "\n",
    "    list_of_output = [] # initialize empty list for dataframes\n",
    "    errors = [] \n",
    "\n",
    "    # Loop through pages and track progress with tqdm\n",
    "    for page in tqdm.tqdm(range(startpage, endpage+1)):\n",
    "        url = create_url_pf_pages(page) # create url\n",
    "\n",
    "        try: # circumvent problem with empty pages\n",
    "            soup = get_soup(url, header) # construct html\n",
    "            articles = extract_articles_pf_pages(soup) # extract articles \n",
    "\n",
    "            output = [] # initialize empty for articles \n",
    "\n",
    "            # Loop through articles \n",
    "            for article in articles:\n",
    "                info = extract_info_pf_pages(article) # extract relevant information\n",
    "                output.append(info) # append output\n",
    "            time.sleep(sleep)\n",
    "\n",
    "        except: # skip page\n",
    "            print(f'Error encountered on page {page}')\n",
    "            errors.append(url)\n",
    "            time.sleep(sleep)\n",
    "            continue\n",
    "\n",
    "        list_of_output.append(output)\n",
    "\n",
    "    return list_of_output, errors\n",
    "\n",
    "\n",
    "def extract_info_pf_articles(article: BeautifulSoup) -> list:\n",
    "    \"\"\"\n",
    "    A function that scrapes each individual article for relevant data. \\n\n",
    "\n",
    "    Input:\n",
    "    - - - - - - - -\n",
    "    article (BeautifulSoup) : BeatifulSoup element of article. \\n\n",
    "    \n",
    "    Returns:\n",
    "    - - - - - - - -\n",
    "    [tags, sub_header, text_body] : A list of of all relevant data from each politifact article.\n",
    "\n",
    "    \"\"\"\n",
    "\n",
    "    # Extract tags\n",
    "    tag_soup = article.find(class_='m-list m-list--horizontal')\\\n",
    "        .find_all('a') #Find all tags\n",
    "    \n",
    "    list_of_tags = [] #Create empty list for tags \n",
    "    \n",
    "    for tag in tag_soup:\n",
    "        list_of_tags.append(tag['title']) #Append each tag to list of tags\n",
    "\n",
    "    # Extract sub-header\n",
    "    sub_header = article.find(class_='c-title c-title--subline').text #conclusion by journalist\n",
    "\n",
    "    # Extract entire text body\n",
    "    text_block = article.find(class_='m-textblock') #Find article's body text\n",
    "    text_body = []\n",
    "\n",
    "    for paragraph in text_block.find_all('p'): #Find all paragraphs in article\n",
    "        text_body.append(paragraph.text) #append them to list\n",
    "\n",
    "    text_body=' '.join(text_body) #Convert to a single string\n",
    "\n",
    "    return [list_of_tags, sub_header, text_body]\n",
    "\n",
    "\n",
    "def data_pf_articles(list_of_href: list, header: dict, sleep: float) -> list:\n",
    "    \"\"\"\n",
    "    A compound function that scrapes relevant data from each article on politifact.com and stores this in a DataFrame. \\n\n",
    "\n",
    "    Input:\n",
    "    - - - - - - - -\n",
    "    list_of_href (list) :  A list of PolitiFact hyperlinks for each article to scrape. \\n\n",
    "    header       (dict) :  Dictionary to send in the query string for the request. \\n\n",
    "    sleep        (float):  Seconds to sleep between each request.\n",
    "    \n",
    "    Returns:\n",
    "    - - - - - - - -\n",
    "    list_of_output (list) : A list of lists, where each element list is the output of `get_article_data()` and the article href.\n",
    "    errors         (list) : An error list containing the URLs for the pages where the error occured.\n",
    "    \"\"\"\n",
    "\n",
    "    list_of_output = [] # Initialize empty output list \n",
    "    errors = []\n",
    "\n",
    "    # Loop through list of URls\n",
    "    for article_url in tqdm.tqdm(list_of_href): \n",
    "        full_url = 'https://www.politifact.com' + article_url\n",
    "        try:   \n",
    "            article = get_soup(full_url, header=header) #Get BeautifulSoup element for each article\n",
    "            article_data = extract_info_pf_articles(article) #Extract data from article\n",
    "            article_data.append(article_url) #Quote_href\n",
    "            list_of_output.append([article_data]) #Append data to output list\n",
    "            time.sleep(sleep)\n",
    "\n",
    "        except: \n",
    "            print(f'Error encountered at {full_url}')\n",
    "            errors.append(article_url)\n",
    "            time.sleep(sleep)\n",
    "            continue\n",
    "\n",
    "    return list_of_output, errors"
   ]
  },
  {
   "cell_type": "markdown",
   "metadata": {},
   "source": [
    "Peacedata.net functions:"
   ]
  },
  {
   "cell_type": "code",
   "execution_count": 5,
   "metadata": {},
   "outputs": [],
   "source": [
    "def extract_urls_pdn_pages(list_of_frontpage_url: str, header: dict, sleep: float) -> list:\n",
    "    set_of_article_url = set()\n",
    "    errors = set()\n",
    "    for frontpage_url in tqdm.tqdm(list_of_frontpage_url):\n",
    "        soup = get_soup(frontpage_url, header)\n",
    "        try:\n",
    "            section = soup.find(class_='jeg_main')\n",
    "            titles = section.findChildren(class_='jeg_thumb')\n",
    "            for title in titles:\n",
    "                article_url = title.a['href']\n",
    "                set_of_article_url.add(article_url) #Same approach as above\n",
    "                time.sleep(sleep)\n",
    "        except:\n",
    "            print(f'Error encountered at {frontpage_url}')\n",
    "            errors.add(frontpage_url)\n",
    "            time.sleep(sleep)\n",
    "            continue\n",
    "    return list(set_of_article_url), list(errors)\n",
    "\n",
    "\n",
    "def extract_info_pdn_articles(article: BeautifulSoup) -> list:\n",
    "    \n",
    "    title=article.find(class_='jeg_post_title').text #Extract title\n",
    "    \n",
    "    paragraphs = article.find(class_='entry-content no-share')\\\n",
    "        .find_all('p') #Extract all paragraphs\n",
    "    text_body = ' '.join([par.text for par in paragraphs])\n",
    "\n",
    "    tag_soup = article.find(class_='jeg_post_tags')\\\n",
    "        .find_all('a') #Find all tags in sup\n",
    "    tags = [tag.text for tag in tag_soup]\n",
    "    \n",
    "    return [title, paragraphs, tags] #Return as lists\n",
    "\n",
    "def data_pdn_(list_of_article_url: list, header: dict, sleep: float) -> pd.DataFrame:\n",
    "\n",
    "    list_of_output = [] # Initialize empty list for dataframes\n",
    "    errors = []\n",
    "\n",
    "    # Loop through list of URls\n",
    "    for article_url in tqdm.tqdm(list_of_article_url): \n",
    "        article_soup = get_soup(article_url, header=header).append(article_url) #Get BeautifulSoup element for each article\n",
    "\n",
    "        try:    \n",
    "            output = extract_info_pdn_articles(article_soup) #Extract data from article\n",
    "            list_of_output.append(output)\n",
    "            time.sleep(sleep) #Sleep for 0.5 seconds\n",
    "        \n",
    "        except:\n",
    "            print(f'Error encountered at {article_url}')\n",
    "            errors.append(article_url)\n",
    "            time.sleep(sleep)\n",
    "            continue\n",
    "\n",
    "    return list_of_output, errors"
   ]
  },
  {
   "cell_type": "markdown",
   "metadata": {},
   "source": [
    "### Scraping:"
   ]
  },
  {
   "cell_type": "code",
   "execution_count": 6,
   "metadata": {},
   "outputs": [],
   "source": [
    "# Make header: State names and (non-commerical/academic) intentions for data scraping\n",
    "header = {'name_1'   : 'Marius Heltberg Lassen',    'email_1' : 'pgb206@alumni.ku.dk', \n",
    "          'name_2'   : 'Jørgen Baun Høst',          'email_2' : 'pjz633@alumni.ku.dk',\n",
    "          'intention': 'Train supervised ML model for academic purposes'}"
   ]
  },
  {
   "cell_type": "markdown",
   "metadata": {},
   "source": [
    "#### Scrape PolitiFact"
   ]
  },
  {
   "cell_type": "code",
   "execution_count": 7,
   "metadata": {},
   "outputs": [],
   "source": [
    "# Load file if it exists\n",
    "if os.path.exists('data/data_pf.pq'):\n",
    "    data_pf = pd.read_parquet('data/data_pf.pq')\n",
    "\n",
    "# Or download data\n",
    "else:\n",
    "    # Scrape pages\n",
    "    pages, errors_pages = data_pf_pages(1, 728, header, 0.1)\n",
    "    pages_dfs_list = [pd.DataFrame(page, columns=['name_txt', 'name_href', 'description_txt', 'quote_txt', 'quote_href', 'meter', 'footer']) for page in pages]\n",
    "    pages_df = pd.concat(pages_dfs_list)\n",
    "\n",
    "    # Scrape articles\n",
    "    articles, errors_articles = data_pf_articles(pages_df['quote_href'], header, 0.1)\n",
    "    articles_dfs_list = [pd.DataFrame(article, columns=['list_of_tags', 'sub_header', 'text_body', 'quote_href']) for article in articles]\n",
    "    articles_df = pd.concat(articles_dfs_list)\n",
    "\n",
    "    # Merge data and save\n",
    "    data_pf = pd.merge(pages_df, articles_df, how='left', on='quote_href')\n",
    "    if not os.path.exists(os.getcwd() + '/data/'):\n",
    "        os.makedirs(os.getcwd() + '/data/')\n",
    "    data_pf.to_parquet('data/data_pf.pq')"
   ]
  },
  {
   "cell_type": "markdown",
   "metadata": {},
   "source": [
    "**Check error lists:**\n",
    "* By checking the error pages manually, we find that they are empty. Hence, we have not lost any data by skipping them.\n",
    "* By checking the error articles manually, we find that they have a different html structure. Append information manually or drop rows by running \n",
    ">```python \n",
    "> for error in errors_articles:\n",
    ">    data[data['quote_href'] == error] = some_list_of_information\n",
    "> # OR\n",
    "> data = data[~data['quote_href'].isin(errors_articles)]\n",
    ">```"
   ]
  },
  {
   "cell_type": "markdown",
   "metadata": {},
   "source": [
    "#### Scrape PeaceData"
   ]
  },
  {
   "cell_type": "code",
   "execution_count": 8,
   "metadata": {},
   "outputs": [],
   "source": [
    "# Load file if it exists\n",
    "if os.path.exists('data/data_pdn.pq'):\n",
    "    data_pdn = pd.read_parquet('data/data_pdn.pq')\n",
    "\n",
    "# Or download data\n",
    "else:\n",
    "    url_api = 'https://web.archive.org/cdx/search/dcx?url=peacedata.net&collapse=digest&from=20190101&to=20200930&output=json'\n",
    "    url_list_json = json.loads(requests.get(url_api).text)\n",
    "    url_list = ['https://web.archive.org/web/' + x[1] + '/' + x[2] for x in url_list_json[1:]]\n",
    "\n",
    "    pd_article_urls, page_errors = extract_urls_pdn_pages(url_list, header, 0.5)\n",
    "\n",
    "    pd_articles, pd_article_errors = data_pdn_(pd_article_urls, header, 0.5)\n",
    "    pd_articles_dfs_list = [pd.DataFrame(article, columns=['list_of_tags', 'sub_header', 'text_body', 'url']) for article in pd_articles]\n",
    "    data_pdn = pd.concat(pd_articles_dfs_list)\n",
    "    data_pdn.to_parquet('data/data_pdn.pq')"
   ]
  },
  {
   "cell_type": "markdown",
   "metadata": {},
   "source": [
    "## Data Structuring"
   ]
  },
  {
   "cell_type": "markdown",
   "metadata": {},
   "source": [
    "### Functions for PolitiFact dataset"
   ]
  },
  {
   "cell_type": "code",
   "execution_count": 9,
   "metadata": {},
   "outputs": [],
   "source": [
    "def clean_text(document):\n",
    "    document = re.sub('\\n', '', document)\n",
    "    document = re.sub('\\xa0', '', document)\n",
    "    return document \n",
    "\n",
    "def description_date(document):\n",
    "    document = re.sub('stated on ', '', document)\n",
    "    document = re.findall(r'[\\w]* [\\d]+, \\d\\d\\d\\d', document)[0]\n",
    "    document = datetime.datetime.strptime(document, '%B %d, %Y')\n",
    "    return document\n",
    "\n",
    "def description_forum(document):\n",
    "    document = re.sub(r'stated on [\\w]* [\\d]+, \\d\\d\\d\\d in ', '', document)\n",
    "    document = re.sub('\\.:', '', document)\n",
    "    document = re.sub(':', '', document)\n",
    "    document = re.sub(r'^[a][n]* ', '', document)\n",
    "    return document\n",
    "\n",
    "def footer_split(document):\n",
    "    document = re.sub('By ', '', document).split('•')\n",
    "    return document "
   ]
  },
  {
   "cell_type": "markdown",
   "metadata": {},
   "source": [
    "### Functions for peacedata.net dataset"
   ]
  },
  {
   "cell_type": "code",
   "execution_count": 10,
   "metadata": {},
   "outputs": [],
   "source": [
    "def remove_HTML_pdn(document):\n",
    "    document = re.sub(\"a.*?>\", \"\", document) #Remove HTML\n",
    "    return document\n",
    "\n",
    "def get_date_pdn(date_time_string):\n",
    "    base_url = 'https://web.archive.org/web/'\n",
    "    date_time_string = date_time_string.replace(base_url, \"\")\n",
    "    date_time_string = date_time_string.split(\"/\")\n",
    "    date_time_string = date_time_string[0][:8]\n",
    "    date_time_var = datetime.datetime.strptime(date_time_string, '%Y%m%d')\n",
    "    return date_time_var"
   ]
  },
  {
   "cell_type": "markdown",
   "metadata": {},
   "source": [
    "## Clean PolitiFact data"
   ]
  },
  {
   "cell_type": "code",
   "execution_count": 11,
   "metadata": {},
   "outputs": [],
   "source": [
    "if list(data_pf.columns) == ['URL', 'Date', 'Name', 'Name URL', 'Forum', 'Quote', 'Conclusion', 'Article', 'Meter', 'Article date', 'Author', 'Tags']:\n",
    "    pass \n",
    "\n",
    "else:\n",
    "    # Clean text\n",
    "    data_pf['name_txt'] = data_pf['name_txt'].apply(clean_text)\n",
    "    data_pf['description_txt'] = data_pf['description_txt'].apply(clean_text)\n",
    "    data_pf['quote_txt'] = data_pf['quote_txt'].apply(clean_text)\n",
    "    data_pf['footer'] = data_pf['footer'].apply(clean_text)\n",
    "    data_pf['sub_header'] = data_pf['sub_header'].apply(clean_text)\n",
    "\n",
    "    # Extract description info\n",
    "    data_pf['description_date'] = data_pf['description_txt'].apply(description_date)\n",
    "    data_pf['description_forum'] = data_pf['description_txt'].apply(description_forum)\n",
    "    data_pf.drop('description_txt', axis=1, inplace=True)\n",
    "\n",
    "    # Extract footer info\n",
    "    data_pf['footer_split'] = data_pf['footer'].apply(footer_split)\n",
    "    data_pf['footer_name'] = [x[0].strip() for x in data_pf['footer_split'] ]\n",
    "    data_pf['footer_date'] = [datetime.datetime.strptime(x[1].strip(), '%B %d, %Y') for x in data_pf['footer_split']]\n",
    "    data_pf.drop(['footer_split', 'footer'], axis=1, inplace=True)\n",
    "\n",
    "    # Drop sources, and order and rename columns \n",
    "    data_pf.rename(columns={'quote_href'         : 'URL', \n",
    "                            'description_date'   : 'Date', \n",
    "                            'name_txt'           : 'Name',\n",
    "                            'name_href'          : 'Name URL',\n",
    "                            'description_forum'  : 'Forum',\n",
    "                            'quote_txt'          : 'Quote',\n",
    "                            'sub_header'         : 'Conclusion',\n",
    "                            'text_body'          : 'Article',\n",
    "                            'meter'              : 'Meter',\n",
    "                            'footer_date'        : 'Article date',\n",
    "                            'footer_name'        : 'Author',\n",
    "                            'tags'               : 'Tags'},\n",
    "                inplace=True)\n",
    "\n",
    "    # Reorder and save \n",
    "    data_pf = data_pf[['URL', 'Date', 'Name', 'Name URL', 'Forum', 'Quote', 'Conclusion', 'Article', 'Meter', 'Article date', 'Author', 'Tags']]\n",
    "    data_pf.to_parquet('data/data_pf.pq')"
   ]
  },
  {
   "cell_type": "markdown",
   "metadata": {},
   "source": [
    "## Clean Peacedata.net data"
   ]
  },
  {
   "cell_type": "code",
   "execution_count": 12,
   "metadata": {},
   "outputs": [],
   "source": [
    "data_pdn_for_clean = data_pdn.copy()\n",
    "\n",
    "#Drop duplicates (Some scraped articles have multiple versions on web.archive.org)\n",
    "data_pdn_for_clean = data_pdn_for_clean.drop_duplicates(subset='title').reset_index(drop=True)\n",
    "\n",
    "#Extract author\n",
    "author_list = []\n",
    "i=0\n",
    "for article in data_pdn_for_clean['text_body']:\n",
    "    if article[0].startswith(' By'):    #If the first line starts with ' By' then split the line at \",\" and replace \" By\" with empty space. Finally, strip white-space of str.\n",
    "                                        #Same procedure as below.\n",
    "        author_list.append(article[0].split(\",\")[0].replace(\" By\", \"\").strip())\n",
    "        i+1\n",
    "    elif article[0].startswith('By'):\n",
    "        author_list.append(article[0].split(\",\")[0].replace(\"By\", \"\").strip())\n",
    "        i+1\n",
    "    elif article[0].startswith(' by'):\n",
    "        author_list.append(article[0].split(\",\")[0].replace(\" by\", \"\").strip())\n",
    "        i+1\n",
    "    elif article[0].startswith('by'):\n",
    "        author_list.append(article[0].split(\",\")[0].replace(\"by\", \"\").strip())\n",
    "        i+1\n",
    "    else: \n",
    "        author_list.append('Unknown')\n",
    "        i+1\n",
    "\n",
    "data_pdn_for_clean['author']=author_list\n",
    "\n",
    "#Remove last 3 lines (typically contains licensing info) and start from 2nd line (1st line typically has author info)\n",
    "i=0\n",
    "for article in data_pdn_for_clean['text_body'][i]:\n",
    "    data_pdn_for_clean['text_body'][i]=data_pdn_for_clean['text_body'][i][2:-3]\n",
    "    i+=1\n",
    "\n",
    "\n",
    "#Join text as one string\n",
    "article_list = []\n",
    "i=0\n",
    "for article in data_pdn_for_clean['text_body']:\n",
    "    article = ''.join(article)\n",
    "    article_list.append(article)\n",
    "    i=+1\n",
    "\n",
    "data_pdn_for_clean['text_body']=article_list\n",
    "\n",
    "#Drop '\\n' and '\\xa0'\n",
    "data_pdn_for_clean['text_body'] = data_pdn_for_clean['text_body'].apply(clean_text)\n",
    "\n",
    "#Drop HTML\n",
    "data_pdn_for_clean['text_body'] = data_pdn_for_clean['text_body'].apply(remove_HTML_pdn)\n",
    "\n",
    "#Get the dates of the articles (the time they were stored by web.archive.org!)\n",
    "data_pdn_for_clean['date']=data_pdn_for_clean['url'].apply(get_date_pdn)\n",
    "\n",
    "data_pdn_for_clean.rename(columns={\n",
    "                                'title': 'Title',\n",
    "                                'text_body': 'Article',\n",
    "                                'tags': 'Tags',\n",
    "                                'url': 'URL',\n",
    "                                'author': 'Author',\n",
    "                                'date': 'Date'\n",
    "}, inplace=True)\n",
    "\n",
    "data_pdn_for_clean = data_pdn_for_clean[['URL', 'Date', 'Title', 'Article', 'Author', 'Tags']]"
   ]
  },
  {
   "cell_type": "code",
   "execution_count": 13,
   "metadata": {},
   "outputs": [
    {
     "data": {
      "text/html": [
       "<div>\n",
       "<style scoped>\n",
       "    .dataframe tbody tr th:only-of-type {\n",
       "        vertical-align: middle;\n",
       "    }\n",
       "\n",
       "    .dataframe tbody tr th {\n",
       "        vertical-align: top;\n",
       "    }\n",
       "\n",
       "    .dataframe thead th {\n",
       "        text-align: right;\n",
       "    }\n",
       "</style>\n",
       "<table border=\"1\" class=\"dataframe\">\n",
       "  <thead>\n",
       "    <tr style=\"text-align: right;\">\n",
       "      <th></th>\n",
       "      <th>URL</th>\n",
       "      <th>Date</th>\n",
       "      <th>Title</th>\n",
       "      <th>Article</th>\n",
       "      <th>Author</th>\n",
       "      <th>Tags</th>\n",
       "    </tr>\n",
       "  </thead>\n",
       "  <tbody>\n",
       "    <tr>\n",
       "      <th>0</th>\n",
       "      <td>https://web.archive.org/web/20200620054148/htt...</td>\n",
       "      <td>2020-06-20</td>\n",
       "      <td>How ‘Defense’ Contractors Lobbied For War in Y...</td>\n",
       "      <td>On August 9th, 2018, Saudi Arabia used a laser...</td>\n",
       "      <td>Ben Barbour</td>\n",
       "      <td>[Arms sales, Defense Contractors, McKeon Group...</td>\n",
       "    </tr>\n",
       "    <tr>\n",
       "      <th>1</th>\n",
       "      <td>https://web.archive.org/web/20200620054148/htt...</td>\n",
       "      <td>2020-06-20</td>\n",
       "      <td>Corporate Industries in the USA: a Menace to t...</td>\n",
       "      <td>But these advancements happened at the cost of...</td>\n",
       "      <td>Unknown</td>\n",
       "      <td>[Environment, USA]</td>\n",
       "    </tr>\n",
       "    <tr>\n",
       "      <th>2</th>\n",
       "      <td>https://web.archive.org/web/20200902161142/htt...</td>\n",
       "      <td>2020-09-02</td>\n",
       "      <td>COVID-19: the World is on Pause but Climate Cr...</td>\n",
       "      <td>The year 2020 has been a disaster for the whol...</td>\n",
       "      <td>Ayushi Goyal</td>\n",
       "      <td>[COVID-19, Environmental Disaster]</td>\n",
       "    </tr>\n",
       "    <tr>\n",
       "      <th>3</th>\n",
       "      <td>https://web.archive.org/web/20200902161142/htt...</td>\n",
       "      <td>2020-09-02</td>\n",
       "      <td>Julian Assange Court Case Delayed Again in Biz...</td>\n",
       "      <td>Assange sat in a conference room used by the e...</td>\n",
       "      <td>Unknown</td>\n",
       "      <td>[Assange, WikiLeaks]</td>\n",
       "    </tr>\n",
       "    <tr>\n",
       "      <th>4</th>\n",
       "      <td>https://web.archive.org/web/20200901191737/htt...</td>\n",
       "      <td>2020-09-01</td>\n",
       "      <td>US Workers, Minorities Continuously Face Housi...</td>\n",
       "      <td>Minimum wage workers andpeople of color (POC) ...</td>\n",
       "      <td>Sly Custodio</td>\n",
       "      <td>[#cancelrent, COVID-19, rent]</td>\n",
       "    </tr>\n",
       "  </tbody>\n",
       "</table>\n",
       "</div>"
      ],
      "text/plain": [
       "                                                 URL       Date  \\\n",
       "0  https://web.archive.org/web/20200620054148/htt... 2020-06-20   \n",
       "1  https://web.archive.org/web/20200620054148/htt... 2020-06-20   \n",
       "2  https://web.archive.org/web/20200902161142/htt... 2020-09-02   \n",
       "3  https://web.archive.org/web/20200902161142/htt... 2020-09-02   \n",
       "4  https://web.archive.org/web/20200901191737/htt... 2020-09-01   \n",
       "\n",
       "                                               Title  \\\n",
       "0  How ‘Defense’ Contractors Lobbied For War in Y...   \n",
       "1  Corporate Industries in the USA: a Menace to t...   \n",
       "2  COVID-19: the World is on Pause but Climate Cr...   \n",
       "3  Julian Assange Court Case Delayed Again in Biz...   \n",
       "4  US Workers, Minorities Continuously Face Housi...   \n",
       "\n",
       "                                             Article        Author  \\\n",
       "0  On August 9th, 2018, Saudi Arabia used a laser...   Ben Barbour   \n",
       "1  But these advancements happened at the cost of...       Unknown   \n",
       "2  The year 2020 has been a disaster for the whol...  Ayushi Goyal   \n",
       "3  Assange sat in a conference room used by the e...       Unknown   \n",
       "4  Minimum wage workers andpeople of color (POC) ...  Sly Custodio   \n",
       "\n",
       "                                                Tags  \n",
       "0  [Arms sales, Defense Contractors, McKeon Group...  \n",
       "1                                 [Environment, USA]  \n",
       "2                 [COVID-19, Environmental Disaster]  \n",
       "3                               [Assange, WikiLeaks]  \n",
       "4                      [#cancelrent, COVID-19, rent]  "
      ]
     },
     "execution_count": 13,
     "metadata": {},
     "output_type": "execute_result"
    }
   ],
   "source": [
    "data_pdn_for_clean.head()"
   ]
  },
  {
   "cell_type": "markdown",
   "metadata": {},
   "source": [
    "# Plotting"
   ]
  },
  {
   "cell_type": "markdown",
   "metadata": {},
   "source": [
    "### Descriptive statistics"
   ]
  },
  {
   "cell_type": "code",
   "execution_count": 14,
   "metadata": {},
   "outputs": [],
   "source": [
    "import matplotlib.pyplot as plt \n",
    "import seaborn as sns\n",
    "\n",
    "plt.style.use('seaborn-whitegrid')\n",
    "%matplotlib inline\n",
    "\n",
    "plt.rcParams.update({\n",
    "  \"text.usetex\": True,\n",
    "  \"font.family\": \"Helvetica\"\n",
    "                    }) #use tex text formatting\n",
    "\n",
    "SMALL_SIZE = 14\n",
    "MEDIUM_SIZE = 18\n",
    "BIGGER_SIZE = 20\n",
    "\n",
    "plt.rc('font', size=SMALL_SIZE)          # controls default text sizes\n",
    "plt.rc('axes', titlesize=SMALL_SIZE)     # fontsize of the axes title\n",
    "plt.rc('axes', labelsize=MEDIUM_SIZE)    # fontsize of the x and y labels\n",
    "plt.rc('xtick', labelsize=SMALL_SIZE)    # fontsize of the tick labels\n",
    "plt.rc('ytick', labelsize=SMALL_SIZE)    # fontsize of the tick labels\n",
    "plt.rc('legend', fontsize=SMALL_SIZE)    # legend fontsize\n",
    "plt.rc('figure', titlesize=BIGGER_SIZE)  # fontsize of the figure title\n",
    "\n",
    "plt.rcParams['figure.figsize'] = 10, 4 # set default size of plots"
   ]
  },
  {
   "cell_type": "code",
   "execution_count": 15,
   "metadata": {},
   "outputs": [],
   "source": [
    "# Extract and sort tags\n",
    "data_temp = pd.read_parquet('data/data_pf.pq')\n",
    "\n",
    "df_temp = data_temp.copy()\n",
    "\n",
    "df_temp['Year'] = df_temp['Date'].dt.year #make year collumn"
   ]
  },
  {
   "cell_type": "code",
   "execution_count": 16,
   "metadata": {},
   "outputs": [],
   "source": [
    "tags_by_year = {}\n",
    "\n",
    "# Extract and count tags used in article by year\n",
    "for year in df_temp['Year'].unique():\n",
    "    df_new=df_temp[df_temp['Year']==year]\n",
    "    tag_values = pd.Series([x for list in df_new['Tags'] for x in list]).value_counts()\n",
    "    tags_by_year[year] = tag_values #Make dictionary: Key = year. Value is number of tags used in articles \n",
    "   \n",
    "\n",
    "tags_by_year = dict(sorted(tags_by_year.items())) #Sort the dict by year\n",
    "tag_df = pd.DataFrame(tags_by_year).fillna(0) #Make df of the tag dict and fill NaN as 0"
   ]
  },
  {
   "cell_type": "code",
   "execution_count": 17,
   "metadata": {},
   "outputs": [],
   "source": [
    "#Extract the top 10 tags in the past five years\n",
    "top_10_tags = list(tag_df.iloc[:, -5:]\\\n",
    "    .sum(axis=1)\\\n",
    "    .nlargest(10)\\\n",
    "    .index\\\n",
    "    .values)"
   ]
  },
  {
   "cell_type": "code",
   "execution_count": 18,
   "metadata": {},
   "outputs": [
    {
     "data": {
      "image/png": "[encoded data removed]",
      "text/plain": [
       "<Figure size 720x288 with 1 Axes>"
      ]
     },
     "metadata": {
      "needs_background": "light"
     },
     "output_type": "display_data"
    }
   ],
   "source": [
    "top_10_tags = tag_df.loc[top_10_tags, :].iloc[:,-5:]\n",
    "\n",
    "fig1 = top_10_tags.plot(kind='barh', stacked=True, colormap='viridis')\n",
    "fig1.set_xlabel('No. of tags used in articles')\n",
    "plt.savefig('figs/fig1_top_10_tags.pdf', bbox_inches = \"tight\")"
   ]
  },
  {
   "cell_type": "code",
   "execution_count": 19,
   "metadata": {},
   "outputs": [],
   "source": [
    "# Drop observations with different scale\n",
    "df_temp = df_temp[~df_temp['Meter'].isin(['full-flop', 'half-flip', 'no-flip'])]\n",
    "\n",
    "cat_by_date = {}\n",
    "\n",
    "# Extract and count tags used in article by date\n",
    "for date in df_temp['Date'].unique():\n",
    "    df_new=df_temp[df_temp['Date']==date]\n",
    "    tag_values = pd.Series(df_new['Meter']).value_counts()\n",
    "    cat_by_date[date] = tag_values #Make dictionary: Key = date. Value is count of statement classification (pants-on-fire, false, true etc)\n",
    "   \n",
    "\n",
    "\n",
    "cat_by_date = dict(sorted(cat_by_date.items())) #Sort the dict by date\n",
    "\n",
    "reorder_list = ['true', 'mostly-true', 'half-true', 'barely-true', 'false', 'pants-fire'] #define order of sorting to dataframe\n",
    "\n",
    "df_cat = pd.DataFrame(cat_by_date).fillna(0)\n",
    "df_cat = df_cat.reindex(reorder_list) #reorder according to above list"
   ]
  },
  {
   "cell_type": "code",
   "execution_count": 20,
   "metadata": {},
   "outputs": [],
   "source": [
    "df_cat_dev_cuma = df_cat.iloc[:, :]\\\n",
    "    .cumsum(axis=1)"
   ]
  },
  {
   "cell_type": "code",
   "execution_count": 21,
   "metadata": {},
   "outputs": [
    {
     "data": {
      "image/png": "[encoded data removed]",
      "text/plain": [
       "<Figure size 720x288 with 1 Axes>"
      ]
     },
     "metadata": {
      "needs_background": "light"
     },
     "output_type": "display_data"
    }
   ],
   "source": [
    "cat_plot = df_cat_dev_cuma.T.iloc[:, :].plot()\n",
    "cat_plot.set_xlim(pd.Timestamp('2012-01-01'), pd.Timestamp('2022-08-31'))\n",
    "plt.savefig('figs/fig2.pdf', bbox_inches='tight')"
   ]
  },
  {
   "cell_type": "code",
   "execution_count": 22,
   "metadata": {},
   "outputs": [
    {
     "data": {
      "image/png": "[encoded data removed]",
      "text/plain": [
       "<Figure size 720x288 with 1 Axes>"
      ]
     },
     "metadata": {
      "needs_background": "light"
     },
     "output_type": "display_data"
    }
   ],
   "source": [
    "tag_values = pd.Series([x for list in data_pdn_for_clean['Tags'] for x in list]).value_counts()\n",
    "\n",
    "fig3 = tag_values[:5].plot(kind='barh', color=['tab:blue', 'tab:blue', 'tab:red', 'tab:red', 'tab:green'])\n",
    "fig3.set_xlabel('No. of tags used in articles')\n",
    "plt.savefig('figs/fig3_top5tags_pdn.pdf', bbox_inches='tight')"
   ]
  },
  {
   "cell_type": "code",
   "execution_count": null,
   "metadata": {},
   "outputs": [],
   "source": []
  },
  {
   "cell_type": "markdown",
   "metadata": {},
   "source": [
    "## Analysis"
   ]
  },
  {
   "cell_type": "markdown",
   "metadata": {},
   "source": [
    "Define functions: "
   ]
  },
  {
   "cell_type": "code",
   "execution_count": 23,
   "metadata": {},
   "outputs": [],
   "source": [
    "import nltk\n",
    "from sklearn.model_selection import train_test_split\n",
    "from sklearn.feature_extraction.text import TfidfVectorizer\n",
    "from sklearn.model_selection import KFold\n",
    "from sklearn.metrics import accuracy_score as acc \n",
    "from sklearn.linear_model import LogisticRegression\n",
    "from sklearn.pipeline import make_pipeline\n",
    "from sklearn.model_selection import GridSearchCV\n",
    "from sklearn.model_selection import learning_curve\n",
    "from sklearn.model_selection import validation_curve\n",
    "\n",
    "pd.options.mode.chained_assignment = None\n",
    "from warnings import simplefilter\n",
    "from sklearn.exceptions import ConvergenceWarning\n",
    "simplefilter(\"ignore\", category=ConvergenceWarning)"
   ]
  },
  {
   "cell_type": "code",
   "execution_count": 24,
   "metadata": {},
   "outputs": [],
   "source": [
    "def partition(df, true, fake): \n",
    "    \n",
    "    part = df[df['Meter'].isin(true + fake)]\n",
    "    part['Fake'] = part['Meter'].isin(fake).astype(int)\n",
    "\n",
    "    return part\n",
    "\n",
    "def prepare(document):\n",
    "\n",
    "    # Lowercase and remove non-alphanumeric characters\n",
    "    document = document.lower()\n",
    "    document = re.sub(r'[^\\w\\s]', ' ', document)\n",
    "\n",
    "    # Tokenize \n",
    "    document_tokens = nltk.tokenize.word_tokenize(document)\n",
    "\n",
    "    # Delete stop-words\n",
    "    document_nostop = [i for i in document_tokens if i not in nltk.corpus.stopwords.words('english')]\n",
    "\n",
    "    # Lemmatize \n",
    "    document_lemmatized = [nltk.WordNetLemmatizer().lemmatize(i) for i in document_nostop]\n",
    "    \n",
    "    # Covert from list back to string \n",
    "    document = ' '.join(document_lemmatized)\n",
    "    \n",
    "    return document "
   ]
  },
  {
   "cell_type": "markdown",
   "metadata": {},
   "source": [
    "### Partitioning:"
   ]
  },
  {
   "cell_type": "code",
   "execution_count": 25,
   "metadata": {},
   "outputs": [],
   "source": [
    "part1 = partition(data_pf, ['true'], ['pants-fire'])\n",
    "X1 = part1['Quote'].apply(prepare).values \n",
    "y1 = part1['Fake'].values\n",
    "\n",
    "part2 = partition(data_pf, ['true', 'mostly-true'], ['pants-fire', 'false'])\n",
    "X2 = part2['Quote'].apply(prepare).values \n",
    "y2 = part2['Fake'].values\n",
    "\n",
    "part3 = partition(data_pf, ['true', 'mostly-true', 'half-true'], ['pants-fire', 'false', 'barely-true'])\n",
    "X3 = part3['Quote'].apply(prepare).values \n",
    "y3 = part3['Fake'].values"
   ]
  },
  {
   "cell_type": "markdown",
   "metadata": {},
   "source": [
    "Note:\n",
    "\n",
    "Below we had data leakage - splitting the same dataset twice in dev, test & val --> Some data is overlapping! [Module 12 slides...]"
   ]
  },
  {
   "cell_type": "code",
   "execution_count": 26,
   "metadata": {},
   "outputs": [],
   "source": [
    "X1_dev, X1_test, y1_dev, y1_test = train_test_split(X1, y1, test_size=1/3, random_state=1337)\n",
    "X1_train, X1_val1, y1_train, y1_val = train_test_split(X1_dev, y1_dev, test_size=1/2, random_state=1337)\n",
    "\n",
    "X2_dev, X2_test, y2_dev, y2_test = train_test_split(X2, y2, test_size=1/3, random_state=1337)\n",
    "X2_train, X2_val, y2_train, y2_val = train_test_split(X2_dev, y2_dev, test_size=1/2, random_state=1337)\n",
    "\n",
    "X3_dev, X3_test, y3_dev, y3_test = train_test_split(X3, y3, test_size=1/3, random_state=1337)\n",
    "X3_train, X3_val, y3_train, y3_val = train_test_split(X3_dev, y3_dev, test_size=1/2, random_state=1337)"
   ]
  },
  {
   "cell_type": "markdown",
   "metadata": {},
   "source": [
    "### Learning curve"
   ]
  },
  {
   "cell_type": "code",
   "execution_count": 27,
   "metadata": {},
   "outputs": [],
   "source": [
    "pipe = make_pipeline(TfidfVectorizer(), LogisticRegression())"
   ]
  },
  {
   "cell_type": "code",
   "execution_count": 28,
   "metadata": {},
   "outputs": [],
   "source": [
    "train_sizes1, train_scores1, test_scores1 = \\\n",
    "    learning_curve(estimator=pipe,\n",
    "                   X=X1_dev,\n",
    "                   y=y1_dev,\n",
    "                   train_sizes=np.arange(0.05, 1.05, .05),\n",
    "                   scoring='accuracy',                 \n",
    "                   cv=10)\n",
    "\n",
    "train_sizes2, train_scores2, test_scores2 = \\\n",
    "    learning_curve(estimator=pipe,\n",
    "                   X=X2_dev,\n",
    "                   y=y2_dev,\n",
    "                   train_sizes=np.arange(0.05, 1.05, .05),\n",
    "                   scoring='accuracy',                 \n",
    "                   cv=10)\n",
    "\n",
    "train_sizes3, train_scores3, test_scores3 = \\\n",
    "    learning_curve(estimator=pipe,\n",
    "                   X=X3_dev,\n",
    "                   y=y3_dev,\n",
    "                   train_sizes=np.arange(0.05, 1.05, .05),\n",
    "                   scoring='accuracy',                 \n",
    "                   cv=10)"
   ]
  },
  {
   "cell_type": "code",
   "execution_count": 29,
   "metadata": {},
   "outputs": [
    {
     "data": {
      "image/png": "[encoded data removed]",
      "text/plain": [
       "<Figure size 720x864 with 3 Axes>"
      ]
     },
     "metadata": {
      "needs_background": "light"
     },
     "output_type": "display_data"
    }
   ],
   "source": [
    "f_learn, ax = plt.subplots(3, 1, figsize=(10, 12))\n",
    "\n",
    "ax[0].fill_between(train_sizes1, test_scores1.min(1), test_scores1.max(1), alpha=0.25, label ='Validation', color='blue')\n",
    "ax[0].fill_between(train_sizes1, train_scores1.min(1), train_scores1.max(1),  alpha=0.25, label='Train', color='orange')\n",
    "ax[0].set_title(\"['true'] vs ['pants-fire']\")\n",
    "ax[0].set_ylabel('Accuracy')\n",
    "ax[0].set_ylim([0.5,1])\n",
    "ax[0].legend(frameon=True)\n",
    "\n",
    "ax[1].fill_between(train_sizes2, test_scores2.min(1), test_scores2.max(1), alpha=0.25, label ='Validation', color='blue')\n",
    "ax[1].fill_between(train_sizes2, train_scores2.min(1), train_scores2.max(1),  alpha=0.25, label='Train', color='orange')\n",
    "ax[1].set_title(\"['true', 'mostly-true'] vs ['pants-fire', 'false']\")\n",
    "ax[1].set_ylabel('Accuracy')\n",
    "ax[1].set_ylim([0.5,1])\n",
    "ax[1].legend(frameon=True)\n",
    "\n",
    "ax[2].fill_between(train_sizes3, test_scores3.min(1), test_scores3.max(1), alpha=0.25, label ='Validation', color='blue')\n",
    "ax[2].fill_between(train_sizes3, train_scores3.min(1), train_scores3.max(1),  alpha=0.25, label='Train', color='orange')\n",
    "ax[2].set_title(\"['true', 'mostly-true', 'half-true'] vs ['pants-fire', 'false', 'barely-true']\")\n",
    "ax[2].set_ylabel('Accuracy')\n",
    "ax[2].set_ylim([0.5,1])\n",
    "ax[2].set_xlabel('Train sizes')\n",
    "ax[2].legend(frameon=True)\n",
    "\n",
    "\n",
    "f_learn.suptitle('Range of performance (min, max)');\n",
    "plt.savefig('figs/learning_curve.pdf', bbox_inches='tight')"
   ]
  },
  {
   "cell_type": "markdown",
   "metadata": {},
   "source": [
    "### Validation curve:"
   ]
  },
  {
   "cell_type": "code",
   "execution_count": 30,
   "metadata": {},
   "outputs": [],
   "source": [
    "lambdas = np.logspace(-4, 4, 50)\n",
    "Cs = 1/lambdas \n",
    "\n",
    "\n",
    "\n",
    "train_scores1_vc, test_scores1_vc = \\\n",
    "    validation_curve(estimator=pipe,\n",
    "                     X=X1_dev,\n",
    "                     y=y1_dev,\n",
    "                     param_name='logisticregression__C', #built-in name of hyperparameter\n",
    "                     param_range=lambdas, #values to consider\n",
    "                     scoring='accuracy',                 \n",
    "                     cv=10)\n",
    "\n",
    "train_scores2_vc, test_scores2_vc = \\\n",
    "    validation_curve(estimator=pipe,\n",
    "                     X=X2_dev,\n",
    "                     y=y2_dev,\n",
    "                     param_name='logisticregression__C', #built-in name of hyperparameter\n",
    "                     param_range=lambdas, #values to consider\n",
    "                     scoring='accuracy',                 \n",
    "                     cv=10)\n",
    "\n",
    "train_scores3_vc, test_scores3_vc = \\\n",
    "    validation_curve(estimator=pipe,\n",
    "                     X=X3_dev,\n",
    "                     y=y3_dev,\n",
    "                     param_name='logisticregression__C', #built-in name of hyperparameter\n",
    "                     param_range=lambdas, #values to consider\n",
    "                     scoring='accuracy',                 \n",
    "                     cv=10)                 "
   ]
  },
  {
   "cell_type": "code",
   "execution_count": 31,
   "metadata": {},
   "outputs": [
    {
     "data": {
      "image/png": "[encoded data removed]",
      "text/plain": [
       "<Figure size 720x864 with 3 Axes>"
      ]
     },
     "metadata": {
      "needs_background": "light"
     },
     "output_type": "display_data"
    }
   ],
   "source": [
    "best_acc1 = max(test_scores1_vc.mean(axis=1))\n",
    "best_lambda1 = lambdas[np.where(test_scores1_vc.mean(axis=1) == best_acc1)]\n",
    "best_acc2 = max(test_scores2_vc.mean(axis=1))\n",
    "best_lambda2 = lambdas[np.where(test_scores2_vc.mean(axis=1) == best_acc2)]\n",
    "best_acc3 = max(test_scores3_vc.mean(axis=1))\n",
    "best_lambda3 = lambdas[np.where(test_scores3_vc.mean(axis=1) == best_acc3)]\n",
    "\n",
    "f_learn, ax = plt.subplots(3, 1, figsize=(10, 12), sharex=True)\n",
    "\n",
    "ax[0].fill_between(lambdas, test_scores1_vc.min(1), test_scores1_vc.max(1), alpha=0.25, label ='Validation', color='blue')\n",
    "ax[0].fill_between(lambdas, train_scores1_vc.min(1), train_scores1_vc.max(1),  alpha=0.25, label='Train', color='orange')\n",
    "ax[0].scatter(best_lambda1, best_acc1, label='Optimal $\\lambda$', color='blue')\n",
    "ax[0].set_title(\"['true'] vs ['pants-fire']\")\n",
    "ax[0].set_ylabel('Accuracy')\n",
    "ax[0].set_ylim([0.5,1.1])\n",
    "ax[0].set_xscale('log')\n",
    "ax[0].legend(loc='upper left', frameon=True)\n",
    "\n",
    "ax[1].fill_between(lambdas, test_scores2_vc.min(1), test_scores2_vc.max(1), alpha=0.25, label ='Validation', color='blue')\n",
    "ax[1].fill_between(lambdas, train_scores2_vc.min(1), train_scores2_vc.max(1),  alpha=0.25, label='Train', color='orange')\n",
    "ax[1].scatter(best_lambda2, best_acc2, label='Optimal $\\lambda$', color='blue')\n",
    "ax[1].set_title(\"['true', 'mostly-true'] vs ['pants-fire', 'false']\")\n",
    "ax[1].set_ylabel('Accuracy')\n",
    "ax[1].set_ylim([0.5,1.1])\n",
    "ax[1].set_xscale('log')\n",
    "ax[1].legend(loc='upper left', frameon=True)\n",
    "\n",
    "ax[2].fill_between(lambdas, test_scores3_vc.min(1), test_scores3_vc.max(1), alpha=0.25, label ='Validation', color='blue')\n",
    "ax[2].fill_between(lambdas, train_scores3_vc.min(1), train_scores3_vc.max(1),  alpha=0.25, label='Train', color='orange')\n",
    "ax[2].scatter(best_lambda3, best_acc3, label='Optimal $\\lambda$', color='blue')\n",
    "ax[2].set_title(\"['true', 'mostly-true', 'half-true'] vs ['pants-fire', 'false', 'barely-true']\")\n",
    "ax[2].set_ylabel('Accuracy')\n",
    "ax[2].set_ylim([0.5,1.1])\n",
    "ax[2].set_xscale('log')\n",
    "ax[2].set_xlabel('Lambdas, $\\lambda$')\n",
    "ax[2].legend(loc='upper left', frameon=True)\n",
    "\n",
    "\n",
    "f_learn.suptitle('Range of performance (min, max)');\n",
    "plt.savefig('figs/validation_curve.pdf', bbox_inches='tight')"
   ]
  },
  {
   "cell_type": "markdown",
   "metadata": {},
   "source": [
    "### Topic modelling - peacedata.net"
   ]
  },
  {
   "cell_type": "code",
   "execution_count": 32,
   "metadata": {},
   "outputs": [
    {
     "name": "stdout",
     "output_type": "stream",
     "text": [
      "Topic 1:\n",
      "turkey journalists immigration migrants qaeda\n",
      "Topic 2:\n",
      "yemen assange britain coalition eu\n",
      "Topic 3:\n",
      "fox mau sexual kenya exarcheia\n",
      "Topic 4:\n",
      "muslims henderson opcw pakistan hong\n",
      "Topic 5:\n",
      "amazon adani color gas project\n"
     ]
    }
   ],
   "source": [
    "from sklearn.feature_extraction.text import CountVectorizer\n",
    "count = CountVectorizer(stop_words='english', max_df=0.1, max_features=5000)\n",
    "bag = count.fit_transform(data_pdn_for_clean['Article'].values)\n",
    "\n",
    "from sklearn.decomposition import LatentDirichletAllocation\n",
    "lda = LatentDirichletAllocation(n_components=5,random_state=123) #The random_state parameter pass an integer that makes the result reproducible \n",
    "review_topics = lda.fit_transform(bag)\n",
    "\n",
    "n_top_words = 5\n",
    "word_names = count.get_feature_names_out()\n",
    "for topic_idx, topic in enumerate(lda.components_): #lda.components_ stores a matrix containing the word importance for each topic\n",
    "    print(\"Topic %d:\" % (topic_idx + 1))\n",
    "    print(\" \".join([word_names[i]\n",
    "    for i in topic.argsort()\\\n",
    "        [:-n_top_words - 1:-1]]))"
   ]
  },
  {
   "cell_type": "markdown",
   "metadata": {},
   "source": [
    "Proceed with partition 2 - ['true', 'mostly-true'] vs ['false', 'pants-fire']\n",
    "- It's the most logical (?) "
   ]
  },
  {
   "cell_type": "code",
   "execution_count": 33,
   "metadata": {},
   "outputs": [
    {
     "data": {
      "text/plain": [
       "1.2067926406393288"
      ]
     },
     "execution_count": 33,
     "metadata": {},
     "output_type": "execute_result"
    }
   ],
   "source": [
    "best_lambda2[0]"
   ]
  },
  {
   "cell_type": "code",
   "execution_count": 34,
   "metadata": {},
   "outputs": [],
   "source": [
    "from sklearn.metrics import confusion_matrix\n",
    "lr = LogisticRegression(random_state=1337, C=1/best_lambda2[0])\n",
    "tfidf = TfidfVectorizer()\n",
    "\n",
    "X2_dev_bag = tfidf.fit_transform(X2_dev)\n",
    "X2_test_bag = tfidf.transform(X2_test)\n",
    "\n",
    "lr_fake_news = lr.fit(X2_dev_bag, y2_dev)\n",
    "y2_preds = lr.predict_proba(X2_test_bag)"
   ]
  },
  {
   "cell_type": "code",
   "execution_count": 35,
   "metadata": {},
   "outputs": [
    {
     "data": {
      "text/plain": [
       "True"
      ]
     },
     "execution_count": 35,
     "metadata": {},
     "output_type": "execute_result"
    }
   ],
   "source": [
    "(y2_preds[0][0]>y2_preds[0][1]) & (y2_test[0]==0)"
   ]
  },
  {
   "cell_type": "code",
   "execution_count": 36,
   "metadata": {},
   "outputs": [],
   "source": [
    "true_pos = []\n",
    "true_neg = []\n",
    "false_pos = []\n",
    "false_neg = []\n",
    "\n",
    "i=0\n",
    "\n",
    "for prob in y2_preds:\n",
    "    if (prob[0]>prob[1]) & (y2_test[i] == 0):\n",
    "        true_neg.append(prob[0])\n",
    "    elif (prob[1]>prob[0]) & (y2_test[i] == 1):\n",
    "        true_pos.append(prob[1])\n",
    "    elif (prob[1]>prob[0]) & (y2_test[i] == 0):\n",
    "        false_pos.append(prob[0])\n",
    "    elif (prob[0]>prob[1]) & (y2_test[i] == 1):\n",
    "        false_neg.append(prob[1])\n",
    "    i+=1"
   ]
  },
  {
   "cell_type": "code",
   "execution_count": 37,
   "metadata": {},
   "outputs": [
    {
     "data": {
      "image/png": "[encoded data removed]",
      "text/plain": [
       "<Figure size 720x288 with 1 Axes>"
      ]
     },
     "metadata": {
      "needs_background": "light"
     },
     "output_type": "display_data"
    }
   ],
   "source": [
    "fig = plt.figure()\n",
    "ax1 = fig.add_subplot()\n",
    "ax1.scatter(y=true_neg, x=[0]*len(true_neg), s=10, c='b', label='True negative')\n",
    "ax1.scatter(y=true_pos, x=[1]*len(true_pos), s=10, c='r', label='True positive')\n",
    "ax1.scatter(y=false_pos, x=[1]*len(false_pos), s=10, c='g', label='False positive')\n",
    "ax1.scatter(y=false_neg, x=[0]*len(false_neg), s=10, c='y', label= 'False negative')\n",
    "ax1.axhline(y=0.5, color='k')\n",
    "plt.legend(loc='upper right');\n",
    "plt.show()"
   ]
  },
  {
   "cell_type": "code",
   "execution_count": 38,
   "metadata": {},
   "outputs": [],
   "source": [
    "y2_preds_binary = []\n",
    "i=0\n",
    "for prob in y2_preds:\n",
    "    if (prob[0]>prob[1]) & (y2_test[i] == 0):\n",
    "        y2_preds_binary.append(0)\n",
    "    elif (prob[1]>prob[0]) & (y2_test[i] == 1):\n",
    "        y2_preds_binary.append(1)\n",
    "    elif (prob[1]>prob[0]) & (y2_test[i] == 0):\n",
    "        y2_preds_binary.append(1)\n",
    "    elif (prob[0]>prob[1]) & (y2_test[i] == 1):\n",
    "        y2_preds_binary.append(0)\n",
    "    i+=1"
   ]
  },
  {
   "cell_type": "code",
   "execution_count": 39,
   "metadata": {},
   "outputs": [
    {
     "data": {
      "text/plain": [
       "array([0, 1, 1, ..., 0, 1, 1])"
      ]
     },
     "execution_count": 39,
     "metadata": {},
     "output_type": "execute_result"
    }
   ],
   "source": [
    "y2_test\n"
   ]
  },
  {
   "cell_type": "code",
   "execution_count": 40,
   "metadata": {},
   "outputs": [
    {
     "data": {
      "text/plain": [
       "array([[1064,  886],\n",
       "       [ 493, 2328]])"
      ]
     },
     "execution_count": 40,
     "metadata": {},
     "output_type": "execute_result"
    }
   ],
   "source": [
    "from sklearn.metrics import confusion_matrix\n",
    "\n",
    "confusion_matrix(y2_test, y2_preds_binary)"
   ]
  },
  {
   "cell_type": "code",
   "execution_count": 41,
   "metadata": {},
   "outputs": [
    {
     "data": {
      "image/png": "[encoded data removed]",
      "text/plain": [
       "<Figure size 720x288 with 2 Axes>"
      ]
     },
     "metadata": {
      "needs_background": "light"
     },
     "output_type": "display_data"
    }
   ],
   "source": [
    "from sklearn.metrics import ConfusionMatrixDisplay\n",
    "\n",
    "ConfusionMatrixDisplay.from_estimator(lr, X2_test_bag, y2_test)\n",
    "plt.savefig('figs/confusion_matrix.pdf', bbox_inches='tight')\n",
    "plt.show()"
   ]
  },
  {
   "cell_type": "code",
   "execution_count": 57,
   "metadata": {},
   "outputs": [
    {
     "data": {
      "text/html": [
       "<div>\n",
       "<style scoped>\n",
       "    .dataframe tbody tr th:only-of-type {\n",
       "        vertical-align: middle;\n",
       "    }\n",
       "\n",
       "    .dataframe tbody tr th {\n",
       "        vertical-align: top;\n",
       "    }\n",
       "\n",
       "    .dataframe thead th {\n",
       "        text-align: right;\n",
       "    }\n",
       "</style>\n",
       "<table border=\"1\" class=\"dataframe\">\n",
       "  <thead>\n",
       "    <tr style=\"text-align: right;\">\n",
       "      <th></th>\n",
       "      <th>00</th>\n",
       "      <th>000</th>\n",
       "      <th>02</th>\n",
       "      <th>024</th>\n",
       "      <th>025</th>\n",
       "      <th>033</th>\n",
       "      <th>039</th>\n",
       "      <th>05</th>\n",
       "      <th>062</th>\n",
       "      <th>07</th>\n",
       "      <th>...</th>\n",
       "      <th>zoning</th>\n",
       "      <th>zoo</th>\n",
       "      <th>zoom</th>\n",
       "      <th>zti</th>\n",
       "      <th>zuber</th>\n",
       "      <th>zucker</th>\n",
       "      <th>zuckerberg</th>\n",
       "      <th>zyphr</th>\n",
       "      <th>ángeles</th>\n",
       "      <th>único</th>\n",
       "    </tr>\n",
       "  </thead>\n",
       "  <tbody>\n",
       "    <tr>\n",
       "      <th>Coef</th>\n",
       "      <td>-0.101361</td>\n",
       "      <td>-1.174457</td>\n",
       "      <td>0.125673</td>\n",
       "      <td>-0.076739</td>\n",
       "      <td>0.038206</td>\n",
       "      <td>-0.116478</td>\n",
       "      <td>0.019222</td>\n",
       "      <td>-0.176447</td>\n",
       "      <td>0.070158</td>\n",
       "      <td>0.092122</td>\n",
       "      <td>...</td>\n",
       "      <td>0.055126</td>\n",
       "      <td>0.014194</td>\n",
       "      <td>0.117425</td>\n",
       "      <td>0.088562</td>\n",
       "      <td>0.044578</td>\n",
       "      <td>0.030195</td>\n",
       "      <td>0.49409</td>\n",
       "      <td>0.044924</td>\n",
       "      <td>0.046378</td>\n",
       "      <td>0.058185</td>\n",
       "    </tr>\n",
       "  </tbody>\n",
       "</table>\n",
       "<p>1 rows × 11393 columns</p>\n",
       "</div>"
      ],
      "text/plain": [
       "            00       000        02       024       025       033       039  \\\n",
       "Coef -0.101361 -1.174457  0.125673 -0.076739  0.038206 -0.116478  0.019222   \n",
       "\n",
       "            05       062        07  ...    zoning       zoo      zoom  \\\n",
       "Coef -0.176447  0.070158  0.092122  ...  0.055126  0.014194  0.117425   \n",
       "\n",
       "           zti     zuber    zucker  zuckerberg     zyphr   ángeles     único  \n",
       "Coef  0.088562  0.044578  0.030195     0.49409  0.044924  0.046378  0.058185  \n",
       "\n",
       "[1 rows x 11393 columns]"
      ]
     },
     "execution_count": 57,
     "metadata": {},
     "output_type": "execute_result"
    }
   ],
   "source": [
    "features = ['_'.join(s.split()) for s in tfidf.get_feature_names_out()]\n",
    "coefficients = lr.coef_\n",
    "coefs_df = pd.DataFrame.from_records(coefficients, index=['Coef'], columns=features)\n",
    "coefs_df"
   ]
  },
  {
   "cell_type": "code",
   "execution_count": 61,
   "metadata": {},
   "outputs": [
    {
     "data": {
      "text/html": [
       "<div>\n",
       "<style scoped>\n",
       "    .dataframe tbody tr th:only-of-type {\n",
       "        vertical-align: middle;\n",
       "    }\n",
       "\n",
       "    .dataframe tbody tr th {\n",
       "        vertical-align: top;\n",
       "    }\n",
       "\n",
       "    .dataframe thead th {\n",
       "        text-align: right;\n",
       "    }\n",
       "</style>\n",
       "<table border=\"1\" class=\"dataframe\">\n",
       "  <thead>\n",
       "    <tr style=\"text-align: right;\">\n",
       "      <th></th>\n",
       "      <th>index</th>\n",
       "      <th>Coef</th>\n",
       "    </tr>\n",
       "  </thead>\n",
       "  <tbody>\n",
       "    <tr>\n",
       "      <th>0</th>\n",
       "      <td>biden</td>\n",
       "      <td>3.531248</td>\n",
       "    </tr>\n",
       "    <tr>\n",
       "      <th>1</th>\n",
       "      <td>show</td>\n",
       "      <td>3.000789</td>\n",
       "    </tr>\n",
       "    <tr>\n",
       "      <th>2</th>\n",
       "      <td>vaccine</td>\n",
       "      <td>2.700587</td>\n",
       "    </tr>\n",
       "    <tr>\n",
       "      <th>3</th>\n",
       "      <td>covid</td>\n",
       "      <td>2.477815</td>\n",
       "    </tr>\n",
       "    <tr>\n",
       "      <th>4</th>\n",
       "      <td>photo</td>\n",
       "      <td>2.093376</td>\n",
       "    </tr>\n",
       "    <tr>\n",
       "      <th>5</th>\n",
       "      <td>pelosi</td>\n",
       "      <td>1.921549</td>\n",
       "    </tr>\n",
       "    <tr>\n",
       "      <th>6</th>\n",
       "      <td>coronavirus</td>\n",
       "      <td>1.743103</td>\n",
       "    </tr>\n",
       "    <tr>\n",
       "      <th>7</th>\n",
       "      <td>arrested</td>\n",
       "      <td>1.652141</td>\n",
       "    </tr>\n",
       "    <tr>\n",
       "      <th>8</th>\n",
       "      <td>say</td>\n",
       "      <td>1.625473</td>\n",
       "    </tr>\n",
       "    <tr>\n",
       "      <th>9</th>\n",
       "      <td>democrat</td>\n",
       "      <td>1.607758</td>\n",
       "    </tr>\n",
       "  </tbody>\n",
       "</table>\n",
       "</div>"
      ],
      "text/plain": [
       "         index      Coef\n",
       "0        biden  3.531248\n",
       "1         show  3.000789\n",
       "2      vaccine  2.700587\n",
       "3        covid  2.477815\n",
       "4        photo  2.093376\n",
       "5       pelosi  1.921549\n",
       "6  coronavirus  1.743103\n",
       "7     arrested  1.652141\n",
       "8          say  1.625473\n",
       "9     democrat  1.607758"
      ]
     },
     "execution_count": 61,
     "metadata": {},
     "output_type": "execute_result"
    }
   ],
   "source": [
    "coefs_df.T.nlargest(10, 'Coef').reset_index()"
   ]
  },
  {
   "cell_type": "code",
   "execution_count": 81,
   "metadata": {},
   "outputs": [
    {
     "data": {
      "text/html": [
       "<div>\n",
       "<style scoped>\n",
       "    .dataframe tbody tr th:only-of-type {\n",
       "        vertical-align: middle;\n",
       "    }\n",
       "\n",
       "    .dataframe tbody tr th {\n",
       "        vertical-align: top;\n",
       "    }\n",
       "\n",
       "    .dataframe thead th {\n",
       "        text-align: right;\n",
       "    }\n",
       "</style>\n",
       "<table border=\"1\" class=\"dataframe\">\n",
       "  <thead>\n",
       "    <tr style=\"text-align: right;\">\n",
       "      <th></th>\n",
       "      <th>Coef</th>\n",
       "    </tr>\n",
       "  </thead>\n",
       "  <tbody>\n",
       "    <tr>\n",
       "      <th>biden</th>\n",
       "      <td>3.531248</td>\n",
       "    </tr>\n",
       "    <tr>\n",
       "      <th>show</th>\n",
       "      <td>3.000789</td>\n",
       "    </tr>\n",
       "    <tr>\n",
       "      <th>vaccine</th>\n",
       "      <td>2.700587</td>\n",
       "    </tr>\n",
       "    <tr>\n",
       "      <th>covid</th>\n",
       "      <td>2.477815</td>\n",
       "    </tr>\n",
       "    <tr>\n",
       "      <th>photo</th>\n",
       "      <td>2.093376</td>\n",
       "    </tr>\n",
       "    <tr>\n",
       "      <th>pelosi</th>\n",
       "      <td>1.921549</td>\n",
       "    </tr>\n",
       "    <tr>\n",
       "      <th>coronavirus</th>\n",
       "      <td>1.743103</td>\n",
       "    </tr>\n",
       "    <tr>\n",
       "      <th>arrested</th>\n",
       "      <td>1.652141</td>\n",
       "    </tr>\n",
       "    <tr>\n",
       "      <th>say</th>\n",
       "      <td>1.625473</td>\n",
       "    </tr>\n",
       "    <tr>\n",
       "      <th>democrat</th>\n",
       "      <td>1.607758</td>\n",
       "    </tr>\n",
       "  </tbody>\n",
       "</table>\n",
       "</div>"
      ],
      "text/plain": [
       "                 Coef\n",
       "biden        3.531248\n",
       "show         3.000789\n",
       "vaccine      2.700587\n",
       "covid        2.477815\n",
       "photo        2.093376\n",
       "pelosi       1.921549\n",
       "coronavirus  1.743103\n",
       "arrested     1.652141\n",
       "say          1.625473\n",
       "democrat     1.607758"
      ]
     },
     "execution_count": 81,
     "metadata": {},
     "output_type": "execute_result"
    }
   ],
   "source": [
    "large"
   ]
  },
  {
   "cell_type": "code",
   "execution_count": 89,
   "metadata": {},
   "outputs": [
    {
     "data": {
      "text/html": [
       "<div>\n",
       "<style scoped>\n",
       "    .dataframe tbody tr th:only-of-type {\n",
       "        vertical-align: middle;\n",
       "    }\n",
       "\n",
       "    .dataframe tbody tr th {\n",
       "        vertical-align: top;\n",
       "    }\n",
       "\n",
       "    .dataframe thead th {\n",
       "        text-align: right;\n",
       "    }\n",
       "</style>\n",
       "<table border=\"1\" class=\"dataframe\">\n",
       "  <thead>\n",
       "    <tr style=\"text-align: right;\">\n",
       "      <th></th>\n",
       "      <th>Coef</th>\n",
       "    </tr>\n",
       "  </thead>\n",
       "  <tbody>\n",
       "    <tr>\n",
       "      <th>percent</th>\n",
       "      <td>-3.200751</td>\n",
       "    </tr>\n",
       "    <tr>\n",
       "      <th>since</th>\n",
       "      <td>-2.627194</td>\n",
       "    </tr>\n",
       "    <tr>\n",
       "      <th>state</th>\n",
       "      <td>-2.261100</td>\n",
       "    </tr>\n",
       "    <tr>\n",
       "      <th>half</th>\n",
       "      <td>-2.223612</td>\n",
       "    </tr>\n",
       "    <tr>\n",
       "      <th>growth</th>\n",
       "      <td>-1.899804</td>\n",
       "    </tr>\n",
       "    <tr>\n",
       "      <th>le</th>\n",
       "      <td>-1.876769</td>\n",
       "    </tr>\n",
       "    <tr>\n",
       "      <th>three</th>\n",
       "      <td>-1.845938</td>\n",
       "    </tr>\n",
       "    <tr>\n",
       "      <th>nation</th>\n",
       "      <td>-1.738071</td>\n",
       "    </tr>\n",
       "    <tr>\n",
       "      <th>million</th>\n",
       "      <td>-1.737806</td>\n",
       "    </tr>\n",
       "    <tr>\n",
       "      <th>six</th>\n",
       "      <td>-1.716481</td>\n",
       "    </tr>\n",
       "  </tbody>\n",
       "</table>\n",
       "</div>"
      ],
      "text/plain": [
       "             Coef\n",
       "percent -3.200751\n",
       "since   -2.627194\n",
       "state   -2.261100\n",
       "half    -2.223612\n",
       "growth  -1.899804\n",
       "le      -1.876769\n",
       "three   -1.845938\n",
       "nation  -1.738071\n",
       "million -1.737806\n",
       "six     -1.716481"
      ]
     },
     "execution_count": 89,
     "metadata": {},
     "output_type": "execute_result"
    }
   ],
   "source": [
    "small"
   ]
  },
  {
   "cell_type": "code",
   "execution_count": 97,
   "metadata": {},
   "outputs": [
    {
     "name": "stdout",
     "output_type": "stream",
     "text": [
      "\\begin{tabular}{lrlr}\n",
      "\\toprule\n",
      "    Largest &     Coef & Smallest &     Coef2 \\\\\n",
      "\\midrule\n",
      "      biden & 3.531248 &  percent & -3.200751 \\\\\n",
      "       show & 3.000789 &    since & -2.627194 \\\\\n",
      "    vaccine & 2.700587 &    state & -2.261100 \\\\\n",
      "      covid & 2.477815 &     half & -2.223612 \\\\\n",
      "      photo & 2.093376 &   growth & -1.899804 \\\\\n",
      "     pelosi & 1.921549 &       le & -1.876769 \\\\\n",
      "coronavirus & 1.743103 &    three & -1.845938 \\\\\n",
      "   arrested & 1.652141 &   nation & -1.738071 \\\\\n",
      "        say & 1.625473 &  million & -1.737806 \\\\\n",
      "   democrat & 1.607758 &      six & -1.716481 \\\\\n",
      "\\bottomrule\n",
      "\\end{tabular}\n",
      "\n"
     ]
    },
    {
     "name": "stderr",
     "output_type": "stream",
     "text": [
      "/var/folders/nb/81y7szl939gbyq_6237klkch0000gn/T/ipykernel_3002/1634825075.py:3: FutureWarning: In future versions `DataFrame.to_latex` is expected to utilise the base implementation of `Styler.to_latex` for formatting and rendering. The arguments signature may therefore change. It is recommended instead to use `DataFrame.style.to_latex` which also contains additional functionality.\n",
      "  print(pd.DataFrame({'Largest': large.index.values, 'Coef': large['Coef'].values, 'Smallest': small.index.values, 'Coef2': small['Coef'].values}, np.arange(10)).to_latex(index=False))\n"
     ]
    }
   ],
   "source": [
    "large = coefs_df.T.nlargest(10, 'Coef')\n",
    "small = coefs_df.T.nsmallest(10, 'Coef')\n",
    "print(pd.DataFrame({'Largest': large.index.values, 'Coef': large['Coef'].values, 'Smallest': small.index.values, 'Coef2': small['Coef'].values}, np.arange(10)).to_latex(index=False))"
   ]
  },
  {
   "cell_type": "code",
   "execution_count": 79,
   "metadata": {},
   "outputs": [
    {
     "data": {
      "text/html": [
       "<div>\n",
       "<style scoped>\n",
       "    .dataframe tbody tr th:only-of-type {\n",
       "        vertical-align: middle;\n",
       "    }\n",
       "\n",
       "    .dataframe tbody tr th {\n",
       "        vertical-align: top;\n",
       "    }\n",
       "\n",
       "    .dataframe thead th {\n",
       "        text-align: right;\n",
       "    }\n",
       "</style>\n",
       "<table border=\"1\" class=\"dataframe\">\n",
       "  <thead>\n",
       "    <tr style=\"text-align: right;\">\n",
       "      <th></th>\n",
       "      <th>Coef</th>\n",
       "    </tr>\n",
       "  </thead>\n",
       "  <tbody>\n",
       "    <tr>\n",
       "      <th>percent</th>\n",
       "      <td>-3.200751</td>\n",
       "    </tr>\n",
       "    <tr>\n",
       "      <th>since</th>\n",
       "      <td>-2.627194</td>\n",
       "    </tr>\n",
       "    <tr>\n",
       "      <th>state</th>\n",
       "      <td>-2.261100</td>\n",
       "    </tr>\n",
       "    <tr>\n",
       "      <th>half</th>\n",
       "      <td>-2.223612</td>\n",
       "    </tr>\n",
       "    <tr>\n",
       "      <th>growth</th>\n",
       "      <td>-1.899804</td>\n",
       "    </tr>\n",
       "    <tr>\n",
       "      <th>le</th>\n",
       "      <td>-1.876769</td>\n",
       "    </tr>\n",
       "    <tr>\n",
       "      <th>three</th>\n",
       "      <td>-1.845938</td>\n",
       "    </tr>\n",
       "    <tr>\n",
       "      <th>nation</th>\n",
       "      <td>-1.738071</td>\n",
       "    </tr>\n",
       "    <tr>\n",
       "      <th>million</th>\n",
       "      <td>-1.737806</td>\n",
       "    </tr>\n",
       "    <tr>\n",
       "      <th>six</th>\n",
       "      <td>-1.716481</td>\n",
       "    </tr>\n",
       "  </tbody>\n",
       "</table>\n",
       "</div>"
      ],
      "text/plain": [
       "             Coef\n",
       "percent -3.200751\n",
       "since   -2.627194\n",
       "state   -2.261100\n",
       "half    -2.223612\n",
       "growth  -1.899804\n",
       "le      -1.876769\n",
       "three   -1.845938\n",
       "nation  -1.738071\n",
       "million -1.737806\n",
       "six     -1.716481"
      ]
     },
     "execution_count": 79,
     "metadata": {},
     "output_type": "execute_result"
    }
   ],
   "source": [
    "small"
   ]
  },
  {
   "cell_type": "code",
   "execution_count": 65,
   "metadata": {},
   "outputs": [],
   "source": [
    "X_pdn = data_pdn_for_clean['Article'].apply(prepare).values"
   ]
  },
  {
   "cell_type": "code",
   "execution_count": 66,
   "metadata": {},
   "outputs": [],
   "source": [
    "pdn_test_bag = tfidf.transform(X_pdn)\n",
    "pdn_preds = lr.predict_proba(pdn_test_bag)"
   ]
  },
  {
   "cell_type": "code",
   "execution_count": 67,
   "metadata": {},
   "outputs": [
    {
     "data": {
      "text/plain": [
       "array([[0.72443106, 0.27556894],\n",
       "       [0.62481982, 0.37518018],\n",
       "       [0.42955041, 0.57044959],\n",
       "       [0.5625874 , 0.4374126 ],\n",
       "       [0.95177175, 0.04822825],\n",
       "       [0.55400818, 0.44599182],\n",
       "       [0.31961038, 0.68038962],\n",
       "       [0.17329042, 0.82670958],\n",
       "       [0.61174292, 0.38825708],\n",
       "       [0.45537368, 0.54462632],\n",
       "       [0.34790613, 0.65209387],\n",
       "       [0.60380942, 0.39619058],\n",
       "       [0.54496048, 0.45503952],\n",
       "       [0.31325637, 0.68674363],\n",
       "       [0.60729036, 0.39270964],\n",
       "       [0.32449666, 0.67550334],\n",
       "       [0.38799892, 0.61200108],\n",
       "       [0.80362111, 0.19637889],\n",
       "       [0.60947526, 0.39052474],\n",
       "       [0.89065357, 0.10934643],\n",
       "       [0.58045115, 0.41954885],\n",
       "       [0.59248118, 0.40751882],\n",
       "       [0.45357635, 0.54642365],\n",
       "       [0.39182509, 0.60817491],\n",
       "       [0.48460244, 0.51539756],\n",
       "       [0.48142965, 0.51857035],\n",
       "       [0.47767251, 0.52232749],\n",
       "       [0.61821761, 0.38178239],\n",
       "       [0.93442945, 0.06557055],\n",
       "       [0.25410976, 0.74589024],\n",
       "       [0.41113098, 0.58886902],\n",
       "       [0.26710204, 0.73289796],\n",
       "       [0.44834718, 0.55165282],\n",
       "       [0.68664573, 0.31335427],\n",
       "       [0.34968256, 0.65031744],\n",
       "       [0.70033061, 0.29966939],\n",
       "       [0.63827065, 0.36172935],\n",
       "       [0.28347968, 0.71652032],\n",
       "       [0.61945154, 0.38054846],\n",
       "       [0.41618059, 0.58381941],\n",
       "       [0.84519613, 0.15480387],\n",
       "       [0.3505313 , 0.6494687 ],\n",
       "       [0.53073672, 0.46926328],\n",
       "       [0.89205894, 0.10794106],\n",
       "       [0.61969293, 0.38030707],\n",
       "       [0.47858427, 0.52141573],\n",
       "       [0.51846834, 0.48153166],\n",
       "       [0.40300542, 0.59699458],\n",
       "       [0.40424744, 0.59575256],\n",
       "       [0.35767225, 0.64232775],\n",
       "       [0.30660726, 0.69339274],\n",
       "       [0.27589949, 0.72410051],\n",
       "       [0.31161112, 0.68838888],\n",
       "       [0.75232051, 0.24767949],\n",
       "       [0.54895246, 0.45104754],\n",
       "       [0.77707875, 0.22292125],\n",
       "       [0.67633828, 0.32366172],\n",
       "       [0.4870838 , 0.5129162 ],\n",
       "       [0.35885211, 0.64114789],\n",
       "       [0.68271701, 0.31728299],\n",
       "       [0.48969869, 0.51030131],\n",
       "       [0.76953396, 0.23046604],\n",
       "       [0.62475648, 0.37524352],\n",
       "       [0.31391938, 0.68608062],\n",
       "       [0.43005941, 0.56994059],\n",
       "       [0.76402892, 0.23597108],\n",
       "       [0.63320491, 0.36679509],\n",
       "       [0.40351554, 0.59648446],\n",
       "       [0.4497041 , 0.5502959 ],\n",
       "       [0.52657038, 0.47342962],\n",
       "       [0.39754132, 0.60245868],\n",
       "       [0.65276278, 0.34723722],\n",
       "       [0.66377355, 0.33622645],\n",
       "       [0.523078  , 0.476922  ],\n",
       "       [0.43303927, 0.56696073],\n",
       "       [0.46413796, 0.53586204],\n",
       "       [0.55473084, 0.44526916],\n",
       "       [0.54482273, 0.45517727],\n",
       "       [0.57903223, 0.42096777],\n",
       "       [0.14177761, 0.85822239],\n",
       "       [0.78611012, 0.21388988],\n",
       "       [0.5221083 , 0.4778917 ],\n",
       "       [0.55021378, 0.44978622],\n",
       "       [0.7004034 , 0.2995966 ],\n",
       "       [0.67421177, 0.32578823],\n",
       "       [0.28924624, 0.71075376],\n",
       "       [0.46391503, 0.53608497],\n",
       "       [0.5387684 , 0.4612316 ],\n",
       "       [0.87910338, 0.12089662],\n",
       "       [0.7330777 , 0.2669223 ],\n",
       "       [0.4607791 , 0.5392209 ],\n",
       "       [0.29140632, 0.70859368],\n",
       "       [0.51667657, 0.48332343],\n",
       "       [0.68642894, 0.31357106],\n",
       "       [0.84840557, 0.15159443],\n",
       "       [0.65107941, 0.34892059],\n",
       "       [0.8157515 , 0.1842485 ],\n",
       "       [0.58013947, 0.41986053],\n",
       "       [0.56977292, 0.43022708],\n",
       "       [0.50271678, 0.49728322],\n",
       "       [0.51789987, 0.48210013],\n",
       "       [0.40041753, 0.59958247],\n",
       "       [0.69750455, 0.30249545],\n",
       "       [0.39647455, 0.60352545],\n",
       "       [0.38386742, 0.61613258],\n",
       "       [0.74176609, 0.25823391],\n",
       "       [0.37492   , 0.62508   ],\n",
       "       [0.3562907 , 0.6437093 ],\n",
       "       [0.42616185, 0.57383815],\n",
       "       [0.66649861, 0.33350139],\n",
       "       [0.52643869, 0.47356131],\n",
       "       [0.73536691, 0.26463309],\n",
       "       [0.26219841, 0.73780159],\n",
       "       [0.37339325, 0.62660675],\n",
       "       [0.50019305, 0.49980695],\n",
       "       [0.41331495, 0.58668505],\n",
       "       [0.46936409, 0.53063591],\n",
       "       [0.47857204, 0.52142796],\n",
       "       [0.27621336, 0.72378664],\n",
       "       [0.525939  , 0.474061  ],\n",
       "       [0.20502754, 0.79497246],\n",
       "       [0.9026895 , 0.0973105 ],\n",
       "       [0.8183804 , 0.1816196 ],\n",
       "       [0.54892436, 0.45107564],\n",
       "       [0.37568577, 0.62431423],\n",
       "       [0.50575724, 0.49424276],\n",
       "       [0.70900744, 0.29099256],\n",
       "       [0.54203803, 0.45796197],\n",
       "       [0.48792926, 0.51207074],\n",
       "       [0.47037532, 0.52962468],\n",
       "       [0.2287321 , 0.7712679 ],\n",
       "       [0.49493728, 0.50506272],\n",
       "       [0.60763661, 0.39236339],\n",
       "       [0.47584619, 0.52415381],\n",
       "       [0.68789197, 0.31210803],\n",
       "       [0.46972429, 0.53027571],\n",
       "       [0.59558898, 0.40441102],\n",
       "       [0.49150024, 0.50849976],\n",
       "       [0.55061815, 0.44938185],\n",
       "       [0.44289277, 0.55710723],\n",
       "       [0.43525483, 0.56474517],\n",
       "       [0.28861396, 0.71138604],\n",
       "       [0.29198889, 0.70801111],\n",
       "       [0.39056755, 0.60943245],\n",
       "       [0.75671762, 0.24328238],\n",
       "       [0.32171118, 0.67828882],\n",
       "       [0.57563906, 0.42436094],\n",
       "       [0.46707641, 0.53292359],\n",
       "       [0.34704555, 0.65295445],\n",
       "       [0.37310799, 0.62689201],\n",
       "       [0.59701011, 0.40298989],\n",
       "       [0.7400043 , 0.2599957 ],\n",
       "       [0.51133044, 0.48866956],\n",
       "       [0.36515253, 0.63484747]])"
      ]
     },
     "execution_count": 67,
     "metadata": {},
     "output_type": "execute_result"
    }
   ],
   "source": [
    "pdn_preds"
   ]
  },
  {
   "cell_type": "code",
   "execution_count": 68,
   "metadata": {},
   "outputs": [],
   "source": [
    "pdn_list = []\n",
    "\n",
    "i=0\n",
    "for prob in pdn_preds:\n",
    "    if (prob[0]>prob[1]):\n",
    "        pdn_list.append('True')\n",
    "    elif (prob[1]>prob[0]):\n",
    "        pdn_list.append('Fake')\n",
    "    i=+1"
   ]
  },
  {
   "cell_type": "code",
   "execution_count": 69,
   "metadata": {},
   "outputs": [],
   "source": [
    "fake_count_pdn = pdn_list.count('Fake')\n",
    "true_count_pdn = pdn_list.count('True') "
   ]
  },
  {
   "cell_type": "code",
   "execution_count": 70,
   "metadata": {},
   "outputs": [
    {
     "name": "stdout",
     "output_type": "stream",
     "text": [
      "Count of \"fake news\" at PeaceData.net: 74 \n",
      "Count of \"true news\" at PeaceData.net: 80\n"
     ]
    }
   ],
   "source": [
    "print('Count of \"fake news\" at PeaceData.net:', fake_count_pdn, '\\nCount of \"true news\" at PeaceData.net:', true_count_pdn)"
   ]
  },
  {
   "cell_type": "markdown",
   "metadata": {},
   "source": [
    "**To do** \n",
    "* Which articles are \"spot on\" in prediction and \"completely off the mark\"? For both Peacedata/politifact.com\n",
    "    - Just those two, I think... No need to make it more complicated"
   ]
  },
  {
   "cell_type": "markdown",
   "metadata": {},
   "source": [
    "### Notes\n",
    "- Check 'C' parameter in log-reg (1/$\\lambda$) [on the whole dataset]\n",
    "    - GridSearchCV from module 14\n",
    "    - Just use the same lambdas list values from module\n",
    "- Make 'confusion' matrix w/ predicted probability, see att log-reg & drawing\n",
    "    - clf = LogisticRegression(random_state=0).fit(X, y)\n",
    "        - clf.predict_proba(X[:2, :])\n",
    "- Pipeline -> training sample kfold. Validation curves"
   ]
  },
  {
   "cell_type": "markdown",
   "metadata": {},
   "source": []
  }
 ],
 "metadata": {
  "kernelspec": {
   "display_name": "Python 3.9.12 ('base')",
   "language": "python",
   "name": "python3"
  },
  "language_info": {
   "codemirror_mode": {
    "name": "ipython",
    "version": 3
   },
   "file_extension": ".py",
   "mimetype": "text/x-python",
   "name": "python",
   "nbconvert_exporter": "python",
   "pygments_lexer": "ipython3",
   "version": "3.9.12"
  },
  "orig_nbformat": 4,
  "vscode": {
   "interpreter": {
    "hash": "5559e38aaa1a46293ac94fc6af3e6c13e1ce8b596ee75d4ce8712132156e5245"
   }
  }
 },
 "nbformat": 4,
 "nbformat_minor": 2
}
