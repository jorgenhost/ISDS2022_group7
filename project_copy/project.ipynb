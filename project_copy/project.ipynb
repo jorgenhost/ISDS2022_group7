{
 "cells": [
  {
   "cell_type": "markdown",
   "metadata": {},
   "source": [
    "# Project"
   ]
  },
  {
   "cell_type": "markdown",
   "metadata": {},
   "source": [
    "**Authors:** \n",
    "* Jørgen Baun Høst, pjz633@alumni.ku.dk\n",
    "* Marius Heltberg Lassen, pgb206@alumni.ku.dk"
   ]
  },
  {
   "cell_type": "markdown",
   "metadata": {},
   "source": [
    "This notebook contains the data extraction, data structuring and manipulation, calculations and figures for our project *Liar, liar, pants on fire? Fake news detection with supervised machine learning*."
   ]
  },
  {
   "cell_type": "markdown",
   "metadata": {},
   "source": [
    "Dependencies:"
   ]
  },
  {
   "cell_type": "code",
   "execution_count": 1,
   "metadata": {},
   "outputs": [],
   "source": [
    "# %pip install"
   ]
  },
  {
   "cell_type": "markdown",
   "metadata": {},
   "source": [
    "Imports and set magics:"
   ]
  },
  {
   "cell_type": "code",
   "execution_count": 46,
   "metadata": {},
   "outputs": [],
   "source": [
    "# Standard imports \n",
    "import numpy as np\n",
    "import pandas as pd\n",
    "\n",
    "# OS and time packages \n",
    "import os\n",
    "import time\n",
    "import tqdm\n",
    "import datetime\n",
    "\n",
    "# HTML and text processing \n",
    "import nltk\n",
    "import requests\n",
    "from bs4 import BeautifulSoup\n",
    "import json\n",
    "import re\n",
    "\n",
    "# Scikit Learn packages, modules and functions \n",
    "from sklearn.feature_extraction.text import TfidfVectorizer\n",
    "from sklearn.model_selection import train_test_split\n",
    "from sklearn.model_selection import KFold\n",
    "from sklearn.model_selection import GridSearchCV\n",
    "from sklearn.model_selection import learning_curve\n",
    "from sklearn.model_selection import validation_curve\n",
    "from sklearn.linear_model import LogisticRegression\n",
    "from sklearn.pipeline import make_pipeline\n",
    "from sklearn.metrics import accuracy_score as acc \n",
    "from sklearn.metrics import confusion_matrix\n",
    "from sklearn.metrics import ConfusionMatrixDisplay\n",
    "\n",
    "# Plotting \n",
    "import matplotlib.pyplot as plt \n",
    "import seaborn as sns\n",
    "\n",
    "plt.style.use('seaborn-whitegrid')\n",
    "%matplotlib inline\n",
    "\n",
    "plt.rc('font', size=14)             # controls default text sizes\n",
    "plt.rc('axes', titlesize=18)        # fontsize of the axes title\n",
    "plt.rc('axes', labelsize=18)        # fontsize of the x and y labels\n",
    "plt.rc('xtick', labelsize=14)       # fontsize of the tick labels\n",
    "plt.rc('ytick', labelsize=14)       # fontsize of the tick labels\n",
    "plt.rc('legend', fontsize=14)       # legend fontsize\n",
    "plt.rc('figure', titlesize=20)      # fontsize of the figure title\n",
    "\n",
    "plt.rcParams['figure.figsize'] = 10, 4 # set default size of plots\n",
    "\n",
    "# Filter warnings \n",
    "pd.options.mode.chained_assignment = None\n",
    "from warnings import simplefilter\n",
    "from sklearn.exceptions import ConvergenceWarning\n",
    "simplefilter(\"ignore\", category=ConvergenceWarning)"
   ]
  },
  {
   "cell_type": "markdown",
   "metadata": {},
   "source": [
    "## Web scraping "
   ]
  },
  {
   "cell_type": "markdown",
   "metadata": {},
   "source": [
    "### Define functions:"
   ]
  },
  {
   "cell_type": "markdown",
   "metadata": {},
   "source": [
    "General functions:"
   ]
  },
  {
   "cell_type": "code",
   "execution_count": 3,
   "metadata": {},
   "outputs": [],
   "source": [
    "def log(response: requests.Response):\n",
    "    \"\"\"\n",
    "    Creates or appends a log-file with information from a `requests.get()`-call.\n",
    "    \n",
    "    The information gathered is:\n",
    "    - - - - - - - -\n",
    "        timestamp   :   Current local time.\n",
    "        status_code :   Status code from requests call.\n",
    "        length      :   Length of the HTML-string.\n",
    "        output_path :   Current working directory.\n",
    "        url         :   The URL of the response.\n",
    "    \"\"\"\n",
    "\n",
    "    # Open or create the csv file\n",
    "    if os.path.isfile('log'):\n",
    "        log = open('log','a')\n",
    "    else: \n",
    "        log = open('log','w')\n",
    "        header = ['timestamp', 'status_code', 'length', 'output_file', 'url'] # Header names\n",
    "        log.write(';'.join(header) + \"\\n\")\n",
    "        \n",
    "    # Gather log information\n",
    "    status_code = response.status_code # Status code from the request result\n",
    "    timestamp = time.strftime('%Y-%m-%d %H:%M:%S', time.localtime(time.time())) # Local time\n",
    "    length = len(response.text) # Length of the HTML-string\n",
    "    output_path = os.getcwd() # Output path\n",
    "    url = response.url # URL-string\n",
    "    \n",
    "    # Open the log file and append the gathered log information\n",
    "    with open('log','a') as log:\n",
    "        log.write(f'{timestamp};{status_code};{length};{output_path};{url}' + \"\\n\") \n",
    "\n",
    "\n",
    "def get_soup(url: str, header: dict) -> BeautifulSoup:\n",
    "    \"\"\"\n",
    "    Constructs a HTML-string from a request of the given URL. \n",
    "    Requests are logged, see `log()`. \n",
    "\n",
    "    Input:\n",
    "    - - - - - - - - \n",
    "    url (str)     :    URL of the website to receive the HTML-string from. \\n\n",
    "    header (dict) :    Dictionary to send in the query string for the request.\n",
    "\n",
    "    Returns:\n",
    "    - - - - - - - - \n",
    "    soup (BeautifulSoup) :  HTML-string in the class of BeutifulSoup with 'lxml' parser.\n",
    "    \"\"\"\n",
    "\n",
    "    response = requests.get(url, headers=header) # Request\n",
    "    log(response) # Log \n",
    "    soup = BeautifulSoup(response.content, 'lxml') # Convert to response to HTML\n",
    "\n",
    "    return soup\n",
    "\n",
    "\n",
    "def extract_articles_pf_pages(soup: BeautifulSoup) -> list:\n",
    "    \"\"\"\n",
    "    Extracts articles from HTML-string from the PolitiFact website.\n",
    "\n",
    "    Input:\n",
    "    - - - - - - - -\n",
    "    soup (BeautifulSoup) : HTML-string from the PolitiFact website.\n",
    "\n",
    "    Returns:\n",
    "    - - - - - - - - \n",
    "    list_of_articles (list) : A list of all articles in the given soup. \\n\n",
    "                              Each element is an article of data structure as BeautifulSoup.\n",
    "    \"\"\"\n",
    "    \n",
    "    articles = soup.find(class_='o-listicle__list') # Find section with articles\n",
    "    list_of_articles = articles.find_all('li') # Find all articles as a list\n",
    "\n",
    "    return list_of_articles"
   ]
  },
  {
   "cell_type": "markdown",
   "metadata": {},
   "source": [
    "PolitiFact functions:"
   ]
  },
  {
   "cell_type": "code",
   "execution_count": 4,
   "metadata": {},
   "outputs": [],
   "source": [
    "def create_url_pf_pages(page: int) -> str:\n",
    "    \"\"\"\n",
    "    Creates a PolitiFact URL with the given pagenumber.\n",
    "\n",
    "    Input:\n",
    "    - - - - - - - -\n",
    "    page (int) :    Pagenumber for the PolitiFact website.\n",
    "\n",
    "    Returns:\n",
    "    - - - - - - - -\n",
    "    url (str)  :    URL of the PolitiFact website for given page. \n",
    "    \"\"\"\n",
    "\n",
    "    url = f'https://www.politifact.com/factchecks/list/?page={page}' # Construct url with f-string\n",
    "\n",
    "    return url\n",
    "\n",
    "\n",
    "def extract_info_pf_pages(article: BeautifulSoup) -> list:\n",
    "    \"\"\"\n",
    "    Extracts all relevant information from one article on the article overview pages on the PolitiFact website.\n",
    "\n",
    "    Input:\n",
    "    - - - - - - - - \n",
    "    article (BeautifulSoup) :  Article to extract data from, see `extract_articles()`.\n",
    "\n",
    "    Returns:\n",
    "    - - - - - - - - \n",
    "    [name_txt, name_href, description_txt, quote_txt, quote_href, meter, footer] (list) \\n \n",
    "    The name and URL of the quoted person, the description of the quote, the quote itself \\n\n",
    "    and link hereof, the truthfulness index, and information on the article in string-format.\n",
    "    \"\"\"\n",
    "\n",
    "    # Statement name \n",
    "    name = article.find(class_='m-statement__name')\n",
    "    name_txt = name.text # name \n",
    "    name_href = name['href'] # href\n",
    "\n",
    "    # Statement description\n",
    "    description_txt = article.find(class_='m-statement__desc').text\n",
    "\n",
    "    # Statement quote\n",
    "    quote = article.find(class_='m-statement__quote').a\n",
    "    quote_txt = quote.text # name \n",
    "    quote_href = quote['href'] # href\n",
    "\n",
    "    # Statement meter\n",
    "    meter = article.find(class_='m-statement__meter').div.img['alt']\n",
    "\n",
    "    # Statement footer\n",
    "    footer = article.find(class_='m-statement__footer').text\n",
    "\n",
    "    return [name_txt, name_href, description_txt, quote_txt, quote_href, meter, footer]\n",
    "\n",
    "\n",
    "def data_pf_pages(startpage: int, endpage: int, header: dict, sleep: float) -> list:\n",
    "    \"\"\"\n",
    "    Compound function that scrapes an interval of pages from PolitiFact, extracts information for analysis, \\n\n",
    "    and logs requests in `log`-file. \n",
    "\n",
    "    Input:\n",
    "    - - - - - - - -\n",
    "    startpage (int)  :  The first page to scrape. \\n\n",
    "    endpage   (int)  :  The last page to scrape. \\n\n",
    "    header    (dict) :  Dictionary to send in the query string for the request. \\n\n",
    "    sleep     (float):  Seconds to sleep between each request.\n",
    "\n",
    "    Returns:\n",
    "    - - - - - - - -\n",
    "    list_of_output (list) : A list of lists, where each element list is the output of `extract_info()`.\n",
    "    errors         (list) : An error list containing the URLs for the pages where the error occured.\n",
    "    \"\"\"\n",
    "\n",
    "    list_of_output = [] # initialize empty list for dataframes\n",
    "    errors = [] \n",
    "\n",
    "    # Loop through pages and track progress with tqdm\n",
    "    for page in tqdm.tqdm(range(startpage, endpage+1)):\n",
    "        url = create_url_pf_pages(page) # create url\n",
    "\n",
    "        try: # circumvent problem with empty pages\n",
    "            soup = get_soup(url, header) # construct html\n",
    "            articles = extract_articles_pf_pages(soup) # extract articles \n",
    "\n",
    "            output = [] # initialize empty for articles \n",
    "\n",
    "            # Loop through articles \n",
    "            for article in articles:\n",
    "                info = extract_info_pf_pages(article) # extract relevant information\n",
    "                output.append(info) # append output\n",
    "            time.sleep(sleep)\n",
    "\n",
    "        except: # skip page\n",
    "            print(f'Error encountered on page {page}')\n",
    "            errors.append(url)\n",
    "            time.sleep(sleep)\n",
    "            continue\n",
    "\n",
    "        list_of_output.append(output)\n",
    "\n",
    "    return list_of_output, errors\n",
    "\n",
    "\n",
    "def extract_info_pf_articles(article: BeautifulSoup) -> list:\n",
    "    \"\"\"\n",
    "    A function that scrapes each individual article for relevant data. \\n\n",
    "\n",
    "    Input:\n",
    "    - - - - - - - -\n",
    "    article (BeautifulSoup) : BeatifulSoup element of article. \\n\n",
    "    \n",
    "    Returns:\n",
    "    - - - - - - - -\n",
    "    [tags, sub_header, text_body] : A list of of all relevant data from each politifact article.\n",
    "\n",
    "    \"\"\"\n",
    "\n",
    "    # Extract tags\n",
    "    tag_soup = article.find(class_='m-list m-list--horizontal')\\\n",
    "        .find_all('a') #Find all tags\n",
    "    \n",
    "    list_of_tags = [] #Create empty list for tags \n",
    "    \n",
    "    for tag in tag_soup:\n",
    "        list_of_tags.append(tag['title']) #Append each tag to list of tags\n",
    "\n",
    "    # Extract sub-header\n",
    "    sub_header = article.find(class_='c-title c-title--subline').text #conclusion by journalist\n",
    "\n",
    "    # Extract entire text body\n",
    "    text_block = article.find(class_='m-textblock') #Find article's body text\n",
    "    text_body = []\n",
    "\n",
    "    for paragraph in text_block.find_all('p'): #Find all paragraphs in article\n",
    "        text_body.append(paragraph.text) #append them to list\n",
    "\n",
    "    text_body=' '.join(text_body) #Convert to a single string\n",
    "\n",
    "    return [list_of_tags, sub_header, text_body]\n",
    "\n",
    "\n",
    "def data_pf_articles(list_of_href: list, header: dict, sleep: float) -> list:\n",
    "    \"\"\"\n",
    "    A compound function that scrapes relevant data from each article on politifact.com and stores this in a DataFrame. \\n\n",
    "\n",
    "    Input:\n",
    "    - - - - - - - -\n",
    "    list_of_href (list) :  A list of PolitiFact hyperlinks for each article to scrape. \\n\n",
    "    header       (dict) :  Dictionary to send in the query string for the request. \\n\n",
    "    sleep        (float):  Seconds to sleep between each request.\n",
    "    \n",
    "    Returns:\n",
    "    - - - - - - - -\n",
    "    list_of_output (list) : A list of lists, where each element list is the output of `get_article_data()` and the article href.\n",
    "    errors         (list) : An error list containing the URLs for the pages where the error occured.\n",
    "    \"\"\"\n",
    "\n",
    "    list_of_output = [] # Initialize empty output list \n",
    "    errors = []\n",
    "\n",
    "    # Loop through list of URls\n",
    "    for article_url in tqdm.tqdm(list_of_href): \n",
    "        full_url = 'https://www.politifact.com' + article_url\n",
    "        try:   \n",
    "            article = get_soup(full_url, header=header) #Get BeautifulSoup element for each article\n",
    "            article_data = extract_info_pf_articles(article) #Extract data from article\n",
    "            article_data.append(article_url) #Quote_href\n",
    "            list_of_output.append([article_data]) #Append data to output list\n",
    "            time.sleep(sleep)\n",
    "\n",
    "        except: \n",
    "            print(f'Error encountered at {full_url}')\n",
    "            errors.append(article_url)\n",
    "            time.sleep(sleep)\n",
    "            continue\n",
    "\n",
    "    return list_of_output, errors"
   ]
  },
  {
   "cell_type": "markdown",
   "metadata": {},
   "source": [
    "PeaceNet functions:"
   ]
  },
  {
   "cell_type": "code",
   "execution_count": 5,
   "metadata": {},
   "outputs": [],
   "source": [
    "def extract_urls_pd_pages(list_of_frontpage_url: str, header: dict, sleep: float) -> list:\n",
    "    set_of_article_url = set()\n",
    "    errors = set()\n",
    "    for frontpage_url in tqdm.tqdm(list_of_frontpage_url):\n",
    "        soup = get_soup(frontpage_url, header)\n",
    "        try:\n",
    "            section = soup.find(class_='jeg_main')\n",
    "            titles = section.findChildren(class_='jeg_thumb')\n",
    "            for title in titles:\n",
    "                article_url = title.a['href']\n",
    "                set_of_article_url.add(article_url) #Same approach as above\n",
    "                time.sleep(sleep)\n",
    "        except:\n",
    "            print(f'Error encountered at {frontpage_url}')\n",
    "            errors.add(frontpage_url)\n",
    "            time.sleep(sleep)\n",
    "            continue\n",
    "    return list(set_of_article_url), list(errors)\n",
    "\n",
    "\n",
    "def extract_info_pd_articles(article: BeautifulSoup) -> list:\n",
    "    \n",
    "    title=article.find(class_='jeg_post_title').text #Extract title\n",
    "    \n",
    "    paragraphs = article.find(class_='entry-content no-share')\\\n",
    "        .find_all('p') #Extract all paragraphs\n",
    "    text_body = ' '.join([par.text for par in paragraphs])\n",
    "\n",
    "    tag_soup = article.find(class_='jeg_post_tags')\\\n",
    "        .find_all('a') #Find all tags in sup\n",
    "    tags = [tag.text for tag in tag_soup]\n",
    "    \n",
    "    return [title, paragraphs, tags] #Return as lists\n",
    "\n",
    "def data_pd_fct(list_of_article_url: list, header: dict, sleep: float) -> pd.DataFrame:\n",
    "\n",
    "    list_of_output = [] # Initialize empty list for dataframes\n",
    "    errors = []\n",
    "\n",
    "    # Loop through list of URls\n",
    "    for article_url in tqdm.tqdm(list_of_article_url): \n",
    "        article_soup = get_soup(article_url, header=header).append(article_url) #Get BeautifulSoup element for each article\n",
    "\n",
    "        try:    \n",
    "            output = extract_info_pd_articles(article_soup) #Extract data from article\n",
    "            list_of_output.append(output)\n",
    "            time.sleep(sleep) #Sleep for 0.5 seconds\n",
    "        \n",
    "        except:\n",
    "            print(f'Error encountered at {article_url}')\n",
    "            errors.append(article_url)\n",
    "            time.sleep(sleep)\n",
    "            continue\n",
    "\n",
    "    return list_of_output, errors"
   ]
  },
  {
   "cell_type": "markdown",
   "metadata": {},
   "source": [
    "### Scraping:\n",
    "Make header: State names and (non-commerical/academic) intentions for data scraping"
   ]
  },
  {
   "cell_type": "code",
   "execution_count": 6,
   "metadata": {},
   "outputs": [],
   "source": [
    "header = {'name_1'   : 'Marius Heltberg Lassen',    'email_1' : 'pgb206@alumni.ku.dk', \n",
    "          'name_2'   : 'Jørgen Baun Høst',          'email_2' : 'pjz633@alumni.ku.dk',\n",
    "          'intention': 'Train supervised ML model for academic purposes'}"
   ]
  },
  {
   "cell_type": "markdown",
   "metadata": {},
   "source": [
    "#### Scrape PolitiFact:"
   ]
  },
  {
   "cell_type": "code",
   "execution_count": 11,
   "metadata": {},
   "outputs": [],
   "source": [
    "# Load file if it exists\n",
    "if os.path.exists('data/data_pf.pq'):\n",
    "    data_pf = pd.read_parquet('data/data_pf.pq')\n",
    "\n",
    "# Or download data\n",
    "else:\n",
    "    # Scrape pages\n",
    "    pages, errors_pages = data_pf_pages(1, 728, header, 0.1)\n",
    "    pages_dfs_list = [pd.DataFrame(page, columns=['name_txt', 'name_href', 'description_txt', 'quote_txt', 'quote_href', 'meter', 'footer']) for page in pages]\n",
    "    pages_df = pd.concat(pages_dfs_list)\n",
    "\n",
    "    # Scrape articles\n",
    "    articles, errors_articles = data_pf_articles(pages_df['quote_href'], header, 0.1)\n",
    "    articles_dfs_list = [pd.DataFrame(article, columns=['list_of_tags', 'sub_header', 'text_body', 'quote_href']) for article in articles]\n",
    "    articles_df = pd.concat(articles_dfs_list)\n",
    "\n",
    "    # Merge data and save\n",
    "    data_pf = pd.merge(pages_df, articles_df, how='left', on='quote_href')\n",
    "    data_pf = data_pf[~data_pf['quote_href'].isin(errors_articles)]\n",
    "    if not os.path.exists(os.getcwd() + '/data/'):\n",
    "        os.makedirs(os.getcwd() + '/data/')\n",
    "    data_pf.to_parquet('data/data_pf.pq')"
   ]
  },
  {
   "cell_type": "markdown",
   "metadata": {},
   "source": [
    "**Check error lists:**\n",
    "* By checking the error pages manually, we find that they are empty. Hence, we have not lost any data by skipping them.\n",
    "* By checking the error articles manually, we find that they have a different html structure. As it is only ~30 articles, we decide to drop them."
   ]
  },
  {
   "cell_type": "markdown",
   "metadata": {},
   "source": [
    "#### Scrape PeaceData:"
   ]
  },
  {
   "cell_type": "code",
   "execution_count": 12,
   "metadata": {},
   "outputs": [],
   "source": [
    "# Load file if it exists\n",
    "if os.path.exists('data/data_pd.pq'):\n",
    "    data_pd = pd.read_parquet('data/data_pd.pq')\n",
    "\n",
    "# Or download data\n",
    "else:\n",
    "    url_api = 'https://web.archive.org/cdx/search/dcx?url=peacedata.net&collapse=digest&from=20190101&to=20200930&output=json'\n",
    "    url_list_json = json.loads(requests.get(url_api).text)\n",
    "    url_list = ['https://web.archive.org/web/' + x[1] + '/' + x[2] for x in url_list_json[1:]]\n",
    "\n",
    "    pd_article_urls, page_errors = extract_urls_pd_pages(url_list, header, 0.5)\n",
    "\n",
    "    pd_articles, pd_article_errors = data_pd_fct(pd_article_urls, header, 0.5)\n",
    "    pd_articles_dfs_list = [pd.DataFrame(article, columns=['list_of_tags', 'sub_header', 'text_body', 'quote_href']) for article in pd_articles]\n",
    "    data_pd = pd.concat(pd_articles_dfs_list)\n",
    "    data_pd = data_pd.drop_duplicates('title').reset_index(drop=True)\n",
    "    data_pd.to_parquet('data/data_pd.pq')"
   ]
  },
  {
   "cell_type": "markdown",
   "metadata": {},
   "source": [
    "**Check error lists:**\n",
    "\n",
    "We encounter quite a few errors, which is due to the inconsistency of the HTML structure of the articles. Furhtermore, the dataset contains duplicates due to Wayback Machine's way of archiving. We decide to ignore the errors and drop duplicates."
   ]
  },
  {
   "cell_type": "markdown",
   "metadata": {},
   "source": [
    "## Data Structuring"
   ]
  },
  {
   "cell_type": "markdown",
   "metadata": {},
   "source": [
    "Define functions:"
   ]
  },
  {
   "cell_type": "code",
   "execution_count": 26,
   "metadata": {},
   "outputs": [],
   "source": [
    "def clean_text(document: str) -> str:\n",
    "    \"\"\" \n",
    "    Removes \"newline\" and \"wide-spacing\" code from string.\n",
    "\n",
    "    Input:\n",
    "    - - - - - - \n",
    "    document (str) : String to be cleaned \n",
    "\n",
    "    Output:\n",
    "    - - - - - - \n",
    "    document (str) : Cleaned string \n",
    "    \"\"\"\n",
    "    document = re.sub('\\n', '', document)\n",
    "    document = re.sub('\\xa0', '', document)\n",
    "    return document \n",
    "\n",
    "def description_date(document: str) -> datetime.datetime:\n",
    "    \"\"\"\" \n",
    "    Extracts date from the description variable in the PolitiFact dataset in datetime format.\n",
    "\n",
    "    Input:\n",
    "    - - - - - -\n",
    "    document (str) : String from which the date should be extracted.\n",
    "\n",
    "    Output: \n",
    "    - - - - - -\n",
    "    document (datetime.datetime) : The date in datetime format.\n",
    "    \"\"\"\n",
    "    document = re.sub('stated on ', '', document)\n",
    "    document = re.findall(r'[\\w]* [\\d]+, \\d\\d\\d\\d', document)[0]\n",
    "    document = datetime.datetime.strptime(document, '%B %d, %Y')\n",
    "    return document\n",
    "\n",
    "def description_forum(document: str) -> str:\n",
    "    \"\"\" \n",
    "    Extract the forum from the decription variable in the PolitiFact dataset.\n",
    "\n",
    "    Input:\n",
    "    - - - - - - \n",
    "    document (str) : String from which the forum should be extracted.\n",
    "\n",
    "    Output:\n",
    "    - - - - - - \n",
    "    document (str) : The forum in which the statement was made.\n",
    "    \"\"\"\n",
    "    document = re.sub(r'stated on [\\w]* [\\d]+, \\d\\d\\d\\d in ', '', document)\n",
    "    document = re.sub('\\.:', '', document)\n",
    "    document = re.sub(':', '', document)\n",
    "    document = re.sub(r'^[a][n]* ', '', document)\n",
    "    return document\n",
    "\n",
    "def footer_split(document: str) -> list:\n",
    "    \"\"\"\n",
    "    Auxiliary function that splits the footer variable in the PolitiFact dataset. \n",
    "\n",
    "    Input:\n",
    "    - - - - - - \n",
    "    document (str)  : The footer that should be split.\n",
    "\n",
    "    Output: \n",
    "    - - - - - - \n",
    "    document (list) : A list with the author and date of the article. \n",
    "    \"\"\"\n",
    "    document = re.sub('By ', '', document).split('•')\n",
    "    return document \n",
    "\n",
    "def remove_html(document: str) -> str:\n",
    "    \"\"\" \n",
    "    Removes HTML-code from the PeaceData dataset.\n",
    "\n",
    "    Input:\n",
    "    - - - - - - \n",
    "    document (str) : String to be cleaned. \n",
    "\n",
    "    Output: \n",
    "    - - - - - - \n",
    "    document (str) : Cleaned string. \n",
    "    \"\"\"\n",
    "    document = re.sub(\"a.*?>\", \"\", document) #Remove HTML\n",
    "    return document\n",
    "\n",
    "def get_date_pd(date_time_string: str) -> datetime.datetime:\n",
    "    \"\"\"\n",
    "    Extract the date of the PeaceData article.\n",
    "\n",
    "    Input:\n",
    "    - - - - - - \n",
    "    date_time_string (str) : String from which the date should be extracted.\n",
    "\n",
    "    Output:\n",
    "    - - - - - - \n",
    "    date_time_var (datetime.datetime) : The date in datetime format.\n",
    "    \"\"\"\n",
    "    base_url = 'https://web.archive.org/web/'\n",
    "    date_time_string = date_time_string.replace(base_url, \"\")\n",
    "    date_time_string = date_time_string.split(\"/\")\n",
    "    date_time_string = date_time_string[0][:8]\n",
    "    date_time_var = datetime.datetime.strptime(date_time_string, '%Y%m%d')\n",
    "    return date_time_var"
   ]
  },
  {
   "cell_type": "markdown",
   "metadata": {},
   "source": [
    "Structure PolitiFact data:"
   ]
  },
  {
   "cell_type": "code",
   "execution_count": 27,
   "metadata": {},
   "outputs": [],
   "source": [
    "if list(data_pf.columns) == ['URL', 'Date', 'Name', 'Name URL', 'Forum', 'Quote', 'Conclusion', 'Article', 'Meter', 'Article date', 'Tags']:\n",
    "    pass \n",
    "\n",
    "else:\n",
    "    # Clean text\n",
    "    data_pf['name_txt'] = data_pf['name_txt'].apply(clean_text)\n",
    "    data_pf['description_txt'] = data_pf['description_txt'].apply(clean_text)\n",
    "    data_pf['quote_txt'] = data_pf['quote_txt'].apply(clean_text)\n",
    "    data_pf['footer'] = data_pf['footer'].apply(clean_text)\n",
    "    data_pf['sub_header'] = data_pf['sub_header'].apply(clean_text)\n",
    "\n",
    "    # Extract description info\n",
    "    data_pf['description_date'] = data_pf['description_txt'].apply(description_date)\n",
    "    data_pf['description_forum'] = data_pf['description_txt'].apply(description_forum)\n",
    "    data_pf.drop('description_txt', axis=1, inplace=True)\n",
    "\n",
    "    # Extract footer info\n",
    "    data_pf['footer_split'] = data_pf['footer'].apply(footer_split)\n",
    "    data_pf['footer_date'] = [datetime.datetime.strptime(x[1].strip(), '%B %d, %Y') for x in data_pf['footer_split']]\n",
    "    data_pf.drop(['footer_split', 'footer'], axis=1, inplace=True)\n",
    "\n",
    "    # Drop sources, and order and rename columns \n",
    "    data_pf.rename(columns={'quote_href'         : 'URL', \n",
    "                            'description_date'   : 'Date', \n",
    "                            'name_txt'           : 'Name',\n",
    "                            'name_href'          : 'Name URL',\n",
    "                            'description_forum'  : 'Forum',\n",
    "                            'quote_txt'          : 'Quote',\n",
    "                            'sub_header'         : 'Conclusion',\n",
    "                            'text_body'          : 'Article',\n",
    "                            'meter'              : 'Meter',\n",
    "                            'footer_date'        : 'Article date',\n",
    "                            'tags'               : 'Tags'},\n",
    "                inplace=True)\n",
    "\n",
    "    # Reorder and save \n",
    "    data_pf = data_pf[['URL', 'Date', 'Name', 'Name URL', 'Forum', 'Quote', 'Conclusion', 'Article', 'Meter', 'Article date', 'Tags']]\n",
    "    data_pf.to_parquet('data/data_pf.pq')"
   ]
  },
  {
   "cell_type": "markdown",
   "metadata": {},
   "source": [
    "Structure PeaceData data:"
   ]
  },
  {
   "cell_type": "code",
   "execution_count": 28,
   "metadata": {},
   "outputs": [],
   "source": [
    "if list(data_pd.columns) == ['URL', 'Date', 'Title', 'Article', 'Tags']:\n",
    "    pass \n",
    "\n",
    "else:\n",
    "    # Slice article and clean\n",
    "    data_pd['Article'] = data_pd['text_body']\\\n",
    "                                    .apply(lambda x: ' '.join(x[2:-3]).strip())\\\n",
    "                                    .apply(clean_text)\\\n",
    "                                    .apply(remove_html)\n",
    "\n",
    "    #Get the dates of the articles (the time they were stored by web.archive.org!)\n",
    "    data_pd['Date'] = data_pd['url'].apply(get_date_pd)\n",
    "\n",
    "    # Rename columns\n",
    "    data_pd.rename(columns={'title': 'Title',\n",
    "                            'tags' : 'Tags',\n",
    "                            'url'  : 'URL'}, inplace=True)\n",
    "    # Reorder and save\n",
    "    data_pd = data_pd[['URL', 'Date', 'Title', 'Article', 'Tags']]\n",
    "    data_pd.to_parquet('data/data_pd.pq')"
   ]
  },
  {
   "cell_type": "markdown",
   "metadata": {},
   "source": [
    "## Descriptive Statistics"
   ]
  },
  {
   "cell_type": "markdown",
   "metadata": {},
   "source": [
    "### Figure 1:"
   ]
  },
  {
   "cell_type": "code",
   "execution_count": 16,
   "metadata": {},
   "outputs": [
    {
     "data": {
      "image/png": "[encoded data removed]",
      "text/plain": [
       "<Figure size 720x288 with 1 Axes>"
      ]
     },
     "metadata": {
      "needs_background": "light"
     },
     "output_type": "display_data"
    }
   ],
   "source": [
    "if not os.path.exists(os.getcwd() + '/figs/'):\n",
    "        os.makedirs(os.getcwd() + '/figs/')\n",
    "\n",
    "df_temp = data_pf.copy()\n",
    "\n",
    "df_temp['Year'] = df_temp['Date'].dt.year #make year collumn\n",
    "\n",
    "tags_by_year = {}\n",
    "\n",
    "# Extract and count tags used in article by year\n",
    "for year in df_temp['Year'].unique():\n",
    "    df_new=df_temp[df_temp['Year']==year]\n",
    "    tag_values = pd.Series([x for list in df_new['Tags'] for x in list]).value_counts()\n",
    "    tags_by_year[year] = tag_values #Make dictionary: Key = year. Value is number of tags used in articles \n",
    "   \n",
    "\n",
    "tags_by_year = dict(sorted(tags_by_year.items())) #Sort the dict by year\n",
    "tag_df = pd.DataFrame(tags_by_year).fillna(0) #Make df of the tag dict and fill NaN as 0\n",
    "\n",
    "#Extract the top 10 tags in the past five years\n",
    "top_10_tags = list(tag_df.iloc[:, -5:]\\\n",
    "    .sum(axis=1)\\\n",
    "    .nlargest(10)\\\n",
    "    .index\\\n",
    "    .values)\n",
    "\n",
    "top_10_tags = tag_df.loc[top_10_tags, :].iloc[:,-5:]\n",
    "\n",
    "fig1 = top_10_tags.plot(kind='barh', stacked=True, colormap='viridis')\n",
    "fig1.set_xlabel('No. tags used in article')\n",
    "plt.savefig('figs/fig1.pdf', bbox_inches = \"tight\")"
   ]
  },
  {
   "cell_type": "markdown",
   "metadata": {},
   "source": [
    "### Figure 2:"
   ]
  },
  {
   "cell_type": "code",
   "execution_count": 24,
   "metadata": {},
   "outputs": [
    {
     "data": {
      "image/png": "[encoded data removed]",
      "text/plain": [
       "<Figure size 720x288 with 1 Axes>"
      ]
     },
     "metadata": {
      "needs_background": "light"
     },
     "output_type": "display_data"
    }
   ],
   "source": [
    "ax = pd.crosstab(index=data_pf['Date'], columns=data_pf['Meter'])\\\n",
    "        .cumsum(axis=0)\\\n",
    "            [['true', 'mostly-true', 'half-true', 'barely-true', 'false', 'pants-fire']]\\\n",
    "                .plot(colormap='seismic')\n",
    "ax.set_xlim(pd.Timestamp('2012-01-01'), pd.Timestamp('2022-08-31'))\n",
    "ax.legend(['true', 'mostly-true', 'half-true', 'barely-true', 'false', 'pants-fire'], frameon=True)\n",
    "plt.savefig('figs/fig2.pdf')"
   ]
  },
  {
   "cell_type": "markdown",
   "metadata": {},
   "source": [
    "### Figure 3:"
   ]
  },
  {
   "cell_type": "code",
   "execution_count": 29,
   "metadata": {},
   "outputs": [
    {
     "data": {
      "image/png": "[encoded data removed]",
      "text/plain": [
       "<Figure size 720x288 with 1 Axes>"
      ]
     },
     "metadata": {
      "needs_background": "light"
     },
     "output_type": "display_data"
    }
   ],
   "source": [
    "tag_values = pd.Series([x for list in data_pd['Tags'] for x in list]).value_counts()\n",
    "\n",
    "fig3 = tag_values[:5].plot(kind='barh', color=['tab:blue', 'tab:blue', 'tab:red', 'tab:red', 'tab:green'])\n",
    "fig3.set_xlabel('No. of tags used in articles')\n",
    "plt.savefig('figs/fig3.pdf', bbox_inches='tight')"
   ]
  },
  {
   "cell_type": "markdown",
   "metadata": {},
   "source": [
    "### Figure 4:"
   ]
  },
  {
   "cell_type": "code",
   "execution_count": 36,
   "metadata": {},
   "outputs": [
    {
     "data": {
      "image/png": "[encoded data removed]",
      "text/plain": [
       "<Figure size 864x360 with 2 Axes>"
      ]
     },
     "metadata": {
      "needs_background": "light"
     },
     "output_type": "display_data"
    }
   ],
   "source": [
    "def word_count_prep(document: str) -> str:\n",
    "    \"\"\" \n",
    "    Prepare article and quote data for figure 4. \n",
    "\n",
    "    Input:\n",
    "    - - - - - -\n",
    "    document (str) : String to be prepared\n",
    "\n",
    "    Output: \n",
    "    - - - - - - \n",
    "    document (str) : Prepared string.\n",
    "    \"\"\"\n",
    "    # Lowercase and remove non-alphanumeric characters\n",
    "    document = document.lower()\n",
    "    document = re.sub(r'[^\\w\\s]', ' ', document)\n",
    "    # Tokenize \n",
    "    document_tokens = nltk.tokenize.word_tokenize(document)\n",
    "    # Delete stop-words\n",
    "    document_nostop = [i for i in document_tokens if i not in nltk.corpus.stopwords.words('english')]\n",
    "\n",
    "    return document_nostop\n",
    "\n",
    "lemz_pdn = data_pd['Article'].apply(word_count_prep)\n",
    "lemz_pf = data_pf['Quote'].apply(word_count_prep)\n",
    "\n",
    "all_words_pdn = []\n",
    "for word_list in lemz_pdn:\n",
    "    all_words_pdn += word_list\n",
    "mostcommon_pdn = nltk.probability.FreqDist(all_words_pdn).most_common(5)\n",
    "\n",
    "all_words_pf = []\n",
    "for word_list in lemz_pf:\n",
    "    all_words_pf += word_list\n",
    "mostcommon_pf = nltk.probability.FreqDist(all_words_pf).most_common(5)\n",
    "\n",
    "x_pdn, y_pdn = zip(*mostcommon_pdn)\n",
    "x_pf, y_pf = zip(*mostcommon_pf)\n",
    "\n",
    "f_words, ax = plt.subplots(1,2, figsize=(12, 5))\n",
    "ax[0].bar(x_pf, y_pf, color='tab:blue')\n",
    "ax[0].set_title(\"PolitiFact.com\")\n",
    "ax[0].set_ylabel('Word count')\n",
    "ax[1].bar(x_pdn, y_pdn, color='tab:green')\n",
    "ax[1].set_title(\"Peacedata.net\")\n",
    "ax[1].set_ylabel('Word count')\n",
    "plt.savefig('figs/fig4.pdf', bbox_inches='tight')"
   ]
  },
  {
   "cell_type": "markdown",
   "metadata": {},
   "source": [
    "## Methodology"
   ]
  },
  {
   "cell_type": "markdown",
   "metadata": {},
   "source": [
    "Define functions: "
   ]
  },
  {
   "cell_type": "code",
   "execution_count": 30,
   "metadata": {},
   "outputs": [],
   "source": [
    "def partition(df: pd.DataFrame, true: list, fake: list) -> pd.DataFrame:\n",
    "    \"\"\" \n",
    "    Makes a partition of the PolitiFact dataset based on input lists on how to classify true and fake.\n",
    "\n",
    "    Input:\n",
    "    - - - - - - \n",
    "    df (pd.DataFrame) : DataFrame to be partitioned.\n",
    "    true (list)       : A list of categories to classify as true.\n",
    "    fake (list)       : A list of categories to classify as fake.\n",
    "\n",
    "    Output: \n",
    "    - - - - - - \n",
    "    part (pd.DataFrame) : A partitioned DataFrame.\n",
    "    \"\"\"\n",
    "    part = df[df['Meter'].isin(true + fake)]\n",
    "    part['Fake'] = part['Meter'].isin(fake).astype(int)\n",
    "\n",
    "    return part\n",
    "\n",
    "def prepare(document: str) -> str:\n",
    "    \"\"\" \n",
    "    Applies lowercase, removes non-alphanumeric character, tokenizes, \\n\n",
    "    removes stopwords and lemmatized a string to prepare for analysis.\n",
    "\n",
    "    Input:\n",
    "    - - - - - -\n",
    "    document (str) : String to be prepared.\n",
    "\n",
    "    Output:\n",
    "    - - - - - - \n",
    "    document (str) : Prepared string.\n",
    "    \"\"\"\n",
    "\n",
    "    # Lowercase and remove non-alphanumeric characters\n",
    "    document = document.lower()\n",
    "    document = re.sub(r'[^\\w\\s]', ' ', document)\n",
    "\n",
    "    # Tokenize \n",
    "    document_tokens = nltk.tokenize.word_tokenize(document)\n",
    "\n",
    "    # Delete stop-words\n",
    "    document_nostop = [i for i in document_tokens if i not in nltk.corpus.stopwords.words('english')]\n",
    "\n",
    "    # Lemmatize \n",
    "    document_lemmatized = [nltk.WordNetLemmatizer().lemmatize(i) for i in document_nostop]\n",
    "    \n",
    "    # Covert from list back to string \n",
    "    document = ' '.join(document_lemmatized)\n",
    "    \n",
    "    return document "
   ]
  },
  {
   "cell_type": "markdown",
   "metadata": {},
   "source": [
    "### Partitioning:"
   ]
  },
  {
   "cell_type": "code",
   "execution_count": 33,
   "metadata": {},
   "outputs": [],
   "source": [
    "part1 = partition(data_pf, ['true'], ['pants-fire'])\n",
    "X1 = part1['Quote'].apply(prepare).values \n",
    "y1 = part1['Fake'].values\n",
    "\n",
    "part2 = partition(data_pf, ['true', 'mostly-true'], ['pants-fire', 'false'])\n",
    "X2 = part2['Quote'].apply(prepare).values \n",
    "y2 = part2['Fake'].values\n",
    "\n",
    "part3 = partition(data_pf, ['true', 'mostly-true', 'half-true'], ['pants-fire', 'false', 'barely-true'])\n",
    "X3 = part3['Quote'].apply(prepare).values \n",
    "y3 = part3['Fake'].values"
   ]
  },
  {
   "cell_type": "markdown",
   "metadata": {},
   "source": [
    "Make development and training sets, and then training and validation sets:"
   ]
  },
  {
   "cell_type": "code",
   "execution_count": 34,
   "metadata": {},
   "outputs": [],
   "source": [
    "X1_dev, X1_test, y1_dev, y1_test = train_test_split(X1, y1, test_size=1/3, random_state=1337)\n",
    "X1_train, X1_val1, y1_train, y1_val = train_test_split(X1, y1, test_size=1/2, random_state=1337)\n",
    "\n",
    "X2_dev, X2_test, y2_dev, y2_test = train_test_split(X2, y2, test_size=1/3, random_state=1337)\n",
    "X2_train, X2_val, y2_train, y2_val = train_test_split(X2, y2, test_size=1/2, random_state=1337)\n",
    "\n",
    "X3_dev, X3_test, y3_dev, y3_test = train_test_split(X3, y3, test_size=1/3, random_state=1337)\n",
    "X3_train, X3_val, y3_train, y3_val = train_test_split(X3, y3, test_size=1/2, random_state=1337)"
   ]
  },
  {
   "cell_type": "markdown",
   "metadata": {},
   "source": [
    "### Learning curve"
   ]
  },
  {
   "cell_type": "markdown",
   "metadata": {},
   "source": [
    "Make pipeline:"
   ]
  },
  {
   "cell_type": "code",
   "execution_count": 39,
   "metadata": {},
   "outputs": [],
   "source": [
    "pipe = make_pipeline(TfidfVectorizer(), LogisticRegression())"
   ]
  },
  {
   "cell_type": "markdown",
   "metadata": {},
   "source": [
    "Calculate learning curves:"
   ]
  },
  {
   "cell_type": "code",
   "execution_count": 40,
   "metadata": {},
   "outputs": [],
   "source": [
    "train_sizes1, train_scores1, test_scores1 = \\\n",
    "    learning_curve(estimator=pipe,\n",
    "                   X=X1_dev,\n",
    "                   y=y1_dev,\n",
    "                   train_sizes=np.arange(0.05, 1.05, .05),\n",
    "                   scoring='accuracy',                 \n",
    "                   cv=10)\n",
    "\n",
    "train_sizes2, train_scores2, test_scores2 = \\\n",
    "    learning_curve(estimator=pipe,\n",
    "                   X=X2_dev,\n",
    "                   y=y2_dev,\n",
    "                   train_sizes=np.arange(0.05, 1.05, .05),\n",
    "                   scoring='accuracy',                 \n",
    "                   cv=10)\n",
    "\n",
    "train_sizes3, train_scores3, test_scores3 = \\\n",
    "    learning_curve(estimator=pipe,\n",
    "                   X=X3_dev,\n",
    "                   y=y3_dev,\n",
    "                   train_sizes=np.arange(0.05, 1.05, .05),\n",
    "                   scoring='accuracy',                 \n",
    "                   cv=10)"
   ]
  },
  {
   "cell_type": "markdown",
   "metadata": {},
   "source": [
    "### Figure 5:"
   ]
  },
  {
   "cell_type": "code",
   "execution_count": 41,
   "metadata": {},
   "outputs": [
    {
     "data": {
      "image/png": "[encoded data removed]",
      "text/plain": [
       "<Figure size 720x864 with 3 Axes>"
      ]
     },
     "metadata": {
      "needs_background": "light"
     },
     "output_type": "display_data"
    }
   ],
   "source": [
    "f_learn, ax = plt.subplots(3, 1, figsize=(10, 12))\n",
    "\n",
    "ax[0].fill_between(train_sizes1, test_scores1.min(1), test_scores1.max(1), alpha=0.25, label ='Test', color='blue')\n",
    "ax[0].fill_between(train_sizes1, train_scores1.min(1), train_scores1.max(1),  alpha=0.25, label='Train', color='orange')\n",
    "ax[0].set_title(\"['true'] vs ['pants-fire']\")\n",
    "ax[0].set_ylabel('Accuracy')\n",
    "ax[0].set_ylim([0.5,1])\n",
    "ax[0].legend(frameon=True)\n",
    "\n",
    "ax[1].fill_between(train_sizes2, test_scores2.min(1), test_scores2.max(1), alpha=0.25, label ='Test', color='blue')\n",
    "ax[1].fill_between(train_sizes2, train_scores2.min(1), train_scores2.max(1),  alpha=0.25, label='Train', color='orange')\n",
    "ax[1].set_title(\"['true', 'mostly-true'], ['pants-fire', 'false']\")\n",
    "ax[1].set_ylabel('Accuracy')\n",
    "ax[1].set_ylim([0.5,1])\n",
    "ax[1].legend(frameon=True)\n",
    "\n",
    "ax[2].fill_between(train_sizes3, test_scores3.min(1), test_scores3.max(1), alpha=0.25, label ='Test', color='blue')\n",
    "ax[2].fill_between(train_sizes3, train_scores3.min(1), train_scores3.max(1),  alpha=0.25, label='Train', color='orange')\n",
    "ax[2].set_title(\"['true', 'mostly-true', 'half-true'] vs ['pants-fire', 'false', 'barely-true']\")\n",
    "ax[2].set_ylabel('Accuracy')\n",
    "ax[2].set_ylim([0.5,1])\n",
    "ax[2].set_xlabel('Train sizes')\n",
    "ax[2].legend(frameon=True)\n",
    "f_learn.suptitle('Range of performance (min, max)');\n",
    "plt.savefig('figs/fig5.pdf', bbox_inches='tight')"
   ]
  },
  {
   "cell_type": "markdown",
   "metadata": {},
   "source": [
    "### Validation curve:\n",
    "Calculate validation curves:"
   ]
  },
  {
   "cell_type": "code",
   "execution_count": 43,
   "metadata": {},
   "outputs": [],
   "source": [
    "lambdas = np.logspace(-4, 4, 50)\n",
    "Cs = 1/lambdas \n",
    "\n",
    "train_scores1_vc, test_scores1_vc = \\\n",
    "    validation_curve(estimator=pipe,\n",
    "                     X=X1_dev,\n",
    "                     y=y1_dev,\n",
    "                     param_name='logisticregression__C', #built-in name of hyperparameter\n",
    "                     param_range=lambdas, #values to consider\n",
    "                     scoring='accuracy',                 \n",
    "                     cv=10)\n",
    "\n",
    "train_scores2_vc, test_scores2_vc = \\\n",
    "    validation_curve(estimator=pipe,\n",
    "                     X=X2_dev,\n",
    "                     y=y2_dev,\n",
    "                     param_name='logisticregression__C', #built-in name of hyperparameter\n",
    "                     param_range=lambdas, #values to consider\n",
    "                     scoring='accuracy',                 \n",
    "                     cv=10)\n",
    "\n",
    "train_scores3_vc, test_scores3_vc = \\\n",
    "    validation_curve(estimator=pipe,\n",
    "                     X=X3_dev,\n",
    "                     y=y3_dev,\n",
    "                     param_name='logisticregression__C', #built-in name of hyperparameter\n",
    "                     param_range=lambdas, #values to consider\n",
    "                     scoring='accuracy',                 \n",
    "                     cv=10)                 "
   ]
  },
  {
   "cell_type": "markdown",
   "metadata": {},
   "source": [
    "### Figure 6"
   ]
  },
  {
   "cell_type": "code",
   "execution_count": 44,
   "metadata": {},
   "outputs": [
    {
     "data": {
      "image/png": "[encoded data removed]",
      "text/plain": [
       "<Figure size 720x864 with 3 Axes>"
      ]
     },
     "metadata": {
      "needs_background": "light"
     },
     "output_type": "display_data"
    }
   ],
   "source": [
    "best_acc1 = max(test_scores1_vc.mean(axis=1))\n",
    "best_lambda1 = 1/Cs[np.where(test_scores1_vc.mean(axis=1) == best_acc1)]\n",
    "best_acc2 = max(test_scores2_vc.mean(axis=1))\n",
    "best_lambda2 = 1/Cs[np.where(test_scores2_vc.mean(axis=1) == best_acc2)]\n",
    "best_acc3 = max(test_scores3_vc.mean(axis=1))\n",
    "best_lambda3 = 1/Cs[np.where(test_scores3_vc.mean(axis=1) == best_acc3)]\n",
    "\n",
    "f_learn, ax = plt.subplots(3, 1, figsize=(10, 12), sharex=True)\n",
    "\n",
    "ax[0].fill_between(1/Cs, test_scores1_vc.min(1), test_scores1_vc.max(1), alpha=0.25, label ='Test', color='blue')\n",
    "ax[0].fill_between(1/Cs, train_scores1_vc.min(1), train_scores1_vc.max(1),  alpha=0.25, label='Train', color='orange')\n",
    "ax[0].scatter(best_lambda1, best_acc1, label='Optimal $\\lambda$', color='blue')\n",
    "ax[0].set_title(\"['true'] vs ['pants-fire']\")\n",
    "ax[0].set_ylabel('Accuracy')\n",
    "ax[0].set_ylim([0.5,1.1])\n",
    "ax[0].set_xscale('log')\n",
    "ax[0].legend(loc='upper right', frameon=True)\n",
    "\n",
    "ax[1].fill_between(1/Cs, test_scores2_vc.min(1), test_scores2_vc.max(1), alpha=0.25, label ='Test', color='blue')\n",
    "ax[1].fill_between(1/Cs, train_scores2_vc.min(1), train_scores2_vc.max(1),  alpha=0.25, label='Train', color='orange')\n",
    "ax[1].scatter(best_lambda2, best_acc2, label='Optimal $\\lambda$', color='blue')\n",
    "ax[1].set_title(\"['true', 'mostly-true'], ['pants-fire', 'false']\")\n",
    "ax[1].set_ylabel('Accuracy')\n",
    "ax[1].set_ylim([0.5,1.1])\n",
    "ax[1].set_xscale('log')\n",
    "ax[1].legend(loc='upper right', frameon=True)\n",
    "\n",
    "ax[2].fill_between(1/Cs, test_scores3_vc.min(1), test_scores3_vc.max(1), alpha=0.25, label ='Test', color='blue')\n",
    "ax[2].fill_between(1/Cs, train_scores3_vc.min(1), train_scores3_vc.max(1),  alpha=0.25, label='Train', color='orange')\n",
    "ax[2].scatter(best_lambda3, best_acc3, label='Optimal $\\lambda$', color='blue')\n",
    "ax[2].set_title(\"['true', 'mostly-true', 'half-true'] vs ['pants-fire', 'false', 'barely-true']\")\n",
    "ax[2].set_ylabel('Accuracy')\n",
    "ax[2].set_ylim([0.5,1.1])\n",
    "ax[2].set_xscale('log')\n",
    "ax[2].set_xlabel('1/Cs, $\\lambda$')\n",
    "ax[2].legend(loc='upper right', frameon=True)\n",
    "\n",
    "f_learn.suptitle('Range of performance (min, max)');\n",
    "plt.savefig('figs/fig6.pdf', bbox_inches='tight')"
   ]
  },
  {
   "cell_type": "markdown",
   "metadata": {},
   "source": [
    "### Table 2:"
   ]
  },
  {
   "cell_type": "code",
   "execution_count": 48,
   "metadata": {},
   "outputs": [
    {
     "data": {
      "text/html": [
       "<div>\n",
       "<style scoped>\n",
       "    .dataframe tbody tr th:only-of-type {\n",
       "        vertical-align: middle;\n",
       "    }\n",
       "\n",
       "    .dataframe tbody tr th {\n",
       "        vertical-align: top;\n",
       "    }\n",
       "\n",
       "    .dataframe thead th {\n",
       "        text-align: right;\n",
       "    }\n",
       "</style>\n",
       "<table border=\"1\" class=\"dataframe\">\n",
       "  <thead>\n",
       "    <tr style=\"text-align: right;\">\n",
       "      <th></th>\n",
       "      <th>$Model_1$</th>\n",
       "      <th>$Model_2$</th>\n",
       "      <th>$Model_3$</th>\n",
       "    </tr>\n",
       "  </thead>\n",
       "  <tbody>\n",
       "    <tr>\n",
       "      <th>0</th>\n",
       "      <td>1.758</td>\n",
       "      <td>1.207</td>\n",
       "      <td>0.569</td>\n",
       "    </tr>\n",
       "    <tr>\n",
       "      <th>1</th>\n",
       "      <td>0.764</td>\n",
       "      <td>0.722</td>\n",
       "      <td>0.668</td>\n",
       "    </tr>\n",
       "  </tbody>\n",
       "</table>\n",
       "</div>"
      ],
      "text/plain": [
       "   $Model_1$  $Model_2$  $Model_3$\n",
       "0      1.758      1.207      0.569\n",
       "1      0.764      0.722      0.668"
      ]
     },
     "execution_count": 48,
     "metadata": {},
     "output_type": "execute_result"
    }
   ],
   "source": [
    "pd.DataFrame({'$Model_1$': [best_lambda1[0], best_acc1], '$Model_2$': [best_lambda2[0], best_acc2], '$Model_3$': [best_lambda3[0], best_acc3]}, np.arange(2)).round(3)\n",
    "#print(pd.DataFrame({'$Model_1$': [best_lambda1[0], best_acc1], '$Model_2$': [best_lambda2[0], best_acc2], '$Model_3$': [best_lambda3[0], best_acc3]}, np.arange(2)).round(3).to_latex())"
   ]
  },
  {
   "cell_type": "markdown",
   "metadata": {},
   "source": [
    "## Results\n",
    "### Figure 7:"
   ]
  },
  {
   "cell_type": "code",
   "execution_count": 49,
   "metadata": {},
   "outputs": [
    {
     "data": {
      "image/png": "[encoded data removed]",
      "text/plain": [
       "<Figure size 720x288 with 2 Axes>"
      ]
     },
     "metadata": {
      "needs_background": "light"
     },
     "output_type": "display_data"
    }
   ],
   "source": [
    "lr = LogisticRegression(random_state=1337, C=1/best_lambda2[0])\n",
    "tfidf = TfidfVectorizer()\n",
    "\n",
    "X2_dev_bag = tfidf.fit_transform(X2_dev)\n",
    "X2_test_bag = tfidf.transform(X2_test)\n",
    "\n",
    "lr_fake_news = lr.fit(X2_dev_bag, y2_dev)\n",
    "\n",
    "ConfusionMatrixDisplay.from_estimator(lr, X2_test_bag, y2_test)\n",
    "plt.grid(False)\n",
    "plt.savefig('figs/fig7.pdf', bbox_inches='tight')"
   ]
  },
  {
   "cell_type": "markdown",
   "metadata": {},
   "source": [
    "### Table 3:"
   ]
  },
  {
   "cell_type": "code",
   "execution_count": 80,
   "metadata": {},
   "outputs": [
    {
     "data": {
      "text/html": [
       "<div>\n",
       "<style scoped>\n",
       "    .dataframe tbody tr th:only-of-type {\n",
       "        vertical-align: middle;\n",
       "    }\n",
       "\n",
       "    .dataframe tbody tr th {\n",
       "        vertical-align: top;\n",
       "    }\n",
       "\n",
       "    .dataframe thead th {\n",
       "        text-align: right;\n",
       "    }\n",
       "</style>\n",
       "<table border=\"1\" class=\"dataframe\">\n",
       "  <thead>\n",
       "    <tr style=\"text-align: right;\">\n",
       "      <th></th>\n",
       "      <th>index</th>\n",
       "      <th>0</th>\n",
       "      <th>index2</th>\n",
       "      <th>coef2</th>\n",
       "    </tr>\n",
       "  </thead>\n",
       "  <tbody>\n",
       "    <tr>\n",
       "      <th>0</th>\n",
       "      <td>biden</td>\n",
       "      <td>3.531248</td>\n",
       "      <td>percent</td>\n",
       "      <td>-3.200751</td>\n",
       "    </tr>\n",
       "    <tr>\n",
       "      <th>1</th>\n",
       "      <td>show</td>\n",
       "      <td>3.000789</td>\n",
       "      <td>since</td>\n",
       "      <td>-2.627194</td>\n",
       "    </tr>\n",
       "    <tr>\n",
       "      <th>2</th>\n",
       "      <td>vaccine</td>\n",
       "      <td>2.700587</td>\n",
       "      <td>state</td>\n",
       "      <td>-2.261100</td>\n",
       "    </tr>\n",
       "    <tr>\n",
       "      <th>3</th>\n",
       "      <td>covid</td>\n",
       "      <td>2.477815</td>\n",
       "      <td>half</td>\n",
       "      <td>-2.223612</td>\n",
       "    </tr>\n",
       "    <tr>\n",
       "      <th>4</th>\n",
       "      <td>photo</td>\n",
       "      <td>2.093376</td>\n",
       "      <td>growth</td>\n",
       "      <td>-1.899804</td>\n",
       "    </tr>\n",
       "    <tr>\n",
       "      <th>5</th>\n",
       "      <td>pelosi</td>\n",
       "      <td>1.921549</td>\n",
       "      <td>le</td>\n",
       "      <td>-1.876769</td>\n",
       "    </tr>\n",
       "    <tr>\n",
       "      <th>6</th>\n",
       "      <td>coronavirus</td>\n",
       "      <td>1.743103</td>\n",
       "      <td>three</td>\n",
       "      <td>-1.845938</td>\n",
       "    </tr>\n",
       "    <tr>\n",
       "      <th>7</th>\n",
       "      <td>arrested</td>\n",
       "      <td>1.652141</td>\n",
       "      <td>nation</td>\n",
       "      <td>-1.738071</td>\n",
       "    </tr>\n",
       "    <tr>\n",
       "      <th>8</th>\n",
       "      <td>say</td>\n",
       "      <td>1.625473</td>\n",
       "      <td>million</td>\n",
       "      <td>-1.737806</td>\n",
       "    </tr>\n",
       "    <tr>\n",
       "      <th>9</th>\n",
       "      <td>democrat</td>\n",
       "      <td>1.607758</td>\n",
       "      <td>six</td>\n",
       "      <td>-1.716481</td>\n",
       "    </tr>\n",
       "  </tbody>\n",
       "</table>\n",
       "</div>"
      ],
      "text/plain": [
       "         index         0   index2     coef2\n",
       "0        biden  3.531248  percent -3.200751\n",
       "1         show  3.000789    since -2.627194\n",
       "2      vaccine  2.700587    state -2.261100\n",
       "3        covid  2.477815     half -2.223612\n",
       "4        photo  2.093376   growth -1.899804\n",
       "5       pelosi  1.921549       le -1.876769\n",
       "6  coronavirus  1.743103    three -1.845938\n",
       "7     arrested  1.652141   nation -1.738071\n",
       "8          say  1.625473  million -1.737806\n",
       "9     democrat  1.607758      six -1.716481"
      ]
     },
     "execution_count": 80,
     "metadata": {},
     "output_type": "execute_result"
    }
   ],
   "source": [
    "features = ['_'.join(s.split()) for s in tfidf.get_feature_names_out()]\n",
    "coefficients = lr.coef_\n",
    "coefs_df = pd.DataFrame.from_records(coefficients, columns=features)\n",
    "\n",
    "a = coefs_df.T.nlargest(10, 0).reset_index()\n",
    "b = coefs_df.T.nsmallest(10, 0).reset_index()\n",
    "b.columns = ['index2', 'coef2']\n",
    "c = pd.merge(a, b, 'left', left_index=True, right_index=True)\n",
    "c\n",
    "#print(c.to_latex())"
   ]
  },
  {
   "cell_type": "markdown",
   "metadata": {},
   "source": [
    "### Table 4:"
   ]
  },
  {
   "cell_type": "code",
   "execution_count": 53,
   "metadata": {},
   "outputs": [
    {
     "data": {
      "text/html": [
       "<div>\n",
       "<style scoped>\n",
       "    .dataframe tbody tr th:only-of-type {\n",
       "        vertical-align: middle;\n",
       "    }\n",
       "\n",
       "    .dataframe tbody tr th {\n",
       "        vertical-align: top;\n",
       "    }\n",
       "\n",
       "    .dataframe thead th {\n",
       "        text-align: right;\n",
       "    }\n",
       "</style>\n",
       "<table border=\"1\" class=\"dataframe\">\n",
       "  <thead>\n",
       "    <tr style=\"text-align: right;\">\n",
       "      <th></th>\n",
       "      <th>Most fake article</th>\n",
       "      <th>Most true article</th>\n",
       "    </tr>\n",
       "  </thead>\n",
       "  <tbody>\n",
       "    <tr>\n",
       "      <th>0</th>\n",
       "      <td>MAU MAU UPRISING AND THE VIOLENT BLOODY REPRES...</td>\n",
       "      <td>US Workers, Minorities Continuously Face Housi...</td>\n",
       "    </tr>\n",
       "    <tr>\n",
       "      <th>1</th>\n",
       "      <td>0.945264</td>\n",
       "      <td>0.047514</td>\n",
       "    </tr>\n",
       "  </tbody>\n",
       "</table>\n",
       "</div>"
      ],
      "text/plain": [
       "                                   Most fake article  \\\n",
       "0  MAU MAU UPRISING AND THE VIOLENT BLOODY REPRES...   \n",
       "1                                           0.945264   \n",
       "\n",
       "                                   Most true article  \n",
       "0  US Workers, Minorities Continuously Face Housi...  \n",
       "1                                           0.047514  "
      ]
     },
     "execution_count": 53,
     "metadata": {},
     "output_type": "execute_result"
    }
   ],
   "source": [
    "X_pdn = data_pd['Article'].apply(prepare).values #Cleaning our PeaceData.net data, like we did with PolitiFact.com\n",
    "pdn_bag = tfidf.transform(X_pdn) #Make our bag of words\n",
    "pdn_preds = lr.predict_proba(pdn_bag) #From our previously fitted model on PolitiFact.com, we predict the probabilities of fake or true news\n",
    "pdn_preds_df = pd.DataFrame(pdn_preds) #We then make a dataframe from our predictions. Our predictions are an array.\n",
    "\n",
    "most_true_article_pdn_index = pdn_preds_df[0].idxmax() #Returns the index of the article w/ highest prob of being 'true'\n",
    "most_true_article_pdn_prob = 1-pdn_preds_df[0].max() #Returns the lowest probability value for a fake article \n",
    "most_true_article_pdn_URL = data_pd['URL'].loc[most_true_article_pdn_index] #Returns the URL for the most true article\n",
    "most_true_article_pdn_title = data_pd['Title'].loc[most_true_article_pdn_index] #Returns the title for the most true article\n",
    "\n",
    "most_fake_article_pdn_index = pdn_preds_df[1].idxmax() #Returns the index of the article w/ highest prob of being 'fake'\n",
    "most_fake_article_pdn_prob = pdn_preds_df[1].max() #Returns the highest probability value for a fake article\n",
    "most_fake_article_pdn_URL = data_pd['URL'].loc[most_fake_article_pdn_index] #Returns the URL for the most true article\n",
    "most_fake_article_pdn_title = data_pd['Title'].loc[most_fake_article_pdn_index] #Returns the URL for the most true article\n",
    "\n",
    "#Make Latex table\n",
    "pd.DataFrame({'Most fake article': [most_fake_article_pdn_title, most_fake_article_pdn_prob],\\\n",
    "     'Most true article': [most_true_article_pdn_title, most_true_article_pdn_prob]}, np.arange(2))\n",
    "#print(pd.DataFrame({'Most fake article': [most_fake_article_pdn_title, most_fake_article_pdn_prob],\\\n",
    "#     'Most true article': [most_true_article_pdn_title, most_true_article_pdn_prob]}, np.arange(2)).to_latex())"
   ]
  },
  {
   "cell_type": "markdown",
   "metadata": {},
   "source": [
    "### Table 4:"
   ]
  },
  {
   "cell_type": "code",
   "execution_count": 54,
   "metadata": {},
   "outputs": [
    {
     "name": "stdout",
     "output_type": "stream",
     "text": [
      "Count of \"fake news\" at PeaceData.net: 88 \n",
      "Count of \"true news\" at PeaceData.net: 66\n"
     ]
    }
   ],
   "source": [
    "pdn_list = []\n",
    "\n",
    "i=0\n",
    "for prob in pdn_preds:\n",
    "    if (prob[0]>prob[1]):\n",
    "        pdn_list.append('True')\n",
    "    elif (prob[1]>prob[0]):\n",
    "        pdn_list.append('Fake')\n",
    "    i=+1\n",
    "fake_count_pdn = pdn_list.count('Fake')\n",
    "true_count_pdn = pdn_list.count('True') \n",
    "\n",
    "print('Count of \"fake news\" at PeaceData.net:', fake_count_pdn, '\\nCount of \"true news\" at PeaceData.net:', true_count_pdn)"
   ]
  },
  {
   "cell_type": "markdown",
   "metadata": {},
   "source": [
    "Gimmick: Test our own paper"
   ]
  },
  {
   "cell_type": "code",
   "execution_count": 63,
   "metadata": {},
   "outputs": [
    {
     "name": "stdout",
     "output_type": "stream",
     "text": [
      "Our paper is fake news with a probability of  68.0 pct.!\n"
     ]
    }
   ],
   "source": [
    "try:\n",
    "    with open('data/our_text.txt') as f:\n",
    "        our_text = f.readlines()\n",
    "    prob = lr.predict_proba(tfidf.transform([prepare(clean_text(our_text[0]))]))\n",
    "    print('Our paper is fake news with a probability of ', 100 * round(prob[0][1], 2), 'pct.!')\n",
    "except:\n",
    "    pass"
   ]
  }
 ],
 "metadata": {
  "kernelspec": {
   "display_name": "Python 3.9.12 ('base')",
   "language": "python",
   "name": "python3"
  },
  "language_info": {
   "codemirror_mode": {
    "name": "ipython",
    "version": 3
   },
   "file_extension": ".py",
   "mimetype": "text/x-python",
   "name": "python",
   "nbconvert_exporter": "python",
   "pygments_lexer": "ipython3",
   "version": "3.9.12"
  },
  "orig_nbformat": 4,
  "vscode": {
   "interpreter": {
    "hash": "5559e38aaa1a46293ac94fc6af3e6c13e1ce8b596ee75d4ce8712132156e5245"
   }
  }
 },
 "nbformat": 4,
 "nbformat_minor": 2
}
